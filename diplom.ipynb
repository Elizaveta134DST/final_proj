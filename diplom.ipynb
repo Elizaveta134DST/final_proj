{
  "cells": [
    {
      "cell_type": "markdown",
      "metadata": {
        "id": "ryccrVONrmrH"
      },
      "source": [
        "# **Дипломный проект**\n",
        "# **Модель прогнозирования стоимости жилья для агентства недвижимости**\n",
        "\n",
        "Цель работы: разработать модель, которая помогла бы агентству недвижимости более быстро обрабатывать объявления и увеличить количество сделок и доход компании."
      ]
    },
    {
      "cell_type": "markdown",
      "metadata": {
        "id": "0LSeUwk-Bltx"
      },
      "source": [
        "Описание данных:\n",
        "\n",
        "*   status — статус продажи;\n",
        "*   private pool и PrivatePool — наличие собственного бассейна;\n",
        "*   propertyType - тип объекта недвижимости;\n",
        "*   street — адрес объекта;\n",
        "*   baths — количество ванных комнат;\n",
        "*   homeFacts — сведения о строительстве объекта (содержит несколько типов сведений, влияющих на оценку объекта);\n",
        "*   fireplace — наличие камина;\n",
        "*   city — город;\n",
        "*   schools — сведения о школах в районе;\n",
        "*   sqft — площадь в футах;\n",
        "*   zipcode — почтовый индекс;\n",
        "*   beds — количество спален;\n",
        "*   state — штат;\n",
        "*   stories — количество этажей;\n",
        "*   mls-id и MlsId — идентификатор MLS (Multiple Listing Service, система мультилистинга);\n",
        "*   target — цена объекта недвижимости (целевой признак, который необходимо спрогнозировать).\n",
        "\n",
        "\n"
      ]
    },
    {
      "cell_type": "markdown",
      "metadata": {
        "id": "JUivq8muVgkI"
      },
      "source": [
        "Импортируем необходимые библиотеки."
      ]
    },
    {
      "cell_type": "code",
      "execution_count": 4,
      "metadata": {
        "id": "cLtWmW0OqrXv"
      },
      "outputs": [],
      "source": [
        "import pandas as pd\n",
        "import numpy as np\n",
        "import sweetviz as sv\n",
        "import re\n",
        "import matplotlib.pyplot as plt\n",
        "import seaborn as sns\n",
        "from scipy import stats\n",
        "import statsmodels.api as sm\n",
        "from sklearn import model_selection\n",
        "from sklearn import feature_selection\n",
        "from sklearn import linear_model\n",
        "from sklearn import metrics\n",
        "from sklearn import preprocessing\n",
        "from sklearn import tree\n",
        "from sklearn import ensemble\n",
        "from sklearn.base import TransformerMixin, BaseEstimator\n",
        "from sklearn.pipeline import Pipeline\n",
        "from sklearn.ensemble import AdaBoostRegressor\n",
        "from sklearn.ensemble import GradientBoostingRegressor\n",
        "from catboost import CatBoostRegressor\n",
        "from category_encoders.cat_boost import CatBoostEncoder\n",
        "from sklearn.model_selection import GridSearchCV\n",
        "import category_encoders as ce\n",
        "import pickle"
      ]
    },
    {
      "cell_type": "markdown",
      "metadata": {
        "id": "oO-5dfxXulXI"
      },
      "source": [
        "## 1. Знакомство с данными и первичный анализ"
      ]
    },
    {
      "cell_type": "code",
      "execution_count": 5,
      "metadata": {
        "id": "9z63cIAQsTng"
      },
      "outputs": [],
      "source": [
        "data = pd.read_csv('data/data.csv')"
      ]
    },
    {
      "cell_type": "code",
      "execution_count": 6,
      "metadata": {
        "colab": {
          "base_uri": "https://localhost:8080/",
          "height": 553
        },
        "id": "DUh-a8u2yWO0",
        "outputId": "fc58d831-d160-4031-d873-ea0b5c0ae2e1"
      },
      "outputs": [
        {
          "data": {
            "text/html": [
              "<div>\n",
              "<style scoped>\n",
              "    .dataframe tbody tr th:only-of-type {\n",
              "        vertical-align: middle;\n",
              "    }\n",
              "\n",
              "    .dataframe tbody tr th {\n",
              "        vertical-align: top;\n",
              "    }\n",
              "\n",
              "    .dataframe thead th {\n",
              "        text-align: right;\n",
              "    }\n",
              "</style>\n",
              "<table border=\"1\" class=\"dataframe\">\n",
              "  <thead>\n",
              "    <tr style=\"text-align: right;\">\n",
              "      <th></th>\n",
              "      <th>status</th>\n",
              "      <th>private pool</th>\n",
              "      <th>propertyType</th>\n",
              "      <th>street</th>\n",
              "      <th>baths</th>\n",
              "      <th>homeFacts</th>\n",
              "      <th>fireplace</th>\n",
              "      <th>city</th>\n",
              "      <th>schools</th>\n",
              "      <th>sqft</th>\n",
              "      <th>zipcode</th>\n",
              "      <th>beds</th>\n",
              "      <th>state</th>\n",
              "      <th>stories</th>\n",
              "      <th>mls-id</th>\n",
              "      <th>PrivatePool</th>\n",
              "      <th>MlsId</th>\n",
              "      <th>target</th>\n",
              "    </tr>\n",
              "  </thead>\n",
              "  <tbody>\n",
              "    <tr>\n",
              "      <th>0</th>\n",
              "      <td>Active</td>\n",
              "      <td>NaN</td>\n",
              "      <td>Single Family Home</td>\n",
              "      <td>240 Heather Ln</td>\n",
              "      <td>3.5</td>\n",
              "      <td>{'atAGlanceFacts': [{'factValue': '2019', 'fac...</td>\n",
              "      <td>Gas Logs</td>\n",
              "      <td>Southern Pines</td>\n",
              "      <td>[{'rating': ['4', '4', '7', 'NR', '4', '7', 'N...</td>\n",
              "      <td>2900</td>\n",
              "      <td>28387</td>\n",
              "      <td>4</td>\n",
              "      <td>NC</td>\n",
              "      <td>NaN</td>\n",
              "      <td>NaN</td>\n",
              "      <td>NaN</td>\n",
              "      <td>611019</td>\n",
              "      <td>$418,000</td>\n",
              "    </tr>\n",
              "    <tr>\n",
              "      <th>1</th>\n",
              "      <td>for sale</td>\n",
              "      <td>NaN</td>\n",
              "      <td>single-family home</td>\n",
              "      <td>12911 E Heroy Ave</td>\n",
              "      <td>3 Baths</td>\n",
              "      <td>{'atAGlanceFacts': [{'factValue': '2019', 'fac...</td>\n",
              "      <td>NaN</td>\n",
              "      <td>Spokane Valley</td>\n",
              "      <td>[{'rating': ['4/10', 'None/10', '4/10'], 'data...</td>\n",
              "      <td>1,947 sqft</td>\n",
              "      <td>99216</td>\n",
              "      <td>3 Beds</td>\n",
              "      <td>WA</td>\n",
              "      <td>2.0</td>\n",
              "      <td>NaN</td>\n",
              "      <td>NaN</td>\n",
              "      <td>201916904</td>\n",
              "      <td>$310,000</td>\n",
              "    </tr>\n",
              "    <tr>\n",
              "      <th>2</th>\n",
              "      <td>for sale</td>\n",
              "      <td>NaN</td>\n",
              "      <td>single-family home</td>\n",
              "      <td>2005 Westridge Rd</td>\n",
              "      <td>2 Baths</td>\n",
              "      <td>{'atAGlanceFacts': [{'factValue': '1961', 'fac...</td>\n",
              "      <td>yes</td>\n",
              "      <td>Los Angeles</td>\n",
              "      <td>[{'rating': ['8/10', '4/10', '8/10'], 'data': ...</td>\n",
              "      <td>3,000 sqft</td>\n",
              "      <td>90049</td>\n",
              "      <td>3 Beds</td>\n",
              "      <td>CA</td>\n",
              "      <td>1.0</td>\n",
              "      <td>NaN</td>\n",
              "      <td>yes</td>\n",
              "      <td>FR19221027</td>\n",
              "      <td>$2,895,000</td>\n",
              "    </tr>\n",
              "    <tr>\n",
              "      <th>3</th>\n",
              "      <td>for sale</td>\n",
              "      <td>NaN</td>\n",
              "      <td>single-family home</td>\n",
              "      <td>4311 Livingston Ave</td>\n",
              "      <td>8 Baths</td>\n",
              "      <td>{'atAGlanceFacts': [{'factValue': '2006', 'fac...</td>\n",
              "      <td>yes</td>\n",
              "      <td>Dallas</td>\n",
              "      <td>[{'rating': ['9/10', '9/10', '10/10', '9/10'],...</td>\n",
              "      <td>6,457 sqft</td>\n",
              "      <td>75205</td>\n",
              "      <td>5 Beds</td>\n",
              "      <td>TX</td>\n",
              "      <td>3.0</td>\n",
              "      <td>NaN</td>\n",
              "      <td>NaN</td>\n",
              "      <td>14191809</td>\n",
              "      <td>$2,395,000</td>\n",
              "    </tr>\n",
              "    <tr>\n",
              "      <th>4</th>\n",
              "      <td>for sale</td>\n",
              "      <td>NaN</td>\n",
              "      <td>lot/land</td>\n",
              "      <td>1524 Kiscoe St</td>\n",
              "      <td>NaN</td>\n",
              "      <td>{'atAGlanceFacts': [{'factValue': '', 'factLab...</td>\n",
              "      <td>NaN</td>\n",
              "      <td>Palm Bay</td>\n",
              "      <td>[{'rating': ['4/10', '5/10', '5/10'], 'data': ...</td>\n",
              "      <td>NaN</td>\n",
              "      <td>32908</td>\n",
              "      <td>NaN</td>\n",
              "      <td>FL</td>\n",
              "      <td>NaN</td>\n",
              "      <td>NaN</td>\n",
              "      <td>NaN</td>\n",
              "      <td>861745</td>\n",
              "      <td>$5,000</td>\n",
              "    </tr>\n",
              "  </tbody>\n",
              "</table>\n",
              "</div>"
            ],
            "text/plain": [
              "     status private pool        propertyType               street    baths  \\\n",
              "0    Active          NaN  Single Family Home       240 Heather Ln      3.5   \n",
              "1  for sale          NaN  single-family home    12911 E Heroy Ave  3 Baths   \n",
              "2  for sale          NaN  single-family home    2005 Westridge Rd  2 Baths   \n",
              "3  for sale          NaN  single-family home  4311 Livingston Ave  8 Baths   \n",
              "4  for sale          NaN            lot/land       1524 Kiscoe St      NaN   \n",
              "\n",
              "                                           homeFacts fireplace  \\\n",
              "0  {'atAGlanceFacts': [{'factValue': '2019', 'fac...  Gas Logs   \n",
              "1  {'atAGlanceFacts': [{'factValue': '2019', 'fac...       NaN   \n",
              "2  {'atAGlanceFacts': [{'factValue': '1961', 'fac...       yes   \n",
              "3  {'atAGlanceFacts': [{'factValue': '2006', 'fac...       yes   \n",
              "4  {'atAGlanceFacts': [{'factValue': '', 'factLab...       NaN   \n",
              "\n",
              "             city                                            schools  \\\n",
              "0  Southern Pines  [{'rating': ['4', '4', '7', 'NR', '4', '7', 'N...   \n",
              "1  Spokane Valley  [{'rating': ['4/10', 'None/10', '4/10'], 'data...   \n",
              "2     Los Angeles  [{'rating': ['8/10', '4/10', '8/10'], 'data': ...   \n",
              "3          Dallas  [{'rating': ['9/10', '9/10', '10/10', '9/10'],...   \n",
              "4        Palm Bay  [{'rating': ['4/10', '5/10', '5/10'], 'data': ...   \n",
              "\n",
              "         sqft zipcode    beds state stories mls-id PrivatePool       MlsId  \\\n",
              "0        2900   28387       4    NC     NaN    NaN         NaN      611019   \n",
              "1  1,947 sqft   99216  3 Beds    WA     2.0    NaN         NaN   201916904   \n",
              "2  3,000 sqft   90049  3 Beds    CA     1.0    NaN         yes  FR19221027   \n",
              "3  6,457 sqft   75205  5 Beds    TX     3.0    NaN         NaN    14191809   \n",
              "4         NaN   32908     NaN    FL     NaN    NaN         NaN      861745   \n",
              "\n",
              "       target  \n",
              "0    $418,000  \n",
              "1    $310,000  \n",
              "2  $2,895,000  \n",
              "3  $2,395,000  \n",
              "4      $5,000  "
            ]
          },
          "execution_count": 6,
          "metadata": {},
          "output_type": "execute_result"
        }
      ],
      "source": [
        "data.head()"
      ]
    },
    {
      "cell_type": "code",
      "execution_count": 7,
      "metadata": {
        "colab": {
          "base_uri": "https://localhost:8080/"
        },
        "id": "-81z8tCxogcS",
        "outputId": "74a6c8c0-d29e-49d8-d563-1c3b0256037b"
      },
      "outputs": [
        {
          "name": "stdout",
          "output_type": "stream",
          "text": [
            "<class 'pandas.core.frame.DataFrame'>\n",
            "RangeIndex: 377185 entries, 0 to 377184\n",
            "Data columns (total 18 columns):\n",
            " #   Column        Non-Null Count   Dtype \n",
            "---  ------        --------------   ----- \n",
            " 0   status        337267 non-null  object\n",
            " 1   private pool  4181 non-null    object\n",
            " 2   propertyType  342452 non-null  object\n",
            " 3   street        377183 non-null  object\n",
            " 4   baths         270847 non-null  object\n",
            " 5   homeFacts     377185 non-null  object\n",
            " 6   fireplace     103115 non-null  object\n",
            " 7   city          377151 non-null  object\n",
            " 8   schools       377185 non-null  object\n",
            " 9   sqft          336608 non-null  object\n",
            " 10  zipcode       377185 non-null  object\n",
            " 11  beds          285903 non-null  object\n",
            " 12  state         377185 non-null  object\n",
            " 13  stories       226470 non-null  object\n",
            " 14  mls-id        24942 non-null   object\n",
            " 15  PrivatePool   40311 non-null   object\n",
            " 16  MlsId         310305 non-null  object\n",
            " 17  target        374704 non-null  object\n",
            "dtypes: object(18)\n",
            "memory usage: 51.8+ MB\n"
          ]
        }
      ],
      "source": [
        "data.info()"
      ]
    },
    {
      "cell_type": "markdown",
      "metadata": {
        "id": "iYrV7IAplXSR"
      },
      "source": [
        "Просмотрим информацию о наборе данных в первоначальном виде и проведём первичный анализ данных при помощи модуля SWEETVIZ."
      ]
    },
    {
      "cell_type": "code",
      "execution_count": 8,
      "metadata": {
        "id": "9NX8Pe3NynV-"
      },
      "outputs": [
        {
          "name": "stderr",
          "output_type": "stream",
          "text": [
            "c:\\Users\\84\\AppData\\Local\\Programs\\Python\\Python39\\lib\\site-packages\\sweetviz\\dataframe_report.py:74: FutureWarning: iteritems is deprecated and will be removed in a future version. Use .items instead.\n",
            "  all_source_names = [cur_name for cur_name, cur_series in source_df.iteritems()]\n",
            "c:\\Users\\84\\AppData\\Local\\Programs\\Python\\Python39\\lib\\site-packages\\sweetviz\\dataframe_report.py:109: FutureWarning: iteritems is deprecated and will be removed in a future version. Use .items instead.\n",
            "  filtered_series_names_in_source = [cur_name for cur_name, cur_series in source_df.iteritems()\n"
          ]
        },
        {
          "data": {
            "application/vnd.jupyter.widget-view+json": {
              "model_id": "151b20ac79994f1290c7fbe441d2efb9",
              "version_major": 2,
              "version_minor": 0
            },
            "text/plain": [
              "                                             |          | [  0%]   00:00 -> (? left)"
            ]
          },
          "metadata": {},
          "output_type": "display_data"
        },
        {
          "name": "stderr",
          "output_type": "stream",
          "text": [
            "c:\\Users\\84\\AppData\\Local\\Programs\\Python\\Python39\\lib\\site-packages\\sweetviz\\series_analyzer_text.py:19: FutureWarning: iteritems is deprecated and will be removed in a future version. Use .items instead.\n",
            "  for item in to_process.source_counts[\"value_counts_without_nan\"].iteritems():\n",
            "c:\\Users\\84\\AppData\\Local\\Programs\\Python\\Python39\\lib\\site-packages\\sweetviz\\series_analyzer_cat.py:28: FutureWarning: iteritems is deprecated and will be removed in a future version. Use .items instead.\n",
            "  for item in category_counts.iteritems():\n",
            "c:\\Users\\84\\AppData\\Local\\Programs\\Python\\Python39\\lib\\site-packages\\sweetviz\\series_analyzer_text.py:19: FutureWarning: iteritems is deprecated and will be removed in a future version. Use .items instead.\n",
            "  for item in to_process.source_counts[\"value_counts_without_nan\"].iteritems():\n",
            "c:\\Users\\84\\AppData\\Local\\Programs\\Python\\Python39\\lib\\site-packages\\sweetviz\\series_analyzer_text.py:19: FutureWarning: iteritems is deprecated and will be removed in a future version. Use .items instead.\n",
            "  for item in to_process.source_counts[\"value_counts_without_nan\"].iteritems():\n",
            "c:\\Users\\84\\AppData\\Local\\Programs\\Python\\Python39\\lib\\site-packages\\sweetviz\\series_analyzer_text.py:19: FutureWarning: iteritems is deprecated and will be removed in a future version. Use .items instead.\n",
            "  for item in to_process.source_counts[\"value_counts_without_nan\"].iteritems():\n",
            "c:\\Users\\84\\AppData\\Local\\Programs\\Python\\Python39\\lib\\site-packages\\sweetviz\\series_analyzer_text.py:19: FutureWarning: iteritems is deprecated and will be removed in a future version. Use .items instead.\n",
            "  for item in to_process.source_counts[\"value_counts_without_nan\"].iteritems():\n",
            "c:\\Users\\84\\AppData\\Local\\Programs\\Python\\Python39\\lib\\site-packages\\sweetviz\\series_analyzer_text.py:19: FutureWarning: iteritems is deprecated and will be removed in a future version. Use .items instead.\n",
            "  for item in to_process.source_counts[\"value_counts_without_nan\"].iteritems():\n",
            "c:\\Users\\84\\AppData\\Local\\Programs\\Python\\Python39\\lib\\site-packages\\sweetviz\\series_analyzer_text.py:19: FutureWarning: iteritems is deprecated and will be removed in a future version. Use .items instead.\n",
            "  for item in to_process.source_counts[\"value_counts_without_nan\"].iteritems():\n",
            "c:\\Users\\84\\AppData\\Local\\Programs\\Python\\Python39\\lib\\site-packages\\sweetviz\\series_analyzer_text.py:19: FutureWarning: iteritems is deprecated and will be removed in a future version. Use .items instead.\n",
            "  for item in to_process.source_counts[\"value_counts_without_nan\"].iteritems():\n",
            "c:\\Users\\84\\AppData\\Local\\Programs\\Python\\Python39\\lib\\site-packages\\sweetviz\\series_analyzer_text.py:19: FutureWarning: iteritems is deprecated and will be removed in a future version. Use .items instead.\n",
            "  for item in to_process.source_counts[\"value_counts_without_nan\"].iteritems():\n",
            "c:\\Users\\84\\AppData\\Local\\Programs\\Python\\Python39\\lib\\site-packages\\sweetviz\\series_analyzer_text.py:19: FutureWarning: iteritems is deprecated and will be removed in a future version. Use .items instead.\n",
            "  for item in to_process.source_counts[\"value_counts_without_nan\"].iteritems():\n",
            "c:\\Users\\84\\AppData\\Local\\Programs\\Python\\Python39\\lib\\site-packages\\sweetviz\\series_analyzer_text.py:19: FutureWarning: iteritems is deprecated and will be removed in a future version. Use .items instead.\n",
            "  for item in to_process.source_counts[\"value_counts_without_nan\"].iteritems():\n",
            "c:\\Users\\84\\AppData\\Local\\Programs\\Python\\Python39\\lib\\site-packages\\sweetviz\\series_analyzer_cat.py:28: FutureWarning: iteritems is deprecated and will be removed in a future version. Use .items instead.\n",
            "  for item in category_counts.iteritems():\n",
            "c:\\Users\\84\\AppData\\Local\\Programs\\Python\\Python39\\lib\\site-packages\\sweetviz\\series_analyzer_text.py:19: FutureWarning: iteritems is deprecated and will be removed in a future version. Use .items instead.\n",
            "  for item in to_process.source_counts[\"value_counts_without_nan\"].iteritems():\n",
            "c:\\Users\\84\\AppData\\Local\\Programs\\Python\\Python39\\lib\\site-packages\\sweetviz\\series_analyzer_text.py:19: FutureWarning: iteritems is deprecated and will be removed in a future version. Use .items instead.\n",
            "  for item in to_process.source_counts[\"value_counts_without_nan\"].iteritems():\n",
            "c:\\Users\\84\\AppData\\Local\\Programs\\Python\\Python39\\lib\\site-packages\\sweetviz\\series_analyzer_cat.py:28: FutureWarning: iteritems is deprecated and will be removed in a future version. Use .items instead.\n",
            "  for item in category_counts.iteritems():\n",
            "c:\\Users\\84\\AppData\\Local\\Programs\\Python\\Python39\\lib\\site-packages\\sweetviz\\series_analyzer_text.py:19: FutureWarning: iteritems is deprecated and will be removed in a future version. Use .items instead.\n",
            "  for item in to_process.source_counts[\"value_counts_without_nan\"].iteritems():\n",
            "c:\\Users\\84\\AppData\\Local\\Programs\\Python\\Python39\\lib\\site-packages\\sweetviz\\series_analyzer_text.py:19: FutureWarning: iteritems is deprecated and will be removed in a future version. Use .items instead.\n",
            "  for item in to_process.source_counts[\"value_counts_without_nan\"].iteritems():\n"
          ]
        },
        {
          "name": "stdout",
          "output_type": "stream",
          "text": [
            "Report SWEETVIZ_REPORT.html was generated! NOTEBOOK/COLAB USERS: the web browser MAY not pop up, regardless, the report IS saved in your notebook/colab files.\n"
          ]
        }
      ],
      "source": [
        "report = sv.analyze(data)\n",
        "report.show_html()"
      ]
    },
    {
      "cell_type": "markdown",
      "metadata": {
        "id": "BhN1T8zIlnvy"
      },
      "source": [
        "Видим, что набор данных состоит из 377185 строк и 18 признаков.\n",
        "В данных очень много пропусков - все признаки, кроме 'homeFacts', 'schools', 'zipcode' и 'state', имеют пропуски.\n",
        "В наборе данных имеются два схожих признака 'privat pool' и 'PrivatPool', которые можно объединить в один признак.\n"
      ]
    },
    {
      "cell_type": "markdown",
      "metadata": {
        "id": "KIJGImcG8b20"
      },
      "source": [
        "**Признаки 'mls-id' и 'MlsId'**"
      ]
    },
    {
      "cell_type": "markdown",
      "metadata": {
        "id": "FG9I1EFg3e8g"
      },
      "source": [
        "Так как признаки 'MlsId' и 'mls-id' являются идентификаторами в системе мультилистинга, то на цену объекта они не влияют, эти признаки можно удалить."
      ]
    },
    {
      "cell_type": "code",
      "execution_count": 9,
      "metadata": {
        "id": "F9ZQuVDS3GxH"
      },
      "outputs": [],
      "source": [
        "data.drop(['mls-id','MlsId'],axis=1, inplace=True)"
      ]
    },
    {
      "cell_type": "markdown",
      "metadata": {
        "id": "2vdAoKId82an"
      },
      "source": [
        "**Признак 'target'**"
      ]
    },
    {
      "cell_type": "code",
      "execution_count": 10,
      "metadata": {
        "colab": {
          "base_uri": "https://localhost:8080/"
        },
        "id": "2nFXFmQuXJbG",
        "outputId": "ee67648b-3d87-4ae4-d3f4-dd852c2c99ee"
      },
      "outputs": [
        {
          "data": {
            "text/plain": [
              "2481"
            ]
          },
          "execution_count": 10,
          "metadata": {},
          "output_type": "execute_result"
        }
      ],
      "source": [
        "data['target'].isna().sum()"
      ]
    },
    {
      "cell_type": "markdown",
      "metadata": {
        "id": "o3GhFStu91Dl"
      },
      "source": [
        "В наборе данных имеется 2481 строк без указания цены объекта. Эти строки не представляют ценности для нас, их можно удалить."
      ]
    },
    {
      "cell_type": "code",
      "execution_count": 11,
      "metadata": {
        "id": "7XX6eVpt4KJ4"
      },
      "outputs": [],
      "source": [
        "data.dropna(subset = ['target'], inplace = True )\n",
        "data.reset_index(drop = True, inplace = True )"
      ]
    },
    {
      "cell_type": "code",
      "execution_count": 12,
      "metadata": {
        "colab": {
          "base_uri": "https://localhost:8080/"
        },
        "id": "GBbtw8V7W6_i",
        "outputId": "9c820247-73c5-458f-b242-e82997798663"
      },
      "outputs": [
        {
          "data": {
            "text/plain": [
              "43939"
            ]
          },
          "execution_count": 12,
          "metadata": {},
          "output_type": "execute_result"
        }
      ],
      "source": [
        "data['target'].nunique()"
      ]
    },
    {
      "cell_type": "markdown",
      "metadata": {
        "id": "biY94nqdS6Xo"
      },
      "source": [
        "Уберем лишние символы и приведём признак 'target' к числовому типу. При этом значение '1215-1437' заменим на среднее значение."
      ]
    },
    {
      "cell_type": "code",
      "execution_count": 13,
      "metadata": {
        "id": "WPdO5GvoQxwi"
      },
      "outputs": [],
      "source": [
        "data['target'] = data['target'].apply(lambda x: str(x).replace('$', '').replace(',', '').replace(' ', '').replace('+', '').replace('/mo', '').replace('1215-1437', '1326'))"
      ]
    },
    {
      "cell_type": "code",
      "execution_count": 14,
      "metadata": {
        "id": "0Jfhd28LQ7sA"
      },
      "outputs": [],
      "source": [
        "data['target'] = data['target'].astype(float)"
      ]
    },
    {
      "cell_type": "code",
      "execution_count": 15,
      "metadata": {
        "colab": {
          "base_uri": "https://localhost:8080/"
        },
        "id": "lZr8dMA0SdD7",
        "outputId": "787fc442-e48b-4cbc-b0e0-5928400cf35a"
      },
      "outputs": [
        {
          "data": {
            "text/plain": [
              "225000.0    1806\n",
              "275000.0    1650\n",
              "250000.0    1644\n",
              "350000.0    1641\n",
              "325000.0    1562\n",
              "            ... \n",
              "236070.0       1\n",
              "752911.0       1\n",
              "73360.0        1\n",
              "455740.0       1\n",
              "171306.0       1\n",
              "Name: target, Length: 34232, dtype: int64"
            ]
          },
          "execution_count": 15,
          "metadata": {},
          "output_type": "execute_result"
        }
      ],
      "source": [
        "data['target'].value_counts()"
      ]
    },
    {
      "cell_type": "markdown",
      "metadata": {
        "id": "GDVQ1ArYrUQH"
      },
      "source": [
        "**Признаки 'privat pool' и 'PrivatPool'**"
      ]
    },
    {
      "cell_type": "markdown",
      "metadata": {
        "id": "vJ881w8O9MJL"
      },
      "source": [
        "Исходя из первичного анализа данных при помощи sweetviz мы знаем, что признак 'privat pool' имеет 4181 ответов Yes и 373004 пропуска, а признак 'PrivatPool' имеет 28793 ответа yes, 11518 ответа Yes и  336874 пропуска.\n",
        "\n",
        "Сделаем признаки наличия бассеина бинарными."
      ]
    },
    {
      "cell_type": "code",
      "execution_count": 16,
      "metadata": {
        "id": "tGjtlkOorKN2"
      },
      "outputs": [],
      "source": [
        "data['private pool'] = data['private pool'].apply(lambda x: 1 if x=='Yes' else 0)\n",
        "data['PrivatePool'] = data['PrivatePool'].apply(lambda x: 1 if (x=='Yes' or x=='yes') else 0)"
      ]
    },
    {
      "cell_type": "markdown",
      "metadata": {
        "id": "sdzV0-Og9mmf"
      },
      "source": [
        "Объединим признаки 'privat pool' и 'PrivatPool' в общий признак 'pool'."
      ]
    },
    {
      "cell_type": "code",
      "execution_count": 17,
      "metadata": {
        "id": "2x5k8VaQ9yXv"
      },
      "outputs": [],
      "source": [
        "data['pool'] = data['private pool'] | data['PrivatePool']\n",
        "data.drop(['private pool'], axis=1, inplace=True)\n",
        "data.drop(['PrivatePool'], axis=1, inplace=True)"
      ]
    },
    {
      "cell_type": "code",
      "execution_count": 18,
      "metadata": {
        "colab": {
          "base_uri": "https://localhost:8080/"
        },
        "id": "9AGNBEhI-A3K",
        "outputId": "9d75c695-bf37-4340-f8f0-a87041a73575"
      },
      "outputs": [
        {
          "data": {
            "text/plain": [
              "0    330432\n",
              "1     44272\n",
              "Name: pool, dtype: int64"
            ]
          },
          "execution_count": 18,
          "metadata": {},
          "output_type": "execute_result"
        }
      ],
      "source": [
        "data['pool'].value_counts()"
      ]
    },
    {
      "cell_type": "markdown",
      "metadata": {
        "id": "XMqzm3qVGAxw"
      },
      "source": [
        "**Признак 'zipcode'**"
      ]
    },
    {
      "cell_type": "markdown",
      "metadata": {
        "id": "dIylEkD5GJJu"
      },
      "source": [
        "Признак 'zipcode' является почтовым индексом объекта недвижимости и не оказывает влияния на формирование цены, поэтому его можно удалить."
      ]
    },
    {
      "cell_type": "code",
      "execution_count": 19,
      "metadata": {
        "id": "BS5ot-6Q-TCb"
      },
      "outputs": [],
      "source": [
        "data.drop(['zipcode'],axis=1, inplace=True)"
      ]
    },
    {
      "cell_type": "code",
      "execution_count": 20,
      "metadata": {
        "colab": {
          "base_uri": "https://localhost:8080/"
        },
        "id": "_lVWj58PI75H",
        "outputId": "9365a603-0a98-4111-94ab-82eb5800c086"
      },
      "outputs": [
        {
          "name": "stdout",
          "output_type": "stream",
          "text": [
            "<class 'pandas.core.frame.DataFrame'>\n",
            "RangeIndex: 374704 entries, 0 to 374703\n",
            "Data columns (total 14 columns):\n",
            " #   Column        Non-Null Count   Dtype  \n",
            "---  ------        --------------   -----  \n",
            " 0   status        335447 non-null  object \n",
            " 1   propertyType  340150 non-null  object \n",
            " 2   street        374702 non-null  object \n",
            " 3   baths         269328 non-null  object \n",
            " 4   homeFacts     374704 non-null  object \n",
            " 5   fireplace     102522 non-null  object \n",
            " 6   city          374670 non-null  object \n",
            " 7   schools       374704 non-null  object \n",
            " 8   sqft          334582 non-null  object \n",
            " 9   beds          283748 non-null  object \n",
            " 10  state         374704 non-null  object \n",
            " 11  stories       224910 non-null  object \n",
            " 12  target        374704 non-null  float64\n",
            " 13  pool          374704 non-null  int64  \n",
            "dtypes: float64(1), int64(1), object(12)\n",
            "memory usage: 40.0+ MB\n"
          ]
        }
      ],
      "source": [
        "data.info()"
      ]
    },
    {
      "cell_type": "markdown",
      "metadata": {
        "id": "1vcH0SJfpFpE"
      },
      "source": [
        "Сделаем копию обработанной части датасета."
      ]
    },
    {
      "cell_type": "code",
      "execution_count": 21,
      "metadata": {
        "id": "7zqoTAl-pSqC"
      },
      "outputs": [],
      "source": [
        "data1 = data.copy()"
      ]
    },
    {
      "cell_type": "markdown",
      "metadata": {
        "id": "Zh6SxhPnNhld"
      },
      "source": [
        "**Признак 'baths'**"
      ]
    },
    {
      "cell_type": "markdown",
      "metadata": {
        "id": "-RTRec1lEHM7"
      },
      "source": [
        "Посмотрим уникальные значения признака 'baths' в упорядоченном порядке."
      ]
    },
    {
      "cell_type": "code",
      "execution_count": 22,
      "metadata": {
        "colab": {
          "base_uri": "https://localhost:8080/"
        },
        "id": "8QcLjoaP0YxH",
        "outputId": "3d837ec0-4b57-4e42-c345-559a7e133a41"
      },
      "outputs": [
        {
          "data": {
            "text/plain": [
              "array(['-- baths', '0', '0 / 0', '0.0', '0.00', '0.5 Baths', '0.75 Baths',\n",
              "       '1', '1 / 1 / 1 / 1', '1 / 1-0 / 1-0 / 1-0', '1 ba', '1,000',\n",
              "       '1,250', '1,500', '1,750', '1-0 / 1-0 / 1', '1-2 Baths', '1.0',\n",
              "       '1.1 Baths', '1.25 Baths', '1.5', '1.5 Baths', '1.5 ba', '1.5+',\n",
              "       '1.75 Baths', '1.75 ba', '10', '10 Baths', '10 ba', '10.0', '10.5',\n",
              "       '10.5 Baths', '10.5+', '11', '11 Baths', '11 ba', '11.0',\n",
              "       '11.5 Baths', '11.5+', '116 / 116 / 116', '12', '12 Baths',\n",
              "       '12 ba', '12.0', '12.5', '12.5+', '13', '13 Baths', '13 ba',\n",
              "       '13.0', '14', '14 Baths', '14.0', '14.5+', '15', '15 Baths',\n",
              "       '15.0', '16', '16 Baths', '16 ba', '16.0', '17', '17 Baths',\n",
              "       '17.0', '18', '18 Baths', '18.0', '19 Baths', '2', '2 Baths',\n",
              "       '2 ba', '2 baths', '2,000', '2,250', '2,500', '2,750',\n",
              "       '2-1 / 2-1 / 1-1 / 1-1', '2.0', '2.1 Baths', '2.2 Baths',\n",
              "       '2.25 Baths', '2.25 ba', '2.5', '2.5 Baths', '2.5 ba', '2.5+',\n",
              "       '2.75 Baths', '20', '20 Baths', '20.0', '21', '21 Baths', '22',\n",
              "       '22 Baths', '22.0', '23', '23 Baths', '23.0', '24', '24 Baths',\n",
              "       '24.0', '25 Baths', '26', '26 Baths', '27', '27 Baths', '28 Baths',\n",
              "       '29', '29 Baths', '3', '3 Baths', '3 ba', '3 baths', '3,000',\n",
              "       '3,500', '3-1 / 2-2', '3.0', '3.1 Baths', '3.2 Baths',\n",
              "       '3.25 Baths', '3.5', '3.5 Baths', '3.5 ba', '3.5+', '3.75 Baths',\n",
              "       '30', '30 Baths', '30.0', '32', '32 Baths', '34 Baths', '34.0',\n",
              "       '35', '36 Baths', '39 Baths', '4', '4 Baths', '4 ba', '4,000',\n",
              "       '4.0', '4.1 Baths', '4.25 Baths', '4.5', '4.5 Baths', '4.5 ba',\n",
              "       '4.5+', '4.75 Baths', '40', '40 Baths', '41.0', '42 Baths',\n",
              "       '43 Baths', '44 Baths', '44.0', '5', '5 Baths', '5 ba', '5,000',\n",
              "       '5.0', '5.2 Baths', '5.25 Baths', '5.5', '5.5 Baths', '5.5 ba',\n",
              "       '5.5+', '55.0', '6', '6 Baths', '6 ba', '6.0', '6.5', '6.5 Baths',\n",
              "       '6.5+', '6.75 Baths', '60 Baths', '64.0', '68 Baths', '7',\n",
              "       '7 Baths', '7 ba', '7,500+', '7.0', '7.5', '7.5 Baths', '7.5+',\n",
              "       '750', '76 Baths', '8', '8 Baths', '8 ba', '8.0', '8.5',\n",
              "       '8.5 Baths', '8.5+', '9', '9 Baths', '9 ba', '9.0', '9.5', '9.5+',\n",
              "       'Bathrooms: 1', 'Bathrooms: 10', 'Bathrooms: 11', 'Bathrooms: 12',\n",
              "       'Bathrooms: 13', 'Bathrooms: 14', 'Bathrooms: 15', 'Bathrooms: 16',\n",
              "       'Bathrooms: 18', 'Bathrooms: 19', 'Bathrooms: 2', 'Bathrooms: 21',\n",
              "       'Bathrooms: 24', 'Bathrooms: 241', 'Bathrooms: 27', 'Bathrooms: 3',\n",
              "       'Bathrooms: 4', 'Bathrooms: 5', 'Bathrooms: 6', 'Bathrooms: 7',\n",
              "       'Bathrooms: 8', 'Bathrooms: 9', 'Bathrooms: SemiMod', 'Sq. Ft. ',\n",
              "       '~', '—', nan], dtype=object)"
            ]
          },
          "execution_count": 22,
          "metadata": {},
          "output_type": "execute_result"
        }
      ],
      "source": [
        "data1['baths'].sort_values().unique()"
      ]
    },
    {
      "cell_type": "markdown",
      "metadata": {
        "id": "AqgFhrQfEUGP"
      },
      "source": [
        "Приведём все значения к нижнему регистру."
      ]
    },
    {
      "cell_type": "code",
      "execution_count": 23,
      "metadata": {
        "id": "R6qk4d95CFNw"
      },
      "outputs": [],
      "source": [
        "data1['baths'] = data1['baths'].apply(lambda x: str(x).lower())"
      ]
    },
    {
      "cell_type": "markdown",
      "metadata": {
        "id": "wVu8Ntl0O2DV"
      },
      "source": [
        "Обработаем признак 'baths' и вновь посмотрим список уникальных значений."
      ]
    },
    {
      "cell_type": "code",
      "execution_count": 24,
      "metadata": {
        "id": "QM6lxJWtemza"
      },
      "outputs": [],
      "source": [
        "data1['baths'] = data1['baths'].fillna('UNKNOWN')\n",
        "data1['baths'] = data1['baths'].apply(lambda x: 'UNKNOWN' if (x=='sq. ft. ') | (x=='bathrooms: semimod') | (x=='nan') | (x=='-- baths') | (x=='~') | (x=='—') else x)\n",
        "data1['baths'] = data1['baths'].apply(lambda x: '0' if (x=='0.00') | (x=='0 / 0') | (x=='0.0') | (x=='-- baths') | (x=='~') | (x=='—') else x)\n",
        "data1['baths'] = data1['baths'].apply(lambda x: '1.5' if (x=='1-2 baths') else x)"
      ]
    },
    {
      "cell_type": "code",
      "execution_count": 25,
      "metadata": {
        "id": "RJ9Sgxgse0nC"
      },
      "outputs": [],
      "source": [
        "data1['baths'] = data1['baths'].str.replace('[a-z]', '', regex=True)\n",
        "data1['baths'] = data1['baths'].str.replace(' ', '', regex=True)\n",
        "data1['baths'] = data1['baths'].str.replace(':', '', regex=True)\n",
        "data1['baths'] = data1['baths'].str.replace(',', '.', regex=True)\n",
        "data1['baths'] = data1['baths'].str.replace('\\+', '', regex=True)"
      ]
    },
    {
      "cell_type": "code",
      "execution_count": 26,
      "metadata": {
        "id": "DT8NhkI0e-qA"
      },
      "outputs": [],
      "source": [
        "data1['baths'] = data1['baths'].apply(lambda x: '0.5' if (x=='0.75') else x)\n",
        "data1['baths'] = data1['baths'].apply(lambda x: '4' if (x=='1/1/1/1') | (x=='1/1-0/1-0/1-0') | (x=='2-1/2-1/1-1/1-1') | (x=='4.0') | (x=='4.1') | (x=='4.25') | (x=='4.000') else x)\n",
        "data1['baths'] = data1['baths'].apply(lambda x: '4.5' if (x=='4.75') else x)\n",
        "data1['baths'] = data1['baths'].apply(lambda x: '3' if (x=='1-0/1-0/1') | (x=='116/116/116') | (x=='3.0') | (x=='3.1') | (x=='3.2') | (x=='3.25') | (x=='3.000') else x)\n",
        "data1['baths'] = data1['baths'].apply(lambda x: '3.5' if (x=='3.500') | (x=='3.75') else x)\n",
        "data1['baths'] = data1['baths'].apply(lambda x: '2' if (x=='3-1/2-2') | (x=='2.0') | (x=='2.1') | (x=='2.2') | (x=='2.25') | (x=='2.250') | (x=='2.000') else x)\n",
        "data1['baths'] = data1['baths'].apply(lambda x: '2.5' if (x=='2.500') | (x=='2.75') | (x=='2.750') else x)\n",
        "data1['baths'] = data1['baths'].apply(lambda x: '1' if (x=='1.0') | (x=='1.1') | (x=='1.25') | (x=='1.250') | (x=='1.000') else x)"
      ]
    },
    {
      "cell_type": "code",
      "execution_count": 27,
      "metadata": {
        "id": "8AiDCt9czDYq"
      },
      "outputs": [],
      "source": [
        "data1['baths'] = data1['baths'].apply(lambda x: '11' if (x=='11.0') else x)\n",
        "data1['baths'] = data1['baths'].apply(lambda x: '12' if (x=='12.0') else x)\n",
        "data1['baths'] = data1['baths'].apply(lambda x: '13' if (x=='13.0') else x)\n",
        "data1['baths'] = data1['baths'].apply(lambda x: '14' if (x=='14.0') else x)\n",
        "data1['baths'] = data1['baths'].apply(lambda x: '15' if (x=='15.0') else x)\n",
        "data1['baths'] = data1['baths'].apply(lambda x: '16' if (x=='16.0') else x)\n",
        "data1['baths'] = data1['baths'].apply(lambda x: '17' if (x=='17.0') else x)\n",
        "data1['baths'] = data1['baths'].apply(lambda x: '18' if (x=='18.0') else x)\n",
        "data1['baths'] = data1['baths'].apply(lambda x: '20' if (x=='20.0') else x)\n",
        "data1['baths'] = data1['baths'].apply(lambda x: '22' if (x=='22.0') else x)\n",
        "data1['baths'] = data1['baths'].apply(lambda x: '23' if (x=='23.0') else x)\n",
        "data1['baths'] = data1['baths'].apply(lambda x: '24' if (x=='24.0') | (x=='241') else x)\n",
        "data1['baths'] = data1['baths'].apply(lambda x: '30' if (x=='30.0') else x)\n",
        "data1['baths'] = data1['baths'].apply(lambda x: '34' if (x=='34.0') else x)\n",
        "data1['baths'] = data1['baths'].apply(lambda x: '41' if (x=='41.0') else x)\n",
        "data1['baths'] = data1['baths'].apply(lambda x: '44' if (x=='44.0') else x)\n",
        "data1['baths'] = data1['baths'].apply(lambda x: '5' if (x=='5.0') | (x=='5.000') | (x=='5.2') | (x=='5.25') else x)\n",
        "data1['baths'] = data1['baths'].apply(lambda x: '55' if (x=='55.0') else x)\n",
        "data1['baths'] = data1['baths'].apply(lambda x: '6' if (x=='6.0') else x)\n",
        "data1['baths'] = data1['baths'].apply(lambda x: '6.5' if (x=='6.75') else x)\n",
        "data1['baths'] = data1['baths'].apply(lambda x: '64' if (x=='64.0') else x)\n",
        "data1['baths'] = data1['baths'].apply(lambda x: '7' if (x=='7.0') else x)\n",
        "data1['baths'] = data1['baths'].apply(lambda x: '7.5' if (x=='7.500') | (x=='750') else x)\n",
        "data1['baths'] = data1['baths'].apply(lambda x: '8' if (x=='8.0') else x)\n",
        "data1['baths'] = data1['baths'].apply(lambda x: '9' if (x=='9.0') else x)\n",
        "data1['baths'] = data1['baths'].apply(lambda x: '10' if (x=='10.0') else x)\n",
        "data1['baths'] = data1['baths'].apply(lambda x: '1.5' if (x=='1.500') | (x=='1.75') | (x=='1.750') else x)"
      ]
    },
    {
      "cell_type": "code",
      "execution_count": 28,
      "metadata": {
        "colab": {
          "base_uri": "https://localhost:8080/"
        },
        "id": "-weR-5Bx1Cq5",
        "outputId": "1053be7c-ac35-46e4-9099-4996ef0c6ab9"
      },
      "outputs": [
        {
          "data": {
            "text/plain": [
              "array(['0', '0.5', '1', '1.5', '10', '10.5', '11', '11.5', '12', '12.5',\n",
              "       '13', '14', '14.5', '15', '16', '17', '18', '19', '2', '2.5', '20',\n",
              "       '21', '22', '23', '24', '25', '26', '27', '28', '29', '3', '3.5',\n",
              "       '30', '32', '34', '35', '36', '39', '4', '4.5', '40', '41', '42',\n",
              "       '43', '44', '5', '5.5', '55', '6', '6.5', '60', '64', '68', '7',\n",
              "       '7.5', '76', '8', '8.5', '9', '9.5', 'UNKNOWN'], dtype=object)"
            ]
          },
          "execution_count": 28,
          "metadata": {},
          "output_type": "execute_result"
        }
      ],
      "source": [
        "data1['baths'].sort_values().unique()"
      ]
    },
    {
      "cell_type": "markdown",
      "metadata": {
        "id": "fOi7MoEIQbTc"
      },
      "source": [
        "Оставим 10 наибольших значений, а остальное заменим на 'other'."
      ]
    },
    {
      "cell_type": "code",
      "execution_count": 29,
      "metadata": {
        "id": "-9Spzl7E34Jq"
      },
      "outputs": [],
      "source": [
        "top_baths = data1['baths'].value_counts()[:10].index\n",
        "data1['baths'] = data1['baths'].apply(lambda x: x\n",
        "                                            if x in top_baths else 'other')\n",
        "data1['baths'] = data1['baths'].apply(lambda x: '0' if (x=='UNKNOWN') | (x=='other') else x)"
      ]
    },
    {
      "cell_type": "code",
      "execution_count": 30,
      "metadata": {
        "colab": {
          "base_uri": "https://localhost:8080/"
        },
        "id": "kYRxe6Ur4YPk",
        "outputId": "0fcf7941-ffdf-47c9-a353-be867a9b5b65"
      },
      "outputs": [
        {
          "data": {
            "text/plain": [
              "0      118206\n",
              "2      104260\n",
              "3       66449\n",
              "4       26248\n",
              "1       18743\n",
              "2.5     14745\n",
              "5        9440\n",
              "3.5      6160\n",
              "1.5      6160\n",
              "6        4293\n",
              "Name: baths, dtype: int64"
            ]
          },
          "execution_count": 30,
          "metadata": {},
          "output_type": "execute_result"
        }
      ],
      "source": [
        "data1['baths'].value_counts()"
      ]
    },
    {
      "cell_type": "code",
      "execution_count": 31,
      "metadata": {
        "id": "kGQrsEX6vIDE"
      },
      "outputs": [],
      "source": [
        "data1['baths'] = data1['baths'].astype(float)"
      ]
    },
    {
      "cell_type": "code",
      "execution_count": 32,
      "metadata": {
        "id": "R_5_1FJjvcCe"
      },
      "outputs": [],
      "source": [
        "data1['baths'] = data1['baths'].replace(0, data1['baths'].median(), regex=True)"
      ]
    },
    {
      "cell_type": "code",
      "execution_count": 33,
      "metadata": {
        "colab": {
          "base_uri": "https://localhost:8080/"
        },
        "id": "3_YNySi8vz0A",
        "outputId": "a1d649dc-e73e-4970-8980-3076b7d23750"
      },
      "outputs": [
        {
          "data": {
            "text/plain": [
              "2.0    222466\n",
              "3.0     66449\n",
              "4.0     26248\n",
              "1.0     18743\n",
              "2.5     14745\n",
              "5.0      9440\n",
              "3.5      6160\n",
              "1.5      6160\n",
              "6.0      4293\n",
              "Name: baths, dtype: int64"
            ]
          },
          "execution_count": 33,
          "metadata": {},
          "output_type": "execute_result"
        }
      ],
      "source": [
        "data1['baths'].value_counts()"
      ]
    },
    {
      "cell_type": "markdown",
      "metadata": {
        "id": "PTjkCi2_DuI-"
      },
      "source": [
        "Сохраним полученный датасет под именем data2."
      ]
    },
    {
      "cell_type": "code",
      "execution_count": 34,
      "metadata": {
        "id": "rqokvJ9JD797"
      },
      "outputs": [],
      "source": [
        "data2 = data1.copy()"
      ]
    },
    {
      "cell_type": "markdown",
      "metadata": {
        "id": "08eIr-jlE3pd"
      },
      "source": [
        "**Признак 'fireplace'**"
      ]
    },
    {
      "cell_type": "code",
      "execution_count": 35,
      "metadata": {
        "colab": {
          "base_uri": "https://localhost:8080/"
        },
        "id": "KhACpScTFF4I",
        "outputId": "8a6fc4cb-c361-4312-e854-ed9e52bbfd77"
      },
      "outputs": [
        {
          "data": {
            "text/plain": [
              "yes                                                                     50018\n",
              "Yes                                                                     20619\n",
              "1                                                                       14533\n",
              "2                                                                        2432\n",
              "Not Applicable                                                           1990\n",
              "                                                                        ...  \n",
              "Free-standing, Insert, Wood                                                 1\n",
              "Wood Burning, Attached Fireplace Doors/Screen, Electric, Gas Starter        1\n",
              "One, Living Room                                                            1\n",
              "FAMILYRM, Great Room, Living Room                                           1\n",
              "Ceiling Fan, SMAPL, Utility Connection, Walk-In Closets                     1\n",
              "Name: fireplace, Length: 1653, dtype: int64"
            ]
          },
          "execution_count": 35,
          "metadata": {},
          "output_type": "execute_result"
        }
      ],
      "source": [
        "data2['fireplace'].value_counts()"
      ]
    },
    {
      "cell_type": "code",
      "execution_count": 36,
      "metadata": {
        "colab": {
          "base_uri": "https://localhost:8080/"
        },
        "id": "CQ4k4b5KRUPO",
        "outputId": "45c4e2cd-be0c-4687-e04d-3ed8b49ef6d3"
      },
      "outputs": [
        {
          "data": {
            "text/plain": [
              "272182"
            ]
          },
          "execution_count": 36,
          "metadata": {},
          "output_type": "execute_result"
        }
      ],
      "source": [
        "data2['fireplace'].isna().sum()"
      ]
    },
    {
      "cell_type": "markdown",
      "metadata": {
        "id": "lp3Gxc-JREGc"
      },
      "source": [
        "Заменим все пропуски на 'no'."
      ]
    },
    {
      "cell_type": "code",
      "execution_count": 37,
      "metadata": {
        "id": "mlUTjWhuFI6Y"
      },
      "outputs": [],
      "source": [
        "data2['fireplace'] = data2['fireplace'].fillna('no')"
      ]
    },
    {
      "cell_type": "markdown",
      "metadata": {
        "id": "aQM-uEDNRZAJ"
      },
      "source": [
        "Приведём все символы к нижнему регистру."
      ]
    },
    {
      "cell_type": "code",
      "execution_count": 38,
      "metadata": {
        "id": "QFIcggWJFf8X"
      },
      "outputs": [],
      "source": [
        "data2['fireplace'] = data2['fireplace'].apply(lambda x: str(x).lower())"
      ]
    },
    {
      "cell_type": "code",
      "execution_count": 39,
      "metadata": {
        "colab": {
          "base_uri": "https://localhost:8080/"
        },
        "id": "gJgiEIvNEEux",
        "outputId": "6edfc539-e3b9-4ad7-95fa-27e89566f9ba"
      },
      "outputs": [
        {
          "data": {
            "text/plain": [
              "array(['gas logs', 'no', 'yes', '2', '0', '1', 'not applicable',\n",
              "       'fireplace yn', '5', 'family room, master bedroom', '1 fireplace',\n",
              "       'fireplace', 'living room, wood burning',\n",
              "       '1 fireplace, exterior fireplace', '3', 'n/k',\n",
              "       'firepit, gas fireplace', 'gas logs, in den/family room',\n",
              "       'familyrm', 'wood', 'direct vent, gas log, 1 fireplace',\n",
              "       'family room, living room, wood burning',\n",
              "       '1 fireplace, wood burning', 'extra closets',\n",
              "       'gas logs, great room', 'special features', 'gas, propane',\n",
              "       'great room',\n",
              "       'ceiling fan, extra closets, storage, utility connection',\n",
              "       'gas, living room'], dtype=object)"
            ]
          },
          "execution_count": 39,
          "metadata": {},
          "output_type": "execute_result"
        }
      ],
      "source": [
        "data2['fireplace'].unique()[:30]"
      ]
    },
    {
      "cell_type": "markdown",
      "metadata": {
        "id": "ljrZqTkjRlSM"
      },
      "source": [
        "Заменим все значения соответвующие отсутствующему камину на 'no'."
      ]
    },
    {
      "cell_type": "code",
      "execution_count": 40,
      "metadata": {
        "id": "oms25BgQFygS"
      },
      "outputs": [],
      "source": [
        "data2['fireplace'] = data2['fireplace'].str.replace('n/k', 'no', regex=True)\n",
        "data2['fireplace'] = data2['fireplace'].str.replace('decorative', 'no', regex=True)\n",
        "data2['fireplace'] = data2['fireplace'].str.replace('0 fireplace', 'no', regex=True)\n",
        "data2['fireplace'] = data2['fireplace'].str.replace('decorative only', 'no', regex=True)\n",
        "data2['fireplace'] = data2['fireplace'].str.replace('0t applicable', 'no', regex=True)\n",
        "data2['fireplace'] = data2['fireplace'].str.replace('not applicable', 'no', regex=True)"
      ]
    },
    {
      "cell_type": "code",
      "execution_count": 41,
      "metadata": {
        "colab": {
          "base_uri": "https://localhost:8080/"
        },
        "id": "EujeP6TGF-yT",
        "outputId": "f725af28-bd4f-4cf5-8c8b-1f329a5d4c98"
      },
      "outputs": [
        {
          "data": {
            "text/plain": [
              "no                                                                      274583\n",
              "yes                                                                      70637\n",
              "1                                                                        14533\n",
              "2                                                                         2432\n",
              "fireplace                                                                  847\n",
              "                                                                         ...  \n",
              "free-standing, insert, wood                                                  1\n",
              "wood burning, attached fireplace doors/screen, electric, gas starter         1\n",
              "one, living room                                                             1\n",
              "familyrm, great room, living room                                            1\n",
              "ceiling fan, smapl, utility connection, walk-in closets                      1\n",
              "Name: fireplace, Length: 1649, dtype: int64"
            ]
          },
          "execution_count": 41,
          "metadata": {},
          "output_type": "execute_result"
        }
      ],
      "source": [
        "data2['fireplace'].value_counts()"
      ]
    },
    {
      "cell_type": "markdown",
      "metadata": {
        "id": "7fwdzh8yR7oD"
      },
      "source": [
        "Сделаем функцию превращающую признак 'fireplace' в бинарный, где 1 означает наличие камина, а 0 - его отсутствие."
      ]
    },
    {
      "cell_type": "code",
      "execution_count": 42,
      "metadata": {
        "id": "uUpAV1gaGFM7"
      },
      "outputs": [],
      "source": [
        "data2['fireplace'] = data2['fireplace'].apply(lambda x: 0 if x=='no' else 1)"
      ]
    },
    {
      "cell_type": "code",
      "execution_count": 43,
      "metadata": {
        "colab": {
          "base_uri": "https://localhost:8080/"
        },
        "id": "Lc103JcVKOeh",
        "outputId": "e651b5d1-ce66-42d1-a2aa-56690da61926"
      },
      "outputs": [
        {
          "data": {
            "text/plain": [
              "0    274583\n",
              "1    100121\n",
              "Name: fireplace, dtype: int64"
            ]
          },
          "execution_count": 43,
          "metadata": {},
          "output_type": "execute_result"
        }
      ],
      "source": [
        "data2['fireplace'].value_counts()"
      ]
    },
    {
      "cell_type": "markdown",
      "metadata": {
        "id": "2kulCY2W7MLb"
      },
      "source": [
        "Сохраним полученный датасет под именем data3."
      ]
    },
    {
      "cell_type": "code",
      "execution_count": 44,
      "metadata": {
        "id": "zrj7K-a07FRm"
      },
      "outputs": [],
      "source": [
        "data3 = data2.copy()"
      ]
    },
    {
      "cell_type": "markdown",
      "metadata": {
        "id": "L50qN2v46juR"
      },
      "source": [
        "**Признак 'beds'**"
      ]
    },
    {
      "cell_type": "code",
      "execution_count": 45,
      "metadata": {
        "colab": {
          "base_uri": "https://localhost:8080/"
        },
        "id": "hxwvZ__d6nfW",
        "outputId": "326dfa60-6f39-4b58-85c2-cb8edb2d0a9d"
      },
      "outputs": [
        {
          "data": {
            "text/plain": [
              "3 Beds        53077\n",
              "4 Beds        35225\n",
              "3             31191\n",
              "2 Beds        26196\n",
              "4             19915\n",
              "              ...  \n",
              "5,510 sqft        1\n",
              "3.8 acres         1\n",
              "7,104 sqft        1\n",
              "9,443 sqft        1\n",
              "8,479 sqft        1\n",
              "Name: beds, Length: 1147, dtype: int64"
            ]
          },
          "execution_count": 45,
          "metadata": {},
          "output_type": "execute_result"
        }
      ],
      "source": [
        "data3['beds'].value_counts()"
      ]
    },
    {
      "cell_type": "code",
      "execution_count": 46,
      "metadata": {
        "id": "v1Q9id-G7UA1"
      },
      "outputs": [],
      "source": [
        "data3['beds'] = data3['beds'].apply(lambda x: str(x).lower())"
      ]
    },
    {
      "cell_type": "code",
      "execution_count": 47,
      "metadata": {
        "colab": {
          "base_uri": "https://localhost:8080/"
        },
        "id": "Kc-Hly8y-iAf",
        "outputId": "5f3046a9-d389-4624-f985-6ee04a878ee9"
      },
      "outputs": [
        {
          "data": {
            "text/plain": [
              "['4',\n",
              " '3 beds',\n",
              " '5 beds',\n",
              " 'nan',\n",
              " '2 beds',\n",
              " '3',\n",
              " '4 beds',\n",
              " '3 bd',\n",
              " 'baths',\n",
              " '4 bd',\n",
              " '5 bd',\n",
              " '8 beds',\n",
              " '2',\n",
              " '2 bd',\n",
              " '2.0',\n",
              " '5',\n",
              " '1',\n",
              " '3.0',\n",
              " '6 beds',\n",
              " 'bath',\n",
              " '12 beds',\n",
              " '6',\n",
              " '14',\n",
              " '0.25 acres',\n",
              " '-- bd',\n",
              " '7',\n",
              " '5.0',\n",
              " '4.0',\n",
              " ' ',\n",
              " '7 beds',\n",
              " '1 bd',\n",
              " '9 beds',\n",
              " '0.44 acres',\n",
              " '0',\n",
              " '1.43 acres',\n",
              " '0.32 acres',\n",
              " '8,637 sqft',\n",
              " '6 bd',\n",
              " '7.0',\n",
              " '16 beds',\n",
              " '9.7 acres',\n",
              " '1.0',\n",
              " '16 bd',\n",
              " '8',\n",
              " '10,310 sqft',\n",
              " '6,250 sqft',\n",
              " '3.02 acres',\n",
              " '2 acres',\n",
              " '5,000 sqft',\n",
              " '0.96 acres']"
            ]
          },
          "execution_count": 47,
          "metadata": {},
          "output_type": "execute_result"
        }
      ],
      "source": [
        "data3['beds'].unique().tolist()[:50]"
      ]
    },
    {
      "cell_type": "markdown",
      "metadata": {
        "id": "_8SLMNc_-QsE"
      },
      "source": [
        "Наблюдаем, что в признаке 'beds' присутствует много странной информации - площадь в акрах, площадь в квадратных дюймах и прочее. Эту информацию сложно будет обработать и упорядочить. Поэтому удалим этот признак."
      ]
    },
    {
      "cell_type": "code",
      "execution_count": 48,
      "metadata": {
        "id": "N3t3heog_83M"
      },
      "outputs": [],
      "source": [
        "data3.drop(['beds'],axis=1, inplace=True)"
      ]
    },
    {
      "cell_type": "markdown",
      "metadata": {
        "id": "6HCBAG1sCh_z"
      },
      "source": [
        "**Признак 'state'**"
      ]
    },
    {
      "cell_type": "markdown",
      "metadata": {
        "id": "H-2CVmGPhRnP"
      },
      "source": [
        "Посмотрим количество пропусков в признаке."
      ]
    },
    {
      "cell_type": "code",
      "execution_count": 49,
      "metadata": {
        "colab": {
          "base_uri": "https://localhost:8080/"
        },
        "id": "qtuTDqwMCxsI",
        "outputId": "580c3cc2-2928-47d5-cb89-bebfcca35546"
      },
      "outputs": [
        {
          "data": {
            "text/plain": [
              "0"
            ]
          },
          "execution_count": 49,
          "metadata": {},
          "output_type": "execute_result"
        }
      ],
      "source": [
        "data3['state'].isna().sum()"
      ]
    },
    {
      "cell_type": "markdown",
      "metadata": {
        "id": "SbpMuysrha-F"
      },
      "source": [
        "Посмотрим какие названия штатов присутствуют в объявлениях о продаже недвижимости и оценим какое количество объявлений размещено от каждого штата."
      ]
    },
    {
      "cell_type": "code",
      "execution_count": 50,
      "metadata": {
        "colab": {
          "base_uri": "https://localhost:8080/"
        },
        "id": "9Czg0C0jC8dm",
        "outputId": "325e65ec-9c25-463f-82ad-fa26d980e28c"
      },
      "outputs": [
        {
          "data": {
            "text/plain": [
              "array(['NC', 'WA', 'CA', 'TX', 'FL', 'PA', 'TN', 'IA', 'NY', 'OR', 'DC',\n",
              "       'NV', 'AZ', 'GA', 'IL', 'NJ', 'MA', 'OH', 'IN', 'UT', 'MI', 'VT',\n",
              "       'MD', 'CO', 'VA', 'KY', 'MO', 'WI', 'ME', 'MS', 'OK', 'SC', 'MT',\n",
              "       'DE', 'Fl', 'BA', 'AL', 'OT', 'OS'], dtype=object)"
            ]
          },
          "execution_count": 50,
          "metadata": {},
          "output_type": "execute_result"
        }
      ],
      "source": [
        "data3['state'].unique()"
      ]
    },
    {
      "cell_type": "code",
      "execution_count": 51,
      "metadata": {
        "colab": {
          "base_uri": "https://localhost:8080/"
        },
        "id": "64er8mrNBES4",
        "outputId": "4b697c42-c9cd-4291-beb3-a52dc8b5607b"
      },
      "outputs": [
        {
          "data": {
            "text/plain": [
              "FL    114667\n",
              "TX     83358\n",
              "NY     24339\n",
              "CA     23208\n",
              "NC     21786\n",
              "TN     18231\n",
              "WA     13739\n",
              "OH     12432\n",
              "IL      8852\n",
              "NV      8421\n",
              "GA      6641\n",
              "CO      6377\n",
              "PA      5510\n",
              "MI      5126\n",
              "DC      4585\n",
              "AZ      3347\n",
              "IN      3294\n",
              "OR      2778\n",
              "MA      1498\n",
              "UT      1321\n",
              "MD      1086\n",
              "VT       864\n",
              "MO       832\n",
              "VA       800\n",
              "WI       452\n",
              "NJ       436\n",
              "ME       258\n",
              "IA       242\n",
              "KY        90\n",
              "OK        49\n",
              "MS        40\n",
              "SC        28\n",
              "MT         7\n",
              "DE         5\n",
              "Fl         1\n",
              "BA         1\n",
              "AL         1\n",
              "OT         1\n",
              "OS         1\n",
              "Name: state, dtype: int64"
            ]
          },
          "execution_count": 51,
          "metadata": {},
          "output_type": "execute_result"
        }
      ],
      "source": [
        "data3['state'].value_counts()"
      ]
    },
    {
      "cell_type": "markdown",
      "metadata": {
        "id": "W8DwCunDGVs1"
      },
      "source": [
        "Оставим 10 самых часто встречающихся в объявлениях штатов. Остальные заменим на others."
      ]
    },
    {
      "cell_type": "code",
      "execution_count": 52,
      "metadata": {
        "id": "cSV0GsNHCtZ2"
      },
      "outputs": [],
      "source": [
        "popular_state = data3['state'].value_counts()[:10].index\n",
        "data3['state'] = data3['state'].apply(lambda x: x\n",
        "                                            if x in popular_state else 'others')"
      ]
    },
    {
      "cell_type": "code",
      "execution_count": 53,
      "metadata": {
        "colab": {
          "base_uri": "https://localhost:8080/"
        },
        "id": "tZK3oM31FpL0",
        "outputId": "4ebe2532-2435-4480-f603-0ebdcc9102c4"
      },
      "outputs": [
        {
          "data": {
            "text/plain": [
              "FL        114667\n",
              "TX         83358\n",
              "others     45671\n",
              "NY         24339\n",
              "CA         23208\n",
              "NC         21786\n",
              "TN         18231\n",
              "WA         13739\n",
              "OH         12432\n",
              "IL          8852\n",
              "NV          8421\n",
              "Name: state, dtype: int64"
            ]
          },
          "execution_count": 53,
          "metadata": {},
          "output_type": "execute_result"
        }
      ],
      "source": [
        "data3['state'].value_counts()"
      ]
    },
    {
      "cell_type": "markdown",
      "metadata": {
        "id": "5SS43NYjHaB4"
      },
      "source": [
        "Сохраним полученный датасет под именем data4."
      ]
    },
    {
      "cell_type": "code",
      "execution_count": 54,
      "metadata": {
        "id": "pZh_TQS_F2uW"
      },
      "outputs": [],
      "source": [
        "data4 = data3.copy()"
      ]
    },
    {
      "cell_type": "markdown",
      "metadata": {
        "id": "Y_XeuLRXHpDU"
      },
      "source": [
        "**Признак 'sqft'**"
      ]
    },
    {
      "cell_type": "markdown",
      "metadata": {
        "id": "mkAtASo9TlZs"
      },
      "source": [
        "Посмотрим количество уникальных и пропущенных значений в признаке."
      ]
    },
    {
      "cell_type": "code",
      "execution_count": 55,
      "metadata": {
        "colab": {
          "base_uri": "https://localhost:8080/"
        },
        "id": "s8pTQiewHunC",
        "outputId": "dcaf8c09-9fd7-49dd-fbca-08f812371424"
      },
      "outputs": [
        {
          "data": {
            "text/plain": [
              "25373"
            ]
          },
          "execution_count": 55,
          "metadata": {},
          "output_type": "execute_result"
        }
      ],
      "source": [
        "data4['sqft'].nunique()"
      ]
    },
    {
      "cell_type": "code",
      "execution_count": 56,
      "metadata": {
        "colab": {
          "base_uri": "https://localhost:8080/"
        },
        "id": "YftBCYEfH4iy",
        "outputId": "9e1d316d-9a0c-49b7-e48b-c61d9e4f29c3"
      },
      "outputs": [
        {
          "data": {
            "text/plain": [
              "40122"
            ]
          },
          "execution_count": 56,
          "metadata": {},
          "output_type": "execute_result"
        }
      ],
      "source": [
        "data4['sqft'].isna().sum()"
      ]
    },
    {
      "cell_type": "markdown",
      "metadata": {
        "id": "nimrqmPeTxP_"
      },
      "source": [
        "Заполним пропуски на значение 0."
      ]
    },
    {
      "cell_type": "code",
      "execution_count": 57,
      "metadata": {
        "id": "cqey3LCz6EbR"
      },
      "outputs": [],
      "source": [
        "data4['sqft'] = data4['sqft'].fillna('0')"
      ]
    },
    {
      "cell_type": "code",
      "execution_count": 58,
      "metadata": {
        "id": "z42h33hcqI7L"
      },
      "outputs": [],
      "source": [
        "data4['sqft'] = data4['sqft'].str.replace('Total interior livable area: ', '', regex=True)\n",
        "data4['sqft'] = data4['sqft'].str.replace(' sqft', '', regex=True)\n",
        "data4['sqft'] = data4['sqft'].str.replace(',', '', regex=True)\n",
        "data4['sqft'] = data4['sqft'].str.replace('--', '0', regex=True)\n",
        "data4['sqft'] = data4['sqft'].str.replace('610-840', '725', regex=True)"
      ]
    },
    {
      "cell_type": "code",
      "execution_count": 59,
      "metadata": {
        "colab": {
          "base_uri": "https://localhost:8080/"
        },
        "id": "dtP-mur1KZ1n",
        "outputId": "8c2570c6-4670-4532-c049-fa6b1c7ca0d7"
      },
      "outputs": [
        {
          "data": {
            "text/plain": [
              "0          52786\n",
              "1200        1411\n",
              "1000        1018\n",
              "1500        1010\n",
              "1800         983\n",
              "           ...  \n",
              "8268           1\n",
              "15333          1\n",
              "135472         1\n",
              "1916640        1\n",
              "13870          1\n",
              "Name: sqft, Length: 9879, dtype: int64"
            ]
          },
          "execution_count": 59,
          "metadata": {},
          "output_type": "execute_result"
        }
      ],
      "source": [
        "data4['sqft'].value_counts()"
      ]
    },
    {
      "cell_type": "markdown",
      "metadata": {
        "id": "epiQC7dAT7Ai"
      },
      "source": [
        "Приведем значение к числовому типу."
      ]
    },
    {
      "cell_type": "code",
      "execution_count": 60,
      "metadata": {
        "id": "tUtb30Y4IItT"
      },
      "outputs": [],
      "source": [
        "data4['sqft'] = data4['sqft'].astype(float)"
      ]
    },
    {
      "cell_type": "markdown",
      "metadata": {
        "id": "-ockwPQXUD-S"
      },
      "source": [
        "Так как площадь дома не может быть нулевой, то заменим нули на медианное значение."
      ]
    },
    {
      "cell_type": "code",
      "execution_count": 61,
      "metadata": {
        "id": "iqMCcE0f6tQH"
      },
      "outputs": [],
      "source": [
        "data4['sqft'] = data4['sqft'].replace(0, data4['sqft'].median(), regex=True)"
      ]
    },
    {
      "cell_type": "code",
      "execution_count": 62,
      "metadata": {
        "colab": {
          "base_uri": "https://localhost:8080/"
        },
        "id": "lhGaynR9s7Hz",
        "outputId": "9c839287-69bb-45c9-c78d-e5a59d0b1bc3"
      },
      "outputs": [
        {
          "data": {
            "text/plain": [
              "1656.0     52918\n",
              "1200.0      1411\n",
              "1000.0      1018\n",
              "1500.0      1010\n",
              "1800.0       983\n",
              "           ...  \n",
              "10256.0        1\n",
              "6808.0         1\n",
              "29754.0        1\n",
              "51516.0        1\n",
              "13870.0        1\n",
              "Name: sqft, Length: 9878, dtype: int64"
            ]
          },
          "execution_count": 62,
          "metadata": {},
          "output_type": "execute_result"
        }
      ],
      "source": [
        "data4['sqft'].value_counts()"
      ]
    },
    {
      "cell_type": "code",
      "execution_count": 63,
      "metadata": {
        "colab": {
          "base_uri": "https://localhost:8080/"
        },
        "id": "zgFEf1oeuCt7",
        "outputId": "aad2e849-ae88-4903-b7c2-cfe474962bfe"
      },
      "outputs": [
        {
          "name": "stdout",
          "output_type": "stream",
          "text": [
            "<class 'pandas.core.frame.DataFrame'>\n",
            "RangeIndex: 374704 entries, 0 to 374703\n",
            "Data columns (total 13 columns):\n",
            " #   Column        Non-Null Count   Dtype  \n",
            "---  ------        --------------   -----  \n",
            " 0   status        335447 non-null  object \n",
            " 1   propertyType  340150 non-null  object \n",
            " 2   street        374702 non-null  object \n",
            " 3   baths         374704 non-null  float64\n",
            " 4   homeFacts     374704 non-null  object \n",
            " 5   fireplace     374704 non-null  int64  \n",
            " 6   city          374670 non-null  object \n",
            " 7   schools       374704 non-null  object \n",
            " 8   sqft          374704 non-null  float64\n",
            " 9   state         374704 non-null  object \n",
            " 10  stories       224910 non-null  object \n",
            " 11  target        374704 non-null  float64\n",
            " 12  pool          374704 non-null  int64  \n",
            "dtypes: float64(3), int64(2), object(8)\n",
            "memory usage: 37.2+ MB\n"
          ]
        }
      ],
      "source": [
        "data4.info()"
      ]
    },
    {
      "cell_type": "markdown",
      "metadata": {
        "id": "QUGpQMHHUP0i"
      },
      "source": [
        "Сохраним полученный набор данных под именем data5."
      ]
    },
    {
      "cell_type": "code",
      "execution_count": 64,
      "metadata": {
        "id": "VTvnup2hxWOw"
      },
      "outputs": [],
      "source": [
        "data5 = data4.copy()"
      ]
    },
    {
      "cell_type": "markdown",
      "metadata": {
        "id": "Pbyo6riqxOAF"
      },
      "source": [
        "**Признак 'stories'**"
      ]
    },
    {
      "cell_type": "markdown",
      "metadata": {
        "id": "_yzjc1ZrUePj"
      },
      "source": [
        "Посмотрим количество пропущенных значений."
      ]
    },
    {
      "cell_type": "code",
      "execution_count": 65,
      "metadata": {
        "colab": {
          "base_uri": "https://localhost:8080/"
        },
        "id": "KnpEh6vZB9WI",
        "outputId": "fe181067-c319-40ec-b4b2-b7f0a4aaa386"
      },
      "outputs": [
        {
          "data": {
            "text/plain": [
              "149794"
            ]
          },
          "execution_count": 65,
          "metadata": {},
          "output_type": "execute_result"
        }
      ],
      "source": [
        "data5['stories'].isna().sum()"
      ]
    },
    {
      "cell_type": "markdown",
      "metadata": {
        "id": "8D_rYbACUjWx"
      },
      "source": [
        "Обработаем признак 'stories'."
      ]
    },
    {
      "cell_type": "code",
      "execution_count": 66,
      "metadata": {
        "id": "0Tzll1la9Urw"
      },
      "outputs": [],
      "source": [
        "data5['stories'] = data5['stories'].apply(lambda x: str(x).lower())\n",
        "data5['stories'] = data5['stories'].apply(lambda x: '1' if (x=='1.00') | (x=='1.0') | (x=='1 story') | (x=='one') | (x=='1 level') | (x=='ranch/1') | (x=='1 site built') | (x=='one story') | (x=='ranch/1 story') | (x=='one level') | (x=='1 level site built ') | (x=='1 story basement') | (x=='1 story/ranch') else x)\n",
        "data5['stories'] = data5['stories'].apply(lambda x: '2' if (x=='2.00') | (x=='2.0') | (x=='2 story') | (x=='two') | (x=='2 level') | (x=='ranch/1') | (x=='2/basement') | (x=='2 level site built ') | (x=='2 stories') | (x=='2 or more') | (x=='20') | (x=='two story or more') | (x=='2 story/basement') | (x=='2 or more stories') | (x=='traditional') | (x=='2 levels') | (x=='bi-level') else x)\n",
        "data5['stories'] = data5['stories'].apply(lambda x: '3' if (x=='3.0') | (x=='3.00') | (x=='3 story') | (x=='3 or more') | (x=='30') | (x=='three or more') | (x=='tri-level') | (x=='3 level site built') | (x=='three or more levels') else x)\n",
        "data5['stories'] = data5['stories'].apply(lambda x: '1.5' if (x=='1.5 story') | (x=='1.50') | (x=='1.5 level site built') | (x=='1.5 story/basement') | (x=='1.5 level') | (x=='1.75') | (x=='one and one half') else x)\n",
        "data5['stories'] = data5['stories'].apply(lambda x: '9' if (x=='9.0') | (x=='multi/split') | (x=='lot') | (x=='multi-level') | (x=='high-rise') else x)\n",
        "data5['stories'] = data5['stories'].apply(lambda x: '4' if (x=='4.0') | (x=='4 story') else x)\n",
        "data5['stories'] = data5['stories'].apply(lambda x: '2.5' if (x=='2.50') | (x=='25') | (x=='2.5 story') else x)\n",
        "data5['stories'] = data5['stories'].apply(lambda x: '0' if (x=='0.0') else x)\n",
        "data5['stories'] = data5['stories'].str.replace('[a-z]', '', regex=True)\n",
        "data5['stories'] = data5['stories'].str.replace(',', '', regex=True)\n",
        "data5['stories'] = data5['stories'].str.replace('\\+', '', regex=True)"
      ]
    },
    {
      "cell_type": "code",
      "execution_count": 67,
      "metadata": {
        "id": "25GH0sic6Dp9"
      },
      "outputs": [],
      "source": [
        "data5['stories'] = data5['stories'].str.replace('2.0000', '2', regex=True)\n",
        "data5['stories'] = data5['stories'].str.replace('6.0', '6', regex=True)\n",
        "data5['stories'] = data5['stories'].str.replace('5.0', '5', regex=True)\n",
        "data5['stories'] = data5['stories'].str.replace('7.0', '7', regex=True)\n",
        "data5['stories'] = data5['stories'].str.replace('8.0', '8', regex=True)\n",
        "data5['stories'] = data5['stories'].str.replace('1.0000', '1', regex=True)\n",
        "data5['stories'] = data5['stories'].str.replace(' ', '_', regex=True)"
      ]
    },
    {
      "cell_type": "code",
      "execution_count": 68,
      "metadata": {
        "id": "PFL_6I4_6_pT"
      },
      "outputs": [],
      "source": [
        "data5['stories'] = data5['stories'].apply(lambda x: '0' if (x=='_') | (x=='/') | (x=='-') | (x=='___') | (x=='_-') | (x=='-__') | (x=='/_') | (x=='_-__') | (x=='_/') | (x=='__') | (x=='__(-)') | (x=='__-') | (x=='__/') | (x=='__-_') | (x=='__/_') | (x=='___/') | (x=='____') | (x=='______') else x)\n",
        "data5['stories'] = data5['stories'].apply(lambda x: '1' if (x=='1___') | (x=='1.2') | (x=='1_') | (x=='1_/....') | (x=='1_1') | (x=='1__') | (x=='1__-_') | (x=='1__1.5_') | (x=='1.000') | (x=='1.30') | (x=='_1') | (x=='1____') else x)\n",
        "data5['stories'] = data5['stories'].apply(lambda x: '1.5' if (x=='1.5___') | (x=='1.50') | (x=='1.5_') | (x=='1.5_2') | (x=='1-2') | (x=='1.7') | (x=='1.70') | (x=='1.5____-') | (x=='1_1/2_') | (x=='1__2_') | (x=='1-2_')  else x)\n",
        "data5['stories'] = data5['stories'].apply(lambda x: '2' if (x=='2.000') | (x=='2___') | (x=='2.20') | (x=='2_') | (x=='2__') | (x=='_2') | (x=='2___2_') | (x=='2____') | (x=='2_____') else x)\n",
        "data5['stories'] = data5['stories'].apply(lambda x: '2.5' if (x=='-2__3-_3_') | (x=='1-2__3-4_') | (x=='2.50') | (x=='2.5_/') else x)\n",
        "data5['stories'] = data5['stories'].apply(lambda x: '3' if (x=='3___') | (x=='3_') | (x=='3.0000') | (x=='3-_3_') | (x=='3.000') | (x=='_3') | (x=='3_-') | (x=='3_/') | (x=='3__') | (x=='3____') | (x=='3____-') | (x=='3_____') else x)\n",
        "data5['stories'] = data5['stories'].apply(lambda x: '3.5' if (x=='3-4_') else x)\n",
        "data5['stories'] = data5['stories'].apply(lambda x: '4' if (x=='4.00') | (x=='4_') | (x=='3_-_5_') | (x=='4.0000') else x)\n",
        "data5['stories'] = data5['stories'].str.replace('12.0', '12', regex=True)\n",
        "data5['stories'] = data5['stories'].str.replace('11.0', '11', regex=True)\n",
        "data5['stories'] = data5['stories'].str.replace('20.0', '20', regex=True)\n",
        "data5['stories'] = data5['stories'].str.replace('10.0', '10', regex=True)\n",
        "data5['stories'] = data5['stories'].str.replace('14.0', '14', regex=True)\n",
        "data5['stories'] = data5['stories'].str.replace('13.0', '13', regex=True)\n",
        "data5['stories'] = data5['stories'].str.replace('29.0', '29', regex=True)\n",
        "data5['stories'] = data5['stories'].str.replace('21.0', '21', regex=True)\n",
        "data5['stories'] = data5['stories'].str.replace('19.0', '19', regex=True)\n",
        "data5['stories'] = data5['stories'].str.replace('22_', '22', regex=True)\n",
        "data5['stories'] = data5['stories'].str.replace('24.0', '24', regex=True)\n",
        "data5['stories'] = data5['stories'].str.replace('23.0', '23', regex=True)\n",
        "data5['stories'] = data5['stories'].str.replace('22.0', '22', regex=True)\n",
        "data5['stories'] = data5['stories'].str.replace('30.0', '30', regex=True)\n",
        "data5['stories'] = data5['stories'].str.replace('40.0', '40', regex=True)\n",
        "data5['stories'] = data5['stories'].str.replace('33.0', '33', regex=True)\n",
        "data5['stories'] = data5['stories'].str.replace('31.0', '31', regex=True)\n",
        "data5['stories'] = data5['stories'].str.replace('32.0', '32', regex=True)\n",
        "data5['stories'] = data5['stories'].str.replace('34.0', '34', regex=True)\n",
        "data5['stories'] = data5['stories'].str.replace('39.0', '39', regex=True)\n",
        "data5['stories'] = data5['stories'].str.replace('41.0', '41', regex=True)\n",
        "data5['stories'] = data5['stories'].str.replace('42.0', '42', regex=True)\n",
        "data5['stories'] = data5['stories'].str.replace('43.0', '43', regex=True)\n",
        "data5['stories'] = data5['stories'].str.replace('50.0', '50', regex=True)\n",
        "data5['stories'] = data5['stories'].str.replace('52.0', '52', regex=True)\n",
        "data5['stories'] = data5['stories'].str.replace('60.0', '60', regex=True)\n",
        "data5['stories'] = data5['stories'].str.replace('64.0', '64', regex=True)\n",
        "data5['stories'] = data5['stories'].str.replace('6_', '6', regex=True)\n",
        "data5['stories'] = data5['stories'].str.replace('70.0', '70', regex=True)\n",
        "data5['stories'] = data5['stories'].str.replace('80.0', '80', regex=True)\n",
        "data5['stories'] = data5['stories'].str.replace('_5_', '5', regex=True)\n",
        "data5['stories'] = data5['stories'].str.replace('110', '11', regex=True)\n",
        "data5['stories'] = data5['stories'].str.replace('150', '15', regex=True)\n",
        "data5['stories'] = data5['stories'].str.replace('160', '16', regex=True)\n",
        "data5['stories'] = data5['stories'].str.replace('300', '30', regex=True)\n",
        "data5['stories'] = data5['stories'].str.replace('400', '40', regex=True)"
      ]
    },
    {
      "cell_type": "code",
      "execution_count": 69,
      "metadata": {
        "colab": {
          "base_uri": "https://localhost:8080/"
        },
        "id": "ma60vcVsJBp3",
        "outputId": "8bf85d9f-1d14-402a-960c-f6a7ecca3a1e"
      },
      "outputs": [
        {
          "data": {
            "text/plain": [
              "array(['', '0', '1', '1.30', '1.5', '10', '1002.0', '11', '11.0', '12',\n",
              "       '13', '14', '15', '16', '17', '18', '19', '2', '2.5', '20', '21',\n",
              "       '22', '23', '24', '25', '26', '27', '28', '29', '3', '3.5', '30',\n",
              "       '31', '32', '33', '34', '35', '36', '37', '38', '39', '4', '40',\n",
              "       '41', '42', '43', '44', '45', '46', '47', '48', '49.0', '5', '50',\n",
              "       '51.0', '52', '54.0', '55', '56', '57', '58', '6', '60', '62.0',\n",
              "       '63.0', '64', '65', '66', '68', '7', '70', '75', '77', '78', '8',\n",
              "       '80', '82', '9', '90.0', '91', '95', '96'], dtype=object)"
            ]
          },
          "execution_count": 69,
          "metadata": {},
          "output_type": "execute_result"
        }
      ],
      "source": [
        "data5['stories'].sort_values().unique()"
      ]
    },
    {
      "cell_type": "markdown",
      "metadata": {
        "id": "5mbp5TPbMYJ-"
      },
      "source": [
        "1002 этажа явно является выбросом. Удалим его."
      ]
    },
    {
      "cell_type": "code",
      "execution_count": 70,
      "metadata": {
        "id": "KTp66qFeLy22"
      },
      "outputs": [],
      "source": [
        "data5 = data5.drop(data5[(data5['stories'] == '1002.0')].index)\n",
        "data5.reset_index(inplace = True, drop = True)"
      ]
    },
    {
      "cell_type": "code",
      "execution_count": 71,
      "metadata": {
        "id": "u6MNkrE2SYL5"
      },
      "outputs": [],
      "source": [
        "data5['stories'] = data5['stories'].apply(lambda x: '0.01' if (x=='') else x)"
      ]
    },
    {
      "cell_type": "code",
      "execution_count": 72,
      "metadata": {
        "colab": {
          "base_uri": "https://localhost:8080/"
        },
        "id": "5EPIGuGy0vYv",
        "outputId": "ed0ab694-078e-4cca-f481-c35c618aa61a"
      },
      "outputs": [
        {
          "data": {
            "text/plain": [
              "0.01    150769\n",
              "1        99266\n",
              "2        81698\n",
              "3        17798\n",
              "0        11974\n",
              "9         4105\n",
              "4         3126\n",
              "1.5       1358\n",
              "6         1007\n",
              "5          803\n",
              "7          404\n",
              "8          334\n",
              "2.5        216\n",
              "12         150\n",
              "16         119\n",
              "11         110\n",
              "14          93\n",
              "15          88\n",
              "17          87\n",
              "13          81\n",
              "Name: stories, dtype: int64"
            ]
          },
          "execution_count": 72,
          "metadata": {},
          "output_type": "execute_result"
        }
      ],
      "source": [
        "data5['stories'].value_counts()[:20]"
      ]
    },
    {
      "cell_type": "code",
      "execution_count": 73,
      "metadata": {
        "id": "_TNBi2p1Nrsw"
      },
      "outputs": [],
      "source": [
        "data5['stories'] = data5['stories'].astype(float)"
      ]
    },
    {
      "cell_type": "code",
      "execution_count": 74,
      "metadata": {
        "id": "aS7uyZ8oS6_V"
      },
      "outputs": [],
      "source": [
        "data5['stories'] = data5['stories'].replace(0.01, data5['stories'].median(), regex=True)"
      ]
    },
    {
      "cell_type": "code",
      "execution_count": 78,
      "metadata": {
        "colab": {
          "base_uri": "https://localhost:8080/"
        },
        "id": "Oc8EGGCnTGOS",
        "outputId": "26ed20b7-0c54-4a5d-87e3-c66bf2ac73e8"
      },
      "outputs": [
        {
          "data": {
            "text/plain": [
              "stories\n",
              "1.0     250035\n",
              "2.0      81698\n",
              "3.0      17798\n",
              "0.0      11974\n",
              "9.0       4105\n",
              "         ...  \n",
              "95.0         2\n",
              "82.0         1\n",
              "1.3          1\n",
              "96.0         1\n",
              "65.0         1\n",
              "Name: count, Length: 79, dtype: int64"
            ]
          },
          "execution_count": 78,
          "metadata": {},
          "output_type": "execute_result"
        }
      ],
      "source": [
        "data5['stories'].value_counts()"
      ]
    },
    {
      "cell_type": "code",
      "execution_count": 75,
      "metadata": {
        "colab": {
          "base_uri": "https://localhost:8080/"
        },
        "id": "skJZWaQKEJdM",
        "outputId": "fa4c0547-6d72-45f6-cabb-e1fdb3507b32"
      },
      "outputs": [
        {
          "name": "stdout",
          "output_type": "stream",
          "text": [
            "<class 'pandas.core.frame.DataFrame'>\n",
            "RangeIndex: 374703 entries, 0 to 374702\n",
            "Data columns (total 13 columns):\n",
            " #   Column        Non-Null Count   Dtype  \n",
            "---  ------        --------------   -----  \n",
            " 0   status        335446 non-null  object \n",
            " 1   propertyType  340149 non-null  object \n",
            " 2   street        374701 non-null  object \n",
            " 3   baths         374703 non-null  float64\n",
            " 4   homeFacts     374703 non-null  object \n",
            " 5   fireplace     374703 non-null  int64  \n",
            " 6   city          374669 non-null  object \n",
            " 7   schools       374703 non-null  object \n",
            " 8   sqft          374703 non-null  float64\n",
            " 9   state         374703 non-null  object \n",
            " 10  stories       374703 non-null  float64\n",
            " 11  target        374703 non-null  float64\n",
            " 12  pool          374703 non-null  int64  \n",
            "dtypes: float64(4), int64(2), object(7)\n",
            "memory usage: 37.2+ MB\n"
          ]
        }
      ],
      "source": [
        "data5.info()"
      ]
    },
    {
      "cell_type": "markdown",
      "metadata": {
        "id": "MxnTIxF2VRQU"
      },
      "source": [
        "Сохраним полученный набор данных под именем data6."
      ]
    },
    {
      "cell_type": "code",
      "execution_count": 76,
      "metadata": {
        "id": "ciq0lsSlEOQ4"
      },
      "outputs": [],
      "source": [
        "data6 = data5.copy()"
      ]
    },
    {
      "cell_type": "markdown",
      "metadata": {
        "id": "1qonJv2tFBMG"
      },
      "source": [
        "**Признак 'street'**"
      ]
    },
    {
      "cell_type": "code",
      "execution_count": 77,
      "metadata": {
        "colab": {
          "base_uri": "https://localhost:8080/"
        },
        "id": "j3Pd_jG5FFUL",
        "outputId": "52f6c133-8863-41f2-8aac-6f1dd14dd3ba"
      },
      "outputs": [
        {
          "data": {
            "text/plain": [
              "array(['240 Heather Ln', '12911 E Heroy Ave', '2005 Westridge Rd',\n",
              "       '4311 Livingston Ave', '1524 Kiscoe St', '1624 S Newkirk St',\n",
              "       '552 Casanova Ct ', '6094 Mingle Dr ', '11182 Owl Ave',\n",
              "       '8612 Cedar Plains Ln', '14205 Roosevelt Ave #512',\n",
              "       '4222 False Cypress Ln ', '16373 NW 16th St', '1538 Umpqua Dr',\n",
              "       '15351 Falmouth Ave', '930 52nd St ', '2402 NW 22nd Rd ',\n",
              "       '24 W 126th St ', '22702 Alderdale Ln', '1633 NE 15th St',\n",
              "       '5930 E Avenue T2', '61425 Gosney Rd', '120 Jefferson Ave #12019 ',\n",
              "       '4234 Orchard Pass Dr', '703 W Gemini Ln', '1755 18th St NW',\n",
              "       '5755 SW 123 Ave ', '2104 Lou Ellen Ln #B',\n",
              "       '9070 Southern Orchard Rd S', '430 Sterling Pl #1A'], dtype=object)"
            ]
          },
          "execution_count": 77,
          "metadata": {},
          "output_type": "execute_result"
        }
      ],
      "source": [
        "data6['street'].unique()[:30]"
      ]
    },
    {
      "cell_type": "markdown",
      "metadata": {
        "id": "OeDvNMovFbEb"
      },
      "source": [
        "Признак 'street' обработать очень тяжело. Надо будет смотреть координаты от дома до центра города или кого-либо важного объекта. Не будем тратить на это время и удалим этот признак."
      ]
    },
    {
      "cell_type": "code",
      "execution_count": 78,
      "metadata": {
        "id": "NrezRCUvF_vw"
      },
      "outputs": [],
      "source": [
        "data6.drop(['street'],axis=1, inplace=True)"
      ]
    },
    {
      "cell_type": "code",
      "execution_count": 79,
      "metadata": {
        "colab": {
          "base_uri": "https://localhost:8080/"
        },
        "id": "y5fvmQUTGN0D",
        "outputId": "7b8a2a1f-4170-4a1e-a900-3a650aaf3bc4"
      },
      "outputs": [
        {
          "name": "stdout",
          "output_type": "stream",
          "text": [
            "<class 'pandas.core.frame.DataFrame'>\n",
            "RangeIndex: 374703 entries, 0 to 374702\n",
            "Data columns (total 12 columns):\n",
            " #   Column        Non-Null Count   Dtype  \n",
            "---  ------        --------------   -----  \n",
            " 0   status        335446 non-null  object \n",
            " 1   propertyType  340149 non-null  object \n",
            " 2   baths         374703 non-null  float64\n",
            " 3   homeFacts     374703 non-null  object \n",
            " 4   fireplace     374703 non-null  int64  \n",
            " 5   city          374669 non-null  object \n",
            " 6   schools       374703 non-null  object \n",
            " 7   sqft          374703 non-null  float64\n",
            " 8   state         374703 non-null  object \n",
            " 9   stories       374703 non-null  float64\n",
            " 10  target        374703 non-null  float64\n",
            " 11  pool          374703 non-null  int64  \n",
            "dtypes: float64(4), int64(2), object(6)\n",
            "memory usage: 34.3+ MB\n"
          ]
        }
      ],
      "source": [
        "data6.info()"
      ]
    },
    {
      "cell_type": "markdown",
      "metadata": {
        "id": "EAreD7tSVV_q"
      },
      "source": [
        "Сохраним полученный набор данных под именем data7."
      ]
    },
    {
      "cell_type": "code",
      "execution_count": 80,
      "metadata": {
        "id": "z8N5eD7hFdwK"
      },
      "outputs": [],
      "source": [
        "data7 = data6.copy()"
      ]
    },
    {
      "cell_type": "markdown",
      "metadata": {
        "id": "dPVYo8UFoAGE"
      },
      "source": [
        "**Признак 'city'**"
      ]
    },
    {
      "cell_type": "markdown",
      "metadata": {
        "id": "K4zSVaIrVZti"
      },
      "source": [
        "Посмотрим количество уникальных и пропущенных значений в признаке."
      ]
    },
    {
      "cell_type": "code",
      "execution_count": 81,
      "metadata": {
        "colab": {
          "base_uri": "https://localhost:8080/"
        },
        "id": "u0IwQMmRoD09",
        "outputId": "f5ec0279-72bf-409c-afb9-ccf69a6954c4"
      },
      "outputs": [
        {
          "data": {
            "text/plain": [
              "2019"
            ]
          },
          "execution_count": 81,
          "metadata": {},
          "output_type": "execute_result"
        }
      ],
      "source": [
        "data7['city'].nunique()"
      ]
    },
    {
      "cell_type": "code",
      "execution_count": 82,
      "metadata": {
        "colab": {
          "base_uri": "https://localhost:8080/"
        },
        "id": "cowkxZJhAd_4",
        "outputId": "e87f5d46-bbfb-4fd3-d786-567bb32e4c6f"
      },
      "outputs": [
        {
          "data": {
            "text/plain": [
              "34"
            ]
          },
          "execution_count": 82,
          "metadata": {},
          "output_type": "execute_result"
        }
      ],
      "source": [
        "data7['city'].isna().sum()"
      ]
    },
    {
      "cell_type": "markdown",
      "metadata": {
        "id": "35Hq17k9Voc4"
      },
      "source": [
        "Приведем все символы к нижнему регистру."
      ]
    },
    {
      "cell_type": "code",
      "execution_count": 83,
      "metadata": {
        "id": "Q4oeaziUAeku"
      },
      "outputs": [],
      "source": [
        "data7['city'] = data7['city'].apply(lambda x: str(x).lower())"
      ]
    },
    {
      "cell_type": "code",
      "execution_count": 84,
      "metadata": {
        "colab": {
          "base_uri": "https://localhost:8080/"
        },
        "id": "ssyb0WPNCHWj",
        "outputId": "bed58a57-860d-4027-a584-2d7d7e227e8d"
      },
      "outputs": [
        {
          "data": {
            "text/plain": [
              "houston            24407\n",
              "san antonio        15501\n",
              "miami              15415\n",
              "jacksonville        9909\n",
              "dallas              8773\n",
              "                   ...  \n",
              "los altos hills        1\n",
              "lisle                  1\n",
              "arrington              1\n",
              "santa fe               1\n",
              "blue springs           1\n",
              "Name: city, Length: 1905, dtype: int64"
            ]
          },
          "execution_count": 84,
          "metadata": {},
          "output_type": "execute_result"
        }
      ],
      "source": [
        "data7['city'].value_counts()"
      ]
    },
    {
      "cell_type": "markdown",
      "metadata": {
        "id": "wj_VpPbUVxHP"
      },
      "source": [
        "Оставим 10 наиболее популярных городов, остальные заменим на 'others'."
      ]
    },
    {
      "cell_type": "code",
      "execution_count": 85,
      "metadata": {
        "id": "xdEtWRiPPxI6"
      },
      "outputs": [],
      "source": [
        "popular_city = data7['city'].value_counts()[:9].index\n",
        "data7['city'] = data7['city'].apply(lambda x: x if x in popular_city else 'others')"
      ]
    },
    {
      "cell_type": "code",
      "execution_count": 86,
      "metadata": {
        "colab": {
          "base_uri": "https://localhost:8080/"
        },
        "id": "W3lMEbQmQDAT",
        "outputId": "f6c8488a-3ec0-4e0a-eddc-081cb2701bfd"
      },
      "outputs": [
        {
          "data": {
            "text/plain": [
              "others          272676\n",
              "houston          24407\n",
              "san antonio      15501\n",
              "miami            15415\n",
              "jacksonville      9909\n",
              "dallas            8773\n",
              "brooklyn          7246\n",
              "orlando           6975\n",
              "new york          6907\n",
              "chicago           6894\n",
              "Name: city, dtype: int64"
            ]
          },
          "execution_count": 86,
          "metadata": {},
          "output_type": "execute_result"
        }
      ],
      "source": [
        "data7['city'].value_counts()"
      ]
    },
    {
      "cell_type": "code",
      "execution_count": 87,
      "metadata": {
        "id": "Zgl-4qcbR_N7"
      },
      "outputs": [],
      "source": [
        "data8 = data7.copy()"
      ]
    },
    {
      "cell_type": "markdown",
      "metadata": {
        "id": "o4ijxu4mWD0k"
      },
      "source": [
        "Сохраним полученный набор данных под именем data8."
      ]
    },
    {
      "cell_type": "markdown",
      "metadata": {
        "id": "RRinGoSQR4_Z"
      },
      "source": [
        "**Признак 'status'**"
      ]
    },
    {
      "cell_type": "markdown",
      "metadata": {
        "id": "Iu4f0pB7jRZy"
      },
      "source": [
        "Посмотрим количество уникальных и пропущенных значений в признаке."
      ]
    },
    {
      "cell_type": "code",
      "execution_count": 88,
      "metadata": {
        "colab": {
          "base_uri": "https://localhost:8080/"
        },
        "id": "w8PdgidxRx1Z",
        "outputId": "99f91fb5-1b4c-4f70-eafe-b0e96714296d"
      },
      "outputs": [
        {
          "data": {
            "text/plain": [
              "156"
            ]
          },
          "execution_count": 88,
          "metadata": {},
          "output_type": "execute_result"
        }
      ],
      "source": [
        "data8['status'].nunique()"
      ]
    },
    {
      "cell_type": "code",
      "execution_count": 89,
      "metadata": {
        "colab": {
          "base_uri": "https://localhost:8080/"
        },
        "id": "KfK-KmtVSN_n",
        "outputId": "9f89facc-3610-42cb-f8b0-957e612b6332"
      },
      "outputs": [
        {
          "data": {
            "text/plain": [
              "39257"
            ]
          },
          "execution_count": 89,
          "metadata": {},
          "output_type": "execute_result"
        }
      ],
      "source": [
        "data8['status'].isna().sum()"
      ]
    },
    {
      "cell_type": "markdown",
      "metadata": {
        "id": "KBMa_-DEjWCe"
      },
      "source": [
        "Пропущенные значения заменим на 'unknown' и приведем все значения в признаке к нижнему регистру."
      ]
    },
    {
      "cell_type": "code",
      "execution_count": 90,
      "metadata": {
        "id": "zmZ-qaT4STy1"
      },
      "outputs": [],
      "source": [
        "data8['status'] = data['status'].fillna('unknown')"
      ]
    },
    {
      "cell_type": "code",
      "execution_count": 91,
      "metadata": {
        "colab": {
          "base_uri": "https://localhost:8080/"
        },
        "id": "8iXAfe95TA8v",
        "outputId": "751947e6-1b5b-4516-9631-c98beda62846"
      },
      "outputs": [
        {
          "data": {
            "text/plain": [
              "for sale                             199567\n",
              "active                               105206\n",
              "unknown                               39256\n",
              "foreclosure                            6020\n",
              "new construction                       5459\n",
              "pending                                4802\n",
              "pre-foreclosure                        2000\n",
              "p                                      1488\n",
              "pre-foreclosure / auction              1281\n",
              "under contract show                    1183\n",
              " / auction                              799\n",
              "under contract   showing                793\n",
              "active under contract                   718\n",
              "under contract                          692\n",
              "new                                     690\n",
              "contingent                              581\n",
              "price change                            563\n",
              "auction                                 493\n",
              "a active                                443\n",
              "for rent                                398\n",
              "foreclosed                              294\n",
              "under contract backups                  252\n",
              "contingent finance and inspection       245\n",
              "pending continue to show                194\n",
              "back on market                          112\n",
              "option pending                          110\n",
              "contingent show                         101\n",
              "pending taking backups                   63\n",
              "option contract                          54\n",
              "active with offer                        49\n",
              "Name: status, dtype: int64"
            ]
          },
          "execution_count": 91,
          "metadata": {},
          "output_type": "execute_result"
        }
      ],
      "source": [
        "data8['status'] = data8['status'].apply(lambda x: str(x).lower())\n",
        "data8['status'].value_counts()[:30]"
      ]
    },
    {
      "cell_type": "markdown",
      "metadata": {
        "id": "HKa6PsSFj9rM"
      },
      "source": [
        "Произведем обработку признака."
      ]
    },
    {
      "cell_type": "code",
      "execution_count": 92,
      "metadata": {
        "id": "qKblq-iuTW5l"
      },
      "outputs": [],
      "source": [
        "data8['status'] = data8['status'].str.replace('pre-foreclosure', 'foreclosure', regex=True)\n",
        "data8['status'] = data8['status'].str.replace('a active', 'active', regex=True)\n",
        "data8['status'] = data8['status'].str.replace('foreclosed', 'foreclosure', regex=True)\n",
        "data8['status'] = data8['status'].str.replace('option pending', 'pending', regex=True)\n",
        "data8['status'] = data8['status'].str.replace('pending taking backups', 'pending', regex=True)\n",
        "data8['status'] = data8['status'].str.replace('foreclosure / auction', 'foreclosure', regex=True)\n",
        "data8['status'] = data8['status'].str.replace(' / auction', 'auction', regex=True)\n",
        "data8['status'] = data8['status'].str.replace('under contract   showing', 'under contract show', regex=True)\n",
        "data8['status'] = data8['status'].str.replace('active under contract', 'under contract', regex=True)\n",
        "data8['status'] = data8['status'].str.replace('under contract backups', 'under contract', regex=True)\n",
        "data8['status'] = data8['status'].str.replace('under contract show', 'under contract', regex=True)\n",
        "data8['status'] = data8['status'].str.replace('pending continue to show', 'pending', regex=True)\n",
        "data8['status'] = data8['status'].str.replace('pending with contingencies', 'pending', regex=True)\n",
        "data8['status'] = data8['status'].str.replace('auction - active', 'auction', regex=True)\n",
        "data8['status'] = data8['status'].str.replace('active with offer', 'active', regex=True)\n",
        "data8['status'] = data8['status'].str.replace('active backup', 'active', regex=True)\n",
        "data8['status'] = data8['status'].str.replace('offer pending signature', 'pending', regex=True)\n",
        "data8['status'] = data8['status'].str.replace('pending - taking backups', 'pending', regex=True)"
      ]
    },
    {
      "cell_type": "markdown",
      "metadata": {
        "id": "FsFt9YI7kHeV"
      },
      "source": [
        "Выделим семь наиболее часто встречающихся статусов, остальные заменим на 'others'."
      ]
    },
    {
      "cell_type": "code",
      "execution_count": 93,
      "metadata": {
        "id": "u17tWhM8Xkw4"
      },
      "outputs": [],
      "source": [
        "popular_status = data8['status'].value_counts()[:7].index\n",
        "data8['status'] = data8['status'].apply(lambda x: x if x in popular_status else 'others')"
      ]
    },
    {
      "cell_type": "code",
      "execution_count": 94,
      "metadata": {
        "id": "0iL51n-y5vUo"
      },
      "outputs": [],
      "source": [
        "data8['status'] = data8['status'].apply(lambda x: 'others' if (x == 'unknown ') else x)"
      ]
    },
    {
      "cell_type": "code",
      "execution_count": 95,
      "metadata": {
        "colab": {
          "base_uri": "https://localhost:8080/"
        },
        "id": "4gETd2JWbcHI",
        "outputId": "2dd96a10-1612-48cf-c550-afbe22c9007d"
      },
      "outputs": [
        {
          "data": {
            "text/plain": [
              "for sale            199567\n",
              "active              105737\n",
              "unknown              39256\n",
              "foreclosure           9595\n",
              "others                6206\n",
              "new construction      5459\n",
              "pending               5245\n",
              "under contract        3638\n",
              "Name: status, dtype: int64"
            ]
          },
          "execution_count": 95,
          "metadata": {},
          "output_type": "execute_result"
        }
      ],
      "source": [
        "data8['status'].value_counts()"
      ]
    },
    {
      "cell_type": "markdown",
      "metadata": {
        "id": "U0sBfo1XtWwY"
      },
      "source": [
        "Сохраним полученный набор данных под именем data9."
      ]
    },
    {
      "cell_type": "code",
      "execution_count": 96,
      "metadata": {
        "id": "17ZEDDQHb3pT"
      },
      "outputs": [],
      "source": [
        "data9 = data8.copy()"
      ]
    },
    {
      "cell_type": "markdown",
      "metadata": {
        "id": "yuSyVZbdlyEi"
      },
      "source": [
        "**Признак 'property_type'**"
      ]
    },
    {
      "cell_type": "markdown",
      "metadata": {
        "id": "laAewvmGkkuK"
      },
      "source": [
        "Для улучшения восприятия поменяем назнавание признака с 'propertyType' на 'property_type'."
      ]
    },
    {
      "cell_type": "code",
      "execution_count": 97,
      "metadata": {
        "id": "bV6uvvRNl45V"
      },
      "outputs": [],
      "source": [
        "data9['property_type'] = data9['propertyType']\n",
        "data9.drop('propertyType', axis = 1, inplace = True)"
      ]
    },
    {
      "cell_type": "markdown",
      "metadata": {
        "id": "FW7PYhMAlAz9"
      },
      "source": [
        "Посмотрим количество уникальных значений в признаке и количество пропусков."
      ]
    },
    {
      "cell_type": "code",
      "execution_count": 98,
      "metadata": {
        "colab": {
          "base_uri": "https://localhost:8080/"
        },
        "id": "R3C-q8RapRYm",
        "outputId": "4f12108b-abd9-4270-eb14-9d88b8087e9e"
      },
      "outputs": [
        {
          "data": {
            "text/plain": [
              "1279"
            ]
          },
          "execution_count": 98,
          "metadata": {},
          "output_type": "execute_result"
        }
      ],
      "source": [
        "data9['property_type'].nunique()"
      ]
    },
    {
      "cell_type": "code",
      "execution_count": 99,
      "metadata": {
        "colab": {
          "base_uri": "https://localhost:8080/"
        },
        "id": "Qmz2uZ9JpbzZ",
        "outputId": "d8ead8c1-fd6c-4db0-fbb8-78cd4e0af518"
      },
      "outputs": [
        {
          "data": {
            "text/plain": [
              "34554"
            ]
          },
          "execution_count": 99,
          "metadata": {},
          "output_type": "execute_result"
        }
      ],
      "source": [
        "data9['property_type'].isna().sum()"
      ]
    },
    {
      "cell_type": "markdown",
      "metadata": {
        "id": "aibAO3PusVtb"
      },
      "source": [
        "Заменим пропущенные значения на 'unknow', приведем все символы к нижнему регистру."
      ]
    },
    {
      "cell_type": "code",
      "execution_count": 100,
      "metadata": {
        "colab": {
          "base_uri": "https://localhost:8080/"
        },
        "id": "pJSjuwonpoxH",
        "outputId": "e0fe1d0e-0778-4455-f6b4-2b0a2a338696"
      },
      "outputs": [
        {
          "data": {
            "text/plain": [
              "single-family home               91376\n",
              "single family                    61888\n",
              "condo                            42372\n",
              "unknown                          34584\n",
              "single family home               31725\n",
              "lot/land                         20532\n",
              "townhouse                        18351\n",
              "land                             10933\n",
              "multi-family                      7895\n",
              "condo/townhome/row home/co-op     7701\n",
              "traditional                       5912\n",
              "coop                              3265\n",
              "multi family                      2772\n",
              "high rise                         1823\n",
              "ranch                             1781\n",
              "detached, one story               1614\n",
              "mobile/manufactured               1613\n",
              "single detached, traditional      1581\n",
              "contemporary                      1556\n",
              "multi-family home                 1501\n",
              "1 story                           1235\n",
              "colonial                          1204\n",
              "mobile / manufactured             1056\n",
              "contemporary/modern               1000\n",
              "2 stories                          911\n",
              "apartment                          798\n",
              "mfd/mobile home                    791\n",
              "single detached                    751\n",
              "detached, two story                638\n",
              "one story                          592\n",
              "Name: property_type, dtype: int64"
            ]
          },
          "execution_count": 100,
          "metadata": {},
          "output_type": "execute_result"
        }
      ],
      "source": [
        "data9['property_type'] = data9['property_type'].fillna('unknown')\n",
        "data9['property_type'] = data9['property_type'].apply(lambda x: str(x).lower())\n",
        "data9['property_type'].value_counts()[:30]"
      ]
    },
    {
      "cell_type": "markdown",
      "metadata": {
        "id": "o1a7jiQPso3P"
      },
      "source": [
        "Обработаем признак и посмотрим 20 наиболее часто встречающихся значений."
      ]
    },
    {
      "cell_type": "code",
      "execution_count": 101,
      "metadata": {
        "id": "7aXUXU7Eqblk"
      },
      "outputs": [],
      "source": [
        "data9['property_type'] = data9['property_type'].apply(lambda x: 'single-family home' if (x=='single family') | (x=='single-family home') | (x=='single family home') else x)\n",
        "data9['property_type'] = data9['property_type'].apply(lambda x: 'multi-family home' if (x=='multi family') | (x=='multi-family') | (x=='multi-family home') else x)\n",
        "data9['property_type'] = data9['property_type'].apply(lambda x: '1 story' if (x=='one story') | (x=='detached, 1 story') else x)\n",
        "data9['property_type'] = data9['property_type'].apply(lambda x: '2 stories' if (x=='two story') | (x=='detached, two story') | (x=='2 story') | (x=='2 stories, traditional') else x)\n",
        "data9['property_type'] = data9['property_type'].apply(lambda x: 'land' if (x=='lot/land') else x)\n",
        "data9['property_type'] = data9['property_type'].apply(lambda x: 'condo' if (x=='condo/townhome/row home/co-op') else x)\n",
        "data9['property_type'] = data9['property_type'].apply(lambda x: 'traditional' if (x=='single detached, traditional') else x)"
      ]
    },
    {
      "cell_type": "code",
      "execution_count": 102,
      "metadata": {
        "colab": {
          "base_uri": "https://localhost:8080/"
        },
        "id": "BF1dVzp_s22-",
        "outputId": "b7e90554-efdc-410b-c947-eb989a315c1a"
      },
      "outputs": [
        {
          "data": {
            "text/plain": [
              "single-family home       184989\n",
              "condo                     50073\n",
              "unknown                   34584\n",
              "land                      31465\n",
              "townhouse                 18351\n",
              "multi-family home         12168\n",
              "traditional                7493\n",
              "coop                       3265\n",
              "2 stories                  2422\n",
              "1 story                    1827\n",
              "high rise                  1823\n",
              "ranch                      1781\n",
              "detached, one story        1614\n",
              "mobile/manufactured        1613\n",
              "contemporary               1556\n",
              "colonial                   1204\n",
              "mobile / manufactured      1056\n",
              "contemporary/modern        1000\n",
              "apartment                   798\n",
              "mfd/mobile home             791\n",
              "Name: property_type, dtype: int64"
            ]
          },
          "execution_count": 102,
          "metadata": {},
          "output_type": "execute_result"
        }
      ],
      "source": [
        "data9['property_type'].value_counts()[:20]"
      ]
    },
    {
      "cell_type": "markdown",
      "metadata": {
        "id": "D8qMkniFs9FN"
      },
      "source": [
        "Оставим 10 наиболее часто встречающися значений, остальное заменим на 'others'."
      ]
    },
    {
      "cell_type": "code",
      "execution_count": 103,
      "metadata": {
        "id": "Op2uTCVSs-LY"
      },
      "outputs": [],
      "source": [
        "popular_prop_type = data9['property_type'].value_counts()[:10].index\n",
        "data9['property_type'] = data9['property_type'].apply(lambda x: x if x in popular_prop_type else 'others')\n",
        "data9['property_type'] = data9['property_type'].apply(lambda x: 'others' if (x=='unknown') else x)"
      ]
    },
    {
      "cell_type": "code",
      "execution_count": 104,
      "metadata": {
        "colab": {
          "base_uri": "https://localhost:8080/"
        },
        "id": "bYKqocYD8GOE",
        "outputId": "962d5b9a-641c-4f7f-e212-7107e5ff9933"
      },
      "outputs": [
        {
          "data": {
            "text/plain": [
              "single-family home    184989\n",
              "others                 62650\n",
              "condo                  50073\n",
              "land                   31465\n",
              "townhouse              18351\n",
              "multi-family home      12168\n",
              "traditional             7493\n",
              "coop                    3265\n",
              "2 stories               2422\n",
              "1 story                 1827\n",
              "Name: property_type, dtype: int64"
            ]
          },
          "execution_count": 104,
          "metadata": {},
          "output_type": "execute_result"
        }
      ],
      "source": [
        "data9['property_type'].value_counts()"
      ]
    },
    {
      "cell_type": "code",
      "execution_count": 105,
      "metadata": {
        "colab": {
          "base_uri": "https://localhost:8080/"
        },
        "id": "KUUAM0ntx6oj",
        "outputId": "7f7fcf04-df99-4c97-da49-2820cb6a7dc3"
      },
      "outputs": [
        {
          "name": "stdout",
          "output_type": "stream",
          "text": [
            "<class 'pandas.core.frame.DataFrame'>\n",
            "RangeIndex: 374703 entries, 0 to 374702\n",
            "Data columns (total 12 columns):\n",
            " #   Column         Non-Null Count   Dtype  \n",
            "---  ------         --------------   -----  \n",
            " 0   status         374703 non-null  object \n",
            " 1   baths          374703 non-null  float64\n",
            " 2   homeFacts      374703 non-null  object \n",
            " 3   fireplace      374703 non-null  int64  \n",
            " 4   city           374703 non-null  object \n",
            " 5   schools        374703 non-null  object \n",
            " 6   sqft           374703 non-null  float64\n",
            " 7   state          374703 non-null  object \n",
            " 8   stories        374703 non-null  float64\n",
            " 9   target         374703 non-null  float64\n",
            " 10  pool           374703 non-null  int64  \n",
            " 11  property_type  374703 non-null  object \n",
            "dtypes: float64(4), int64(2), object(6)\n",
            "memory usage: 34.3+ MB\n"
          ]
        }
      ],
      "source": [
        "data9.info()"
      ]
    },
    {
      "cell_type": "markdown",
      "metadata": {
        "id": "_7yDxmxxtkbv"
      },
      "source": [
        "Сохраним полученный набор данных под именем data10."
      ]
    },
    {
      "cell_type": "code",
      "execution_count": 106,
      "metadata": {
        "id": "ARwp8B5Uw749"
      },
      "outputs": [],
      "source": [
        "data10 = data9.copy()"
      ]
    },
    {
      "cell_type": "markdown",
      "metadata": {
        "id": "bIAA-SRxvnCR"
      },
      "source": [
        "**Признак 'schools'**"
      ]
    },
    {
      "cell_type": "markdown",
      "metadata": {
        "id": "uoLQaxOAULuR"
      },
      "source": [
        "Посмотрим количество уникальных значений в признаке 'schools', определим есть ли пропуски."
      ]
    },
    {
      "cell_type": "code",
      "execution_count": 107,
      "metadata": {
        "colab": {
          "base_uri": "https://localhost:8080/"
        },
        "id": "H2vDEcjHvtqZ",
        "outputId": "b3db13b8-1780-4d4e-804d-84bee84b1500"
      },
      "outputs": [
        {
          "data": {
            "text/plain": [
              "295361"
            ]
          },
          "execution_count": 107,
          "metadata": {},
          "output_type": "execute_result"
        }
      ],
      "source": [
        "data10['schools'].nunique()"
      ]
    },
    {
      "cell_type": "code",
      "execution_count": 108,
      "metadata": {
        "colab": {
          "base_uri": "https://localhost:8080/"
        },
        "id": "vYYE08zvwosq",
        "outputId": "0386f23a-0f76-4cb8-a3e1-6d734102b70f"
      },
      "outputs": [
        {
          "data": {
            "text/plain": [
              "0"
            ]
          },
          "execution_count": 108,
          "metadata": {},
          "output_type": "execute_result"
        }
      ],
      "source": [
        "data10['schools'].isna().sum()"
      ]
    },
    {
      "cell_type": "code",
      "execution_count": 109,
      "metadata": {
        "colab": {
          "base_uri": "https://localhost:8080/"
        },
        "id": "rx5AqNeWUkTN",
        "outputId": "cf5b299c-5fca-41aa-c97b-3ed5adc7caa8"
      },
      "outputs": [
        {
          "data": {
            "text/plain": [
              "['[{\\'rating\\': [\\'4\\', \\'4\\', \\'7\\', \\'NR\\', \\'4\\', \\'7\\', \\'NR\\', \\'NR\\'], \\'data\\': {\\'Distance\\': [\\'2.7 mi\\', \\'3.6 mi\\', \\'5.1 mi\\', \\'4.0 mi\\', \\'10.5 mi\\', \\'12.6 mi\\', \\'2.7 mi\\', \\'3.1 mi\\'], \\'Grades\\': [\\'3–5\\', \\'6–8\\', \\'9–12\\', \\'PK–2\\', \\'6–8\\', \\'9–12\\', \\'PK–5\\', \\'K–12\\']}, \\'name\\': [\\'Southern Pines Elementary School\\', \\'Southern Middle School\\', \\'Pinecrest High School\\', \\'Southern Pines Primary School\\', \"Crain\\'s Creek Middle School\", \\'Union Pines High School\\', \\'Episcopal Day Private School\\', \\'Calvary Christian Private School\\']}]',\n",
              " \"[{'rating': ['4/10', 'None/10', '4/10'], 'data': {'Distance': ['1.65mi', '1.32mi', '1.01mi'], 'Grades': ['9-12', '3-8', 'PK-8']}, 'name': ['East Valley High School&Extension', 'Eastvalley Middle School', 'Trentwood Elementary School']}]\",\n",
              " \"[{'rating': ['8/10', '4/10', '8/10'], 'data': {'Distance': ['1.19mi', '2.06mi', '2.63mi'], 'Grades': ['6-8', 'K-5', '9-12']}, 'name': ['Paul Revere Middle School', 'Brentwood Science School', 'Palisades Charter High School']}]\"]"
            ]
          },
          "execution_count": 109,
          "metadata": {},
          "output_type": "execute_result"
        }
      ],
      "source": [
        "data10['schools'].head(3).tolist()"
      ]
    },
    {
      "cell_type": "markdown",
      "metadata": {
        "id": "VYoH1EDgHVS_"
      },
      "source": [
        "Сделаем раскодировку списка при помощи функции eval."
      ]
    },
    {
      "cell_type": "code",
      "execution_count": 110,
      "metadata": {
        "id": "W_W4GJ_6E_hc"
      },
      "outputs": [],
      "source": [
        "data10['schools']= data10['schools'].apply(eval)"
      ]
    },
    {
      "cell_type": "code",
      "execution_count": 111,
      "metadata": {
        "colab": {
          "base_uri": "https://localhost:8080/"
        },
        "id": "CCGhd0wTFbZF",
        "outputId": "8db95ea8-c195-4deb-8c3c-011e3935cc96"
      },
      "outputs": [
        {
          "data": {
            "text/plain": [
              "[{'rating': ['4', '4', '7', 'NR', '4', '7', 'NR', 'NR'],\n",
              "  'data': {'Distance': ['2.7 mi',\n",
              "    '3.6 mi',\n",
              "    '5.1 mi',\n",
              "    '4.0 mi',\n",
              "    '10.5 mi',\n",
              "    '12.6 mi',\n",
              "    '2.7 mi',\n",
              "    '3.1 mi'],\n",
              "   'Grades': ['3–5', '6–8', '9–12', 'PK–2', '6–8', '9–12', 'PK–5', 'K–12']},\n",
              "  'name': ['Southern Pines Elementary School',\n",
              "   'Southern Middle School',\n",
              "   'Pinecrest High School',\n",
              "   'Southern Pines Primary School',\n",
              "   \"Crain's Creek Middle School\",\n",
              "   'Union Pines High School',\n",
              "   'Episcopal Day Private School',\n",
              "   'Calvary Christian Private School']}]"
            ]
          },
          "execution_count": 111,
          "metadata": {},
          "output_type": "execute_result"
        }
      ],
      "source": [
        "data10['schools'][0]"
      ]
    },
    {
      "cell_type": "markdown",
      "metadata": {
        "id": "22c9jN_ZIqRj"
      },
      "source": [
        "Создадим столбец 'school_rating' и поместим в него показатели рейтингов школ."
      ]
    },
    {
      "cell_type": "code",
      "execution_count": 112,
      "metadata": {
        "id": "_lTN8lLuGjH0"
      },
      "outputs": [],
      "source": [
        "data10['school_rating'] = data10['schools'].apply(lambda x: x[0]['rating'])"
      ]
    },
    {
      "cell_type": "code",
      "execution_count": 113,
      "metadata": {
        "colab": {
          "base_uri": "https://localhost:8080/"
        },
        "id": "STE1PfpKI71R",
        "outputId": "20ce0716-f3da-4450-a709-75e41e528945"
      },
      "outputs": [
        {
          "data": {
            "text/plain": [
              "0         [4, 4, 7, NR, 4, 7, NR, NR]\n",
              "1               [4/10, None/10, 4/10]\n",
              "2                  [8/10, 4/10, 8/10]\n",
              "3           [9/10, 9/10, 10/10, 9/10]\n",
              "4                  [4/10, 5/10, 5/10]\n",
              "                     ...             \n",
              "374698                  [10/10, 5/10]\n",
              "374699             [1/10, 5/10, 7/10]\n",
              "374700                   [5/10, 4/10]\n",
              "374701                   [NA, NA, NA]\n",
              "374702             [5/10, 4/10, 3/10]\n",
              "Name: school_rating, Length: 374703, dtype: object"
            ]
          },
          "execution_count": 113,
          "metadata": {},
          "output_type": "execute_result"
        }
      ],
      "source": [
        "data10['school_rating']"
      ]
    },
    {
      "cell_type": "markdown",
      "metadata": {
        "id": "nJSKJgVTKahM"
      },
      "source": [
        "Создадим функцию обработчик нового признака 'school_rating'."
      ]
    },
    {
      "cell_type": "code",
      "execution_count": 114,
      "metadata": {
        "id": "_U0F03fpJfib"
      },
      "outputs": [],
      "source": [
        "def school_rating_handler(df):\n",
        "    \"\"\" Обработчик признака school_rating\n",
        "\n",
        "    Args:\n",
        "        df (Series): необработанный признак\n",
        "\n",
        "    Returns:\n",
        "        float/np.nan: обработанный признак\n",
        "    \"\"\"\n",
        "    temp_list = []\n",
        "    rating_list = ['1', '2', '3', '4', '5', '6', '7', '8', '9', '10']\n",
        "\n",
        "    if df == []:\n",
        "        return np.nan\n",
        "    else:\n",
        "        for i in df:\n",
        "            i = i.split('/')[0]\n",
        "            if i in rating_list:\n",
        "                temp_list.append(float(i))\n",
        "        rating_mean = round(np.mean(temp_list), 2)\n",
        "        return rating_mean"
      ]
    },
    {
      "cell_type": "markdown",
      "metadata": {
        "id": "Zb9OUwZ-Lfpc"
      },
      "source": [
        "Применим функцию обработчик school_rating_handler к признаку 'school_rating'."
      ]
    },
    {
      "cell_type": "code",
      "execution_count": 115,
      "metadata": {
        "colab": {
          "base_uri": "https://localhost:8080/"
        },
        "id": "Z3IiXpntLNY_",
        "outputId": "ad0f4f20-d113-420a-ccbf-5b7545667634"
      },
      "outputs": [
        {
          "name": "stderr",
          "output_type": "stream",
          "text": [
            "c:\\Users\\84\\AppData\\Local\\Programs\\Python\\Python39\\lib\\site-packages\\numpy\\core\\fromnumeric.py:3432: RuntimeWarning: Mean of empty slice.\n",
            "  return _methods._mean(a, axis=axis, dtype=dtype,\n"
          ]
        }
      ],
      "source": [
        "data10['school_rating'] = data10['school_rating'].apply(school_rating_handler)\n"
      ]
    },
    {
      "cell_type": "markdown",
      "metadata": {
        "id": "Xbc7D0KmLs8W"
      },
      "source": [
        "Заменим пропуски на среднее арифметическое."
      ]
    },
    {
      "cell_type": "code",
      "execution_count": 116,
      "metadata": {
        "id": "a47B-yAILxoX"
      },
      "outputs": [],
      "source": [
        "data10['school_rating'] = data10['school_rating'].fillna(round(data10['school_rating'].mean(), 2))"
      ]
    },
    {
      "cell_type": "code",
      "execution_count": 117,
      "metadata": {
        "colab": {
          "base_uri": "https://localhost:8080/"
        },
        "id": "hRbOSjYfPkWW",
        "outputId": "29e912dc-f9c2-4515-a249-5fd52dac8890"
      },
      "outputs": [
        {
          "data": {
            "text/plain": [
              "6.00    22774\n",
              "4.00    19853\n",
              "5.00    19526\n",
              "3.00    17637\n",
              "6.33    15693\n",
              "        ...  \n",
              "1.44        1\n",
              "1.90        1\n",
              "1.20        1\n",
              "5.88        1\n",
              "4.54        1\n",
              "Name: school_rating, Length: 228, dtype: int64"
            ]
          },
          "execution_count": 117,
          "metadata": {},
          "output_type": "execute_result"
        }
      ],
      "source": [
        "data10['school_rating'].value_counts()"
      ]
    },
    {
      "cell_type": "markdown",
      "metadata": {
        "id": "BXxJyLqjQce6"
      },
      "source": [
        "Создадим признак 'distance_to_school' и поместим в него расстояние от дома до ближайших школ."
      ]
    },
    {
      "cell_type": "code",
      "execution_count": 118,
      "metadata": {
        "id": "QM1P9YBxMVbU"
      },
      "outputs": [],
      "source": [
        "data10['distance_to_school'] = data10['schools'].apply(lambda x: x[0]['data']['Distance'])"
      ]
    },
    {
      "cell_type": "code",
      "execution_count": 119,
      "metadata": {
        "colab": {
          "base_uri": "https://localhost:8080/"
        },
        "id": "53MRPf9FRNj5",
        "outputId": "bca76e01-fa21-45f0-e337-40a33cad7cce"
      },
      "outputs": [
        {
          "data": {
            "text/plain": [
              "0         [2.7 mi, 3.6 mi, 5.1 mi, 4.0 mi, 10.5 mi, 12.6...\n",
              "1                                  [1.65mi, 1.32mi, 1.01mi]\n",
              "2                                  [1.19mi, 2.06mi, 2.63mi]\n",
              "3                           [1.05mi, 0.1mi, 1.05mi, 0.81mi]\n",
              "4                                  [5.96mi, 3.25mi, 3.03mi]\n",
              "                                ...                        \n",
              "374698                                    [32.1 mi, 1.1 mi]\n",
              "374699                             [10.61mi, 1.42mi, 0.4mi]\n",
              "374700                                     [0.48mi, 0.73mi]\n",
              "374701                             [1.3 mi, 0.5 mi, 1.9 mi]\n",
              "374702                             [0.3 mi, 1.1 mi, 4.1 mi]\n",
              "Name: distance_to_school, Length: 374703, dtype: object"
            ]
          },
          "execution_count": 119,
          "metadata": {},
          "output_type": "execute_result"
        }
      ],
      "source": [
        "data10['distance_to_school']"
      ]
    },
    {
      "cell_type": "markdown",
      "metadata": {
        "id": "99lDRFMPSZH3"
      },
      "source": [
        "Создадим функцию обработчик нового признака 'distance_to_school'."
      ]
    },
    {
      "cell_type": "code",
      "execution_count": 120,
      "metadata": {
        "id": "eOb6Y2LaRYPM"
      },
      "outputs": [],
      "source": [
        "def distance_handler(df):\n",
        "    \"\"\" Обработчик признака distance_to_school\n",
        "\n",
        "    Args:\n",
        "        df (Serise): необработанный признак\n",
        "\n",
        "    Returns:\n",
        "        list: обработанный признак - средняя дистанция\n",
        "    \"\"\"\n",
        "    temp_list = []\n",
        "\n",
        "    for i in df:\n",
        "        i = i.split('mi')[0]\n",
        "        temp_list.append(float(i))\n",
        "    dist_mean = round(np.mean(temp_list), 2)\n",
        "    return [dist_mean]"
      ]
    },
    {
      "cell_type": "markdown",
      "metadata": {
        "id": "CtlfpLdAS4v7"
      },
      "source": [
        "Найдём среднее расстояние от дома до близлежащих школ."
      ]
    },
    {
      "cell_type": "code",
      "execution_count": 121,
      "metadata": {
        "colab": {
          "base_uri": "https://localhost:8080/"
        },
        "id": "CIuo1UpaST9J",
        "outputId": "544d1763-7f64-45dc-ad34-a72568a53907"
      },
      "outputs": [
        {
          "name": "stderr",
          "output_type": "stream",
          "text": [
            "c:\\Users\\84\\AppData\\Local\\Programs\\Python\\Python39\\lib\\site-packages\\numpy\\core\\fromnumeric.py:3432: RuntimeWarning: Mean of empty slice.\n",
            "  return _methods._mean(a, axis=axis, dtype=dtype,\n"
          ]
        }
      ],
      "source": [
        "data10['mean_distance_to_school'] = data10['distance_to_school'].apply(lambda x: distance_handler(x)[0])"
      ]
    },
    {
      "cell_type": "markdown",
      "metadata": {
        "id": "lSND-kn7TrfD"
      },
      "source": [
        "Заменим пропуски на среднее арифметическое."
      ]
    },
    {
      "cell_type": "code",
      "execution_count": 122,
      "metadata": {
        "id": "ePD237s5TXDg"
      },
      "outputs": [],
      "source": [
        "data10['mean_distance_to_school'] = data10['mean_distance_to_school'].fillna(round(data10['mean_distance_to_school'].mean(), 2))"
      ]
    },
    {
      "cell_type": "code",
      "execution_count": 123,
      "metadata": {
        "colab": {
          "base_uri": "https://localhost:8080/"
        },
        "id": "QMySgHYRTkvu",
        "outputId": "abaecdf7-c7bd-4937-8a09-1892fd7f3e41"
      },
      "outputs": [
        {
          "data": {
            "text/plain": [
              "2.86      4536\n",
              "0.90      3281\n",
              "1.10      3185\n",
              "1.00      3175\n",
              "1.20      3047\n",
              "          ... \n",
              "15.81        1\n",
              "116.82       1\n",
              "20.27        1\n",
              "24.83        1\n",
              "25.04        1\n",
              "Name: mean_distance_to_school, Length: 2008, dtype: int64"
            ]
          },
          "execution_count": 123,
          "metadata": {},
          "output_type": "execute_result"
        }
      ],
      "source": [
        "data10['mean_distance_to_school'].value_counts()"
      ]
    },
    {
      "cell_type": "markdown",
      "metadata": {
        "id": "61o37Dx7Wa75"
      },
      "source": [
        "Сохраним полученный датасет под именем data11."
      ]
    },
    {
      "cell_type": "code",
      "execution_count": 129,
      "metadata": {
        "id": "uFnAX4GGWBXM"
      },
      "outputs": [],
      "source": [
        "data11 = data10.copy()"
      ]
    },
    {
      "cell_type": "code",
      "execution_count": 130,
      "metadata": {
        "colab": {
          "base_uri": "https://localhost:8080/"
        },
        "id": "jx1j92__c1b0",
        "outputId": "f6c71e87-1496-48d1-be01-16ab0fe8a80e"
      },
      "outputs": [
        {
          "name": "stdout",
          "output_type": "stream",
          "text": [
            "<class 'pandas.core.frame.DataFrame'>\n",
            "RangeIndex: 374703 entries, 0 to 374702\n",
            "Data columns (total 13 columns):\n",
            " #   Column                   Non-Null Count   Dtype  \n",
            "---  ------                   --------------   -----  \n",
            " 0   status                   374703 non-null  object \n",
            " 1   baths                    374703 non-null  float64\n",
            " 2   homeFacts                374703 non-null  object \n",
            " 3   fireplace                374703 non-null  int64  \n",
            " 4   city                     374703 non-null  object \n",
            " 5   sqft                     374703 non-null  float64\n",
            " 6   state                    374703 non-null  object \n",
            " 7   stories                  374703 non-null  float64\n",
            " 8   target                   374703 non-null  float64\n",
            " 9   pool                     374703 non-null  int64  \n",
            " 10  property_type            374703 non-null  object \n",
            " 11  school_rating            374703 non-null  float64\n",
            " 12  mean_distance_to_school  374703 non-null  float64\n",
            "dtypes: float64(6), int64(2), object(5)\n",
            "memory usage: 37.2+ MB\n"
          ]
        }
      ],
      "source": [
        "data11.info()"
      ]
    },
    {
      "cell_type": "markdown",
      "metadata": {
        "id": "I-UFTALacl01"
      },
      "source": [
        "**Признак 'homeFacts'**"
      ]
    },
    {
      "cell_type": "markdown",
      "metadata": {
        "id": "IocrR2ZoI8fn"
      },
      "source": [
        "Посмотрим количество уникальных значений в признаке 'homeFacts', определим есть ли пропуски."
      ]
    },
    {
      "cell_type": "code",
      "execution_count": 131,
      "metadata": {
        "colab": {
          "base_uri": "https://localhost:8080/"
        },
        "id": "sLCA959ocpWp",
        "outputId": "50ebfd08-d3ce-4275-c7be-3a051f0f3317"
      },
      "outputs": [
        {
          "data": {
            "text/plain": [
              "318849"
            ]
          },
          "execution_count": 131,
          "metadata": {},
          "output_type": "execute_result"
        }
      ],
      "source": [
        "data11['homeFacts'].nunique()"
      ]
    },
    {
      "cell_type": "code",
      "execution_count": 132,
      "metadata": {
        "colab": {
          "base_uri": "https://localhost:8080/"
        },
        "id": "vyaPgIoVfI2M",
        "outputId": "925d40ce-c9db-4323-c7a1-8dfe063cb757"
      },
      "outputs": [
        {
          "data": {
            "text/plain": [
              "0"
            ]
          },
          "execution_count": 132,
          "metadata": {},
          "output_type": "execute_result"
        }
      ],
      "source": [
        "data11['homeFacts'].isna().sum()"
      ]
    },
    {
      "cell_type": "code",
      "execution_count": 133,
      "metadata": {
        "colab": {
          "base_uri": "https://localhost:8080/"
        },
        "id": "n8pY42QGfPAO",
        "outputId": "745d2834-968f-4aba-9aaf-34aacbea72c4"
      },
      "outputs": [
        {
          "data": {
            "text/plain": [
              "[\"{'atAGlanceFacts': [{'factValue': '2019', 'factLabel': 'Year built'}, {'factValue': '', 'factLabel': 'Remodeled year'}, {'factValue': 'Central A/C, Heat Pump', 'factLabel': 'Heating'}, {'factValue': '', 'factLabel': 'Cooling'}, {'factValue': '', 'factLabel': 'Parking'}, {'factValue': None, 'factLabel': 'lotsize'}, {'factValue': '$144', 'factLabel': 'Price/sqft'}]}\",\n",
              " \"{'atAGlanceFacts': [{'factValue': '2019', 'factLabel': 'Year built'}, {'factValue': '', 'factLabel': 'Remodeled year'}, {'factValue': '', 'factLabel': 'Heating'}, {'factValue': '', 'factLabel': 'Cooling'}, {'factValue': '', 'factLabel': 'Parking'}, {'factValue': '5828 sqft', 'factLabel': 'lotsize'}, {'factValue': '$159/sqft', 'factLabel': 'Price/sqft'}]}\",\n",
              " \"{'atAGlanceFacts': [{'factValue': '1961', 'factLabel': 'Year built'}, {'factValue': '1967', 'factLabel': 'Remodeled year'}, {'factValue': 'Forced Air', 'factLabel': 'Heating'}, {'factValue': 'Central', 'factLabel': 'Cooling'}, {'factValue': 'Attached Garage', 'factLabel': 'Parking'}, {'factValue': '8,626 sqft', 'factLabel': 'lotsize'}, {'factValue': '$965/sqft', 'factLabel': 'Price/sqft'}]}\"]"
            ]
          },
          "execution_count": 133,
          "metadata": {},
          "output_type": "execute_result"
        }
      ],
      "source": [
        "data11['homeFacts'].head(3).tolist()"
      ]
    },
    {
      "cell_type": "markdown",
      "metadata": {
        "id": "-1GNOKcKf0AF"
      },
      "source": [
        "Сделаем раскодировку списка при помощи функции eval."
      ]
    },
    {
      "cell_type": "code",
      "execution_count": 134,
      "metadata": {
        "id": "ua-Jk-dJfdFX"
      },
      "outputs": [],
      "source": [
        "data11['homeFacts']= data11['homeFacts'].apply(eval)"
      ]
    },
    {
      "cell_type": "code",
      "execution_count": 135,
      "metadata": {
        "colab": {
          "base_uri": "https://localhost:8080/"
        },
        "id": "HYyk5nN1fuvZ",
        "outputId": "5c96525f-ddb3-4bcb-d79a-d645e6208380"
      },
      "outputs": [
        {
          "data": {
            "text/plain": [
              "{'atAGlanceFacts': [{'factValue': '2019', 'factLabel': 'Year built'},\n",
              "  {'factValue': '', 'factLabel': 'Remodeled year'},\n",
              "  {'factValue': 'Central A/C, Heat Pump', 'factLabel': 'Heating'},\n",
              "  {'factValue': '', 'factLabel': 'Cooling'},\n",
              "  {'factValue': '', 'factLabel': 'Parking'},\n",
              "  {'factValue': None, 'factLabel': 'lotsize'},\n",
              "  {'factValue': '$144', 'factLabel': 'Price/sqft'}]}"
            ]
          },
          "execution_count": 135,
          "metadata": {},
          "output_type": "execute_result"
        }
      ],
      "source": [
        "data11['homeFacts'][0]"
      ]
    },
    {
      "cell_type": "markdown",
      "metadata": {
        "id": "aRN0eCb5KsMK"
      },
      "source": [
        "Выделим из признака 'homeFacts' дополнительный признак года постройки дома 'year_built'."
      ]
    },
    {
      "cell_type": "code",
      "execution_count": 136,
      "metadata": {
        "id": "4TRkRChYf9Sh"
      },
      "outputs": [],
      "source": [
        "data11['year_built'] = data11['homeFacts'].apply(lambda x: x['atAGlanceFacts'][0]['factValue'])"
      ]
    },
    {
      "cell_type": "code",
      "execution_count": 137,
      "metadata": {
        "colab": {
          "base_uri": "https://localhost:8080/"
        },
        "id": "MPLdn5F0Jstz",
        "outputId": "28b61bc0-e757-42d5-a9fa-9d78c4df003c"
      },
      "outputs": [
        {
          "data": {
            "text/plain": [
              "array(['', '1', '1019', '1057', '1060', '1208', '1700', '1703', '1735',\n",
              "       '1740', '1750', '1788', '1790', '1794', '1795', '1796', '1799',\n",
              "       '1800', '1803', '1804', '1805', '1807', '1808', '1809', '1810',\n",
              "       '1811', '1812', '1815', '1816', '1817', '1818', '1820', '1822',\n",
              "       '1823', '1824', '1825', '1828', '1829', '1830', '1831', '1832',\n",
              "       '1834', '1835', '1836', '1840', '1842', '1843', '1844', '1845',\n",
              "       '1846', '1847', '1848', '1850', '1851', '1852', '1853', '1854',\n",
              "       '1855', '1856', '1857', '1858', '1859', '1860', '1861', '1862',\n",
              "       '1863', '1864', '1865', '1866', '1867', '1868', '1869', '1870',\n",
              "       '1871', '1872', '1873', '1874', '1875', '1876', '1877', '1878',\n",
              "       '1879', '1880', '1881', '1882', '1883', '1884', '1885', '1886',\n",
              "       '1887', '1888', '1889', '1890', '1891', '1892', '1893', '1894',\n",
              "       '1895', '1896', '1897', '1898', '1899', '1900', '1901', '1902',\n",
              "       '1903', '1904', '1905', '1906', '1907', '1908', '1909', '1910',\n",
              "       '1911', '1912', '1913', '1914', '1915', '1916', '1917', '1918',\n",
              "       '1919', '1920', '1921', '1922', '1923', '1924', '1925', '1926',\n",
              "       '1927', '1928', '1929', '1930', '1931', '1932', '1933', '1934',\n",
              "       '1935', '1936', '1937', '1938', '1939', '1940', '1941', '1942',\n",
              "       '1943', '1944', '1945', '1946', '1947', '1948', '1949', '1950',\n",
              "       '1951', '1952', '1953', '1954', '1955', '1956', '1957', '1958',\n",
              "       '1959', '1960', '1961', '1962', '1963', '1964', '1965', '1966',\n",
              "       '1967', '1968', '1969', '1970', '1971', '1972', '1973', '1974',\n",
              "       '1975', '1976', '1977', '1978', '1979', '1980', '1981', '1982',\n",
              "       '1983', '1984', '1985', '1986', '1987', '1988', '1989', '1990',\n",
              "       '1991', '1992', '1993', '1994', '1995', '1996', '1997', '1998',\n",
              "       '1999', '2000', '2001', '2002', '2003', '2004', '2005', '2006',\n",
              "       '2007', '2008', '2009', '2010', '2011', '2012', '2013', '2014',\n",
              "       '2015', '2016', '2017', '2018', '2019', '2020', '2021', '2022',\n",
              "       '2025', '559990649990', 'No Data', None], dtype=object)"
            ]
          },
          "execution_count": 137,
          "metadata": {},
          "output_type": "execute_result"
        }
      ],
      "source": [
        "data11['year_built'].sort_values().unique()"
      ]
    },
    {
      "cell_type": "markdown",
      "metadata": {
        "id": "3EPxmqm_Kno9"
      },
      "source": [
        "Видим, что среди годов постройки есть выбросы со значениями '1', '1019', '1057', '1208', '2025', '559990649990'. Удалим эти значения. Также удалим значения No Data."
      ]
    },
    {
      "cell_type": "code",
      "execution_count": 138,
      "metadata": {
        "id": "-NVQQ7eDJ1Vj"
      },
      "outputs": [],
      "source": [
        "data11 = data11.drop(data11[(data11['year_built'] == '1') |\n",
        "                            (data11['year_built'] == '1019') |\n",
        "                            (data11['year_built'] == '1057') |\n",
        "                            (data11['year_built'] == '1060') |\n",
        "                            (data11['year_built'] == '1208') |\n",
        "                            (data11['year_built'] == '2025') |\n",
        "                            (data11['year_built'] == '559990649990') |\n",
        "                            (data11['year_built'] == 'No Data')].index)\n",
        "data11.reset_index(inplace = True, drop = True)"
      ]
    },
    {
      "cell_type": "markdown",
      "metadata": {
        "id": "y18_7Ft9Tycm"
      },
      "source": [
        "Объединим значения ' ' и None."
      ]
    },
    {
      "cell_type": "code",
      "execution_count": 139,
      "metadata": {
        "id": "jhcL4XvHRjdp"
      },
      "outputs": [],
      "source": [
        "data11['year_built'] = data11['year_built'].apply(lambda x: None if (x == '') else x)"
      ]
    },
    {
      "cell_type": "markdown",
      "metadata": {
        "id": "HNPm58pfUgJ2"
      },
      "source": [
        "Переведем признак 'year_built' в числовой формат."
      ]
    },
    {
      "cell_type": "code",
      "execution_count": 140,
      "metadata": {
        "id": "uNmjQKAnTsgq"
      },
      "outputs": [],
      "source": [
        "data11['year_built'] = data11['year_built'].apply(lambda x: int(x) if x != None else x)"
      ]
    },
    {
      "cell_type": "code",
      "execution_count": 141,
      "metadata": {
        "id": "V-yhMyGGU8Qr"
      },
      "outputs": [],
      "source": [
        "data11['year_built'] = data11['year_built'].fillna(round(data11['year_built'].mean()))"
      ]
    },
    {
      "cell_type": "code",
      "execution_count": 142,
      "metadata": {
        "colab": {
          "base_uri": "https://localhost:8080/"
        },
        "id": "fD89bRwr8sTS",
        "outputId": "9a27690c-e096-418c-c14b-fb03aafcd22b"
      },
      "outputs": [
        {
          "data": {
            "text/plain": [
              "1979.0    65414\n",
              "2019.0    32142\n",
              "2006.0     7953\n",
              "2005.0     7449\n",
              "2007.0     7096\n",
              "          ...  \n",
              "1823.0        1\n",
              "1807.0        1\n",
              "1811.0        1\n",
              "1845.0        1\n",
              "1804.0        1\n",
              "Name: year_built, Length: 219, dtype: int64"
            ]
          },
          "execution_count": 142,
          "metadata": {},
          "output_type": "execute_result"
        }
      ],
      "source": [
        "data11['year_built'].value_counts()"
      ]
    },
    {
      "cell_type": "markdown",
      "metadata": {
        "id": "gCzliFZDhBIE"
      },
      "source": [
        "Выделим из признака 'homeFacts' дополнительный признак 'remodeled_year', указывающий в каком году производилась реконструкция дома."
      ]
    },
    {
      "cell_type": "code",
      "execution_count": 143,
      "metadata": {
        "id": "c6s38E8Ihe7t"
      },
      "outputs": [],
      "source": [
        "data11['remodeled_year'] = data11['homeFacts'].apply(lambda x: x['atAGlanceFacts'][1]['factValue'])"
      ]
    },
    {
      "cell_type": "code",
      "execution_count": 144,
      "metadata": {
        "colab": {
          "base_uri": "https://localhost:8080/"
        },
        "id": "wABcikaah5Eb",
        "outputId": "e4c5e78d-369c-452e-f449-ad844ca1274c"
      },
      "outputs": [
        {
          "data": {
            "text/plain": [
              "array(['', '0', '1738', '1800', '1845', '1846', '1853', '1862', '1869',\n",
              "       '1870', '1874', '1876', '1877', '1880', '1883', '1884', '1885',\n",
              "       '1886', '1887', '1888', '1889', '1890', '1891', '1892', '1893',\n",
              "       '1894', '1895', '1896', '1897', '1898', '1899', '1900', '1901',\n",
              "       '1902', '1903', '1904', '1905', '1906', '1907', '1908', '1909',\n",
              "       '1910', '1911', '1912', '1913', '1914', '1915', '1916', '1917',\n",
              "       '1918', '1919', '1920', '1921', '1922', '1923', '1924', '1925',\n",
              "       '1926', '1927', '1928', '1929', '1930', '1931', '1932', '1933',\n",
              "       '1934', '1935', '1936', '1937', '1938', '1939', '1940', '1941',\n",
              "       '1942', '1943', '1944', '1945', '1946', '1947', '1948', '1949',\n",
              "       '1950', '1951', '1952', '1953', '1954', '1955', '1956', '1957',\n",
              "       '1958', '1959', '1960', '1961', '1962', '1963', '1964', '1965',\n",
              "       '1966', '1967', '1968', '1969', '1970', '1971', '1972', '1973',\n",
              "       '1974', '1975', '1976', '1977', '1978', '1979', '1980', '1981',\n",
              "       '1982', '1983', '1984', '1985', '1986', '1987', '1988', '1989',\n",
              "       '1990', '1991', '1992', '1993', '1994', '1995', '1996', '1997',\n",
              "       '1998', '1999', '2000', '2001', '2002', '2003', '2004', '2005',\n",
              "       '2006', '2007', '2008', '2009', '2010', '2011', '2012', '2013',\n",
              "       '2014', '2015', '2016', '2017', '2018', '2019', '2020', '2021',\n",
              "       None], dtype=object)"
            ]
          },
          "execution_count": 144,
          "metadata": {},
          "output_type": "execute_result"
        }
      ],
      "source": [
        "data11['remodeled_year'].sort_values().unique()"
      ]
    },
    {
      "cell_type": "markdown",
      "metadata": {
        "id": "2-_f2g_miyQC"
      },
      "source": [
        "Объединим значения незаполеннные значения и нулевые значения как None."
      ]
    },
    {
      "cell_type": "code",
      "execution_count": 145,
      "metadata": {
        "id": "5cd3nSDeiAnQ"
      },
      "outputs": [],
      "source": [
        "data11['remodeled_year'] = data11['remodeled_year'].apply(lambda x: None if (x == '') | (x == '0') else x)"
      ]
    },
    {
      "cell_type": "markdown",
      "metadata": {
        "id": "T748XIqNjlRD"
      },
      "source": [
        "Переведем признак 'remodeled_year' в числовой формат."
      ]
    },
    {
      "cell_type": "code",
      "execution_count": 146,
      "metadata": {
        "id": "pbQZpyDWjGX-"
      },
      "outputs": [],
      "source": [
        "data11['remodeled_year'] = data11['remodeled_year'].apply(lambda x: int(x) if x != None else x)"
      ]
    },
    {
      "cell_type": "markdown",
      "metadata": {
        "id": "ZloEDUCIlmIG"
      },
      "source": [
        "Создадим новый бинарный признак 'remodeling', указывающий проводилась или нет реконструкция здания. После чего удалим признак 'remodeled_year' за недадобностью."
      ]
    },
    {
      "cell_type": "code",
      "execution_count": 147,
      "metadata": {
        "id": "9h3LZiDQkGah"
      },
      "outputs": [],
      "source": [
        "data11['remodeling'] = data11['remodeled_year'].apply(lambda x: 1 if x > 0 else 0)\n",
        "data11 = data11.drop(['remodeled_year'], axis=1)"
      ]
    },
    {
      "cell_type": "code",
      "execution_count": 148,
      "metadata": {
        "colab": {
          "base_uri": "https://localhost:8080/"
        },
        "id": "2xVVXB23lQKe",
        "outputId": "25645933-17ae-40ea-d561-f1fcfef02b45"
      },
      "outputs": [
        {
          "data": {
            "text/plain": [
              "0    223962\n",
              "1    149550\n",
              "Name: remodeling, dtype: int64"
            ]
          },
          "execution_count": 148,
          "metadata": {},
          "output_type": "execute_result"
        }
      ],
      "source": [
        "data11['remodeling'].value_counts()"
      ]
    },
    {
      "cell_type": "markdown",
      "metadata": {
        "id": "gQrnwE8wmQ2q"
      },
      "source": [
        "Выделим из признака 'homeFacts' признак 'heating', указывающий на тип отопления в доме."
      ]
    },
    {
      "cell_type": "code",
      "execution_count": 149,
      "metadata": {
        "id": "6oWCTwEolaog"
      },
      "outputs": [],
      "source": [
        "data11['heating'] = data11['homeFacts'].apply(lambda x: x['atAGlanceFacts'][2]['factValue'])"
      ]
    },
    {
      "cell_type": "code",
      "execution_count": 150,
      "metadata": {
        "colab": {
          "base_uri": "https://localhost:8080/"
        },
        "id": "lmUtwdUgmj8W",
        "outputId": "fc8e25b4-e01b-43c8-bd40-8800b8d73650"
      },
      "outputs": [
        {
          "data": {
            "text/plain": [
              "                               105157\n",
              "Forced Air                      82357\n",
              "Forced air                      50890\n",
              "Other                           29055\n",
              "Electric                        10127\n",
              "Gas                              9193\n",
              "Central Air                      7814\n",
              "No Data                          7702\n",
              "Central Electric                 7111\n",
              "Central                          6245\n",
              "Heat Pump                        6076\n",
              "Central, Electric                4252\n",
              "Baseboard                        3769\n",
              "Wall                             3275\n",
              "Electric Heat                    3064\n",
              "Heating System                   2709\n",
              "Heat pump                        2684\n",
              "Forced air, Heat pump            1684\n",
              "Radiant                          1481\n",
              "Central Air, Ceiling Fan(s)      1431\n",
              "Name: heating, dtype: int64"
            ]
          },
          "execution_count": 150,
          "metadata": {},
          "output_type": "execute_result"
        }
      ],
      "source": [
        "data11['heating'].value_counts()[:20]"
      ]
    },
    {
      "cell_type": "markdown",
      "metadata": {
        "id": "WWXLHGDFnVh9"
      },
      "source": [
        "Приведём значения к нижнему регистру и объединим некоторые категории."
      ]
    },
    {
      "cell_type": "code",
      "execution_count": 151,
      "metadata": {
        "id": "bR1_NHk2mxL_"
      },
      "outputs": [],
      "source": [
        "data11['heating'] = data11['heating'].apply(lambda x: str(x).lower())\n",
        "data11['heating'] = data11['heating'].apply(lambda x: 'no info' if (x == '') | (x == 'no data') | (x == 'none') else x)\n",
        "data11['heating'] = data11['heating'].apply(lambda x: 'gas' if (x == 'natural gas heat') | (x == 'gas heat') | (x == 'central gas') | (x == 'natural gas') | (x == ', gas hot air/furnace') | (x == ', gas hot air/furnace, multizone heat') else x)\n",
        "data11['heating'] = data11['heating'].apply(lambda x: 'forced air' if (x == 'forced air heating') else x)\n",
        "data11['heating'] = data11['heating'].apply(lambda x: 'electric' if (x == 'central electric') | (x == 'central, electric') | (x == 'electric heat') else x)\n",
        "data11['heating'] = data11['heating'].apply(lambda x: 'heat pump' if (x == ', heat pump - heat') | (x == 'heat pump(s)') else x)\n",
        "data11['heating'] = data11['heating'].apply(lambda x: 'central' if (x == 'central heating') | (x == 'central air') else x)"
      ]
    },
    {
      "cell_type": "code",
      "execution_count": 152,
      "metadata": {
        "colab": {
          "base_uri": "https://localhost:8080/"
        },
        "id": "nIEy8iQRnPiq",
        "outputId": "80e454b1-7488-4cf5-88b2-f08ddb223562"
      },
      "outputs": [
        {
          "data": {
            "text/plain": [
              "forced air                              134057\n",
              "no info                                 116412\n",
              "other                                    29055\n",
              "electric                                 24560\n",
              "central                                  14705\n",
              "gas                                      13136\n",
              "heat pump                                 9447\n",
              "baseboard                                 3769\n",
              "wall                                      3275\n",
              "heating system                            2709\n",
              "forced air, heat pump                     1724\n",
              "radiant                                   1481\n",
              "central air, ceiling fan(s)               1431\n",
              "central furnace                           1036\n",
              "forced air, gas                            962\n",
              "central electric, zoned                    873\n",
              "forced air, natural gas                    737\n",
              "central electric, heat pump                517\n",
              "central air conditioning                   396\n",
              "electric, gas                              340\n",
              "forced air, other                          325\n",
              "central, gas                               317\n",
              "refrigeration                              255\n",
              "central, electric, heat pump               241\n",
              "refrigeration, ceiling fan(s)              239\n",
              "oil                                        217\n",
              "central, heat pump                         207\n",
              "forced air, stove                          206\n",
              "central air, central heat                  197\n",
              "central, gas, two or more units            172\n",
              "electric, heat pump                        170\n",
              "baseboard, forced air                      164\n",
              "central, electric, two or more units       162\n",
              "central electric, central gas              131\n",
              "forced air, wall                           130\n",
              "wall/window unit(s)                        130\n",
              "window units                               127\n",
              "central, electric, zoned                   124\n",
              "wall heater                                122\n",
              "forced air, radiant                        116\n",
              "Name: heating, dtype: int64"
            ]
          },
          "execution_count": 152,
          "metadata": {},
          "output_type": "execute_result"
        }
      ],
      "source": [
        "data11['heating'].value_counts()[:40]"
      ]
    },
    {
      "cell_type": "markdown",
      "metadata": {
        "id": "JNGCXrhS9DF2"
      },
      "source": [
        "Выделим 10 наиболее популярных методов отопления домов, остальные обозначим other."
      ]
    },
    {
      "cell_type": "code",
      "execution_count": 153,
      "metadata": {
        "id": "3mW4pgd27nkE"
      },
      "outputs": [],
      "source": [
        "popular_heating = data11['heating'].value_counts()[:10].index\n",
        "data11['heating'] = data11['heating'].apply(lambda x: x if x in popular_heating else 'other')\n",
        "data11['heating'] = data11['heating'].apply(lambda x: 'other' if (x=='no info') else x)"
      ]
    },
    {
      "cell_type": "code",
      "execution_count": 154,
      "metadata": {
        "colab": {
          "base_uri": "https://localhost:8080/"
        },
        "id": "WIB1kVc09KnP",
        "outputId": "0c6d550f-a5f1-4829-b9d1-0b10138a82fe"
      },
      "outputs": [
        {
          "data": {
            "text/plain": [
              "other             167854\n",
              "forced air        134057\n",
              "electric           24560\n",
              "central            14705\n",
              "gas                13136\n",
              "heat pump           9447\n",
              "baseboard           3769\n",
              "wall                3275\n",
              "heating system      2709\n",
              "Name: heating, dtype: int64"
            ]
          },
          "execution_count": 154,
          "metadata": {},
          "output_type": "execute_result"
        }
      ],
      "source": [
        "data11['heating'].value_counts()"
      ]
    },
    {
      "cell_type": "markdown",
      "metadata": {
        "id": "6dAyvpXU9aeP"
      },
      "source": [
        "Сохраним полученный датасет под именем data12."
      ]
    },
    {
      "cell_type": "code",
      "execution_count": 155,
      "metadata": {
        "id": "ZE4I2Ia09eay"
      },
      "outputs": [],
      "source": [
        "data12 = data11.copy()"
      ]
    },
    {
      "cell_type": "markdown",
      "metadata": {
        "id": "VM-s5YCC97-n"
      },
      "source": [
        "Выделим из признака 'homeFacts' признак 'cooling', указывающий на тип охлаждения в доме. И приведем данные к двум вариантам - есть(1)/нет(0)."
      ]
    },
    {
      "cell_type": "code",
      "execution_count": 156,
      "metadata": {
        "id": "GDzLptNB9y2Y"
      },
      "outputs": [],
      "source": [
        "data12['cooling'] = data12['homeFacts'].apply(lambda x: x['atAGlanceFacts'][3]['factValue'])"
      ]
    },
    {
      "cell_type": "code",
      "execution_count": 157,
      "metadata": {
        "colab": {
          "base_uri": "https://localhost:8080/"
        },
        "id": "yi5vdsPM-Ki3",
        "outputId": "c70edfc9-c265-41c4-db41-fe49f3e6126e"
      },
      "outputs": [
        {
          "data": {
            "text/plain": [
              "3485"
            ]
          },
          "execution_count": 157,
          "metadata": {},
          "output_type": "execute_result"
        }
      ],
      "source": [
        "data12['cooling'].isna().sum()"
      ]
    },
    {
      "cell_type": "code",
      "execution_count": 158,
      "metadata": {
        "id": "4fCpWn-N-Usz"
      },
      "outputs": [],
      "source": [
        "data12['cooling'] = data12['cooling'].fillna('no info')"
      ]
    },
    {
      "cell_type": "code",
      "execution_count": 159,
      "metadata": {
        "colab": {
          "base_uri": "https://localhost:8080/"
        },
        "id": "BDkCn1xj-duU",
        "outputId": "12c10fd5-4dd4-464a-cd09-e9df07e2cb40"
      },
      "outputs": [
        {
          "data": {
            "text/plain": [
              "central                                              157219\n",
              "                                                     119581\n",
              "central air                                           14382\n",
              "has cooling                                            9729\n",
              "no data                                                9657\n",
              "none                                                   7289\n",
              "central electric                                       6153\n",
              "wall                                                   3983\n",
              "central gas                                            3573\n",
              "no info                                                3485\n",
              "central heating                                        2807\n",
              "cooling system                                         2700\n",
              "central a/c                                            2051\n",
              "other                                                  1779\n",
              "central a/c (electric), central heat (gas)             1646\n",
              "central a/c (electric), central heat (electric)        1429\n",
              "refrigeration                                          1061\n",
              "central, electric                                      1059\n",
              "electric                                               1009\n",
              "evaporative                                             987\n",
              "central air, gas hot air/furnace                        827\n",
              "refrigeration, ceiling fan(s)                           787\n",
              "central gas, zoned                                      747\n",
              "central, wall                                           723\n",
              "air conditioning-central                                637\n",
              "has heating                                             582\n",
              "2 or more units, central, electric                      570\n",
              "central air, gas (hot air)                              504\n",
              "central electric, zoned                                 465\n",
              "central air, zoned                                      452\n",
              "solar, refrigeration                                    421\n",
              "central, other                                          413\n",
              "ceiling fan, central electric                           403\n",
              "central cooling                                         398\n",
              "electric heating                                        398\n",
              "heat pump                                               387\n",
              "gas heating                                             331\n",
              "central a/c (electric), central heat (gas), zoned       301\n",
              "central electric, heat pump                             277\n",
              "gas heating, forced air heating                         260\n",
              "Name: cooling, dtype: int64"
            ]
          },
          "execution_count": 159,
          "metadata": {},
          "output_type": "execute_result"
        }
      ],
      "source": [
        "data12['cooling'] = data12['cooling'].apply(lambda x: str(x).lower())\n",
        "data12['cooling'].value_counts()[:40]"
      ]
    },
    {
      "cell_type": "code",
      "execution_count": 160,
      "metadata": {
        "id": "AfjqLIB9_blR"
      },
      "outputs": [],
      "source": [
        "data12['cooling'] = data12['cooling'].apply(lambda x: None if (x == '') | (x == 'no info') | (x == 'none') | (x == 'no data') else x)"
      ]
    },
    {
      "cell_type": "code",
      "execution_count": 161,
      "metadata": {
        "colab": {
          "base_uri": "https://localhost:8080/"
        },
        "id": "9bGBRvpMAAdR",
        "outputId": "7f5c8c9d-bc33-481f-89ac-2af0a863060f"
      },
      "outputs": [
        {
          "data": {
            "text/plain": [
              "central                                              157219\n",
              "central air                                           14382\n",
              "has cooling                                            9729\n",
              "central electric                                       6153\n",
              "wall                                                   3983\n",
              "central gas                                            3573\n",
              "central heating                                        2807\n",
              "cooling system                                         2700\n",
              "central a/c                                            2051\n",
              "other                                                  1779\n",
              "central a/c (electric), central heat (gas)             1646\n",
              "central a/c (electric), central heat (electric)        1429\n",
              "refrigeration                                          1061\n",
              "central, electric                                      1059\n",
              "electric                                               1009\n",
              "evaporative                                             987\n",
              "central air, gas hot air/furnace                        827\n",
              "refrigeration, ceiling fan(s)                           787\n",
              "central gas, zoned                                      747\n",
              "central, wall                                           723\n",
              "air conditioning-central                                637\n",
              "has heating                                             582\n",
              "2 or more units, central, electric                      570\n",
              "central air, gas (hot air)                              504\n",
              "central electric, zoned                                 465\n",
              "central air, zoned                                      452\n",
              "solar, refrigeration                                    421\n",
              "central, other                                          413\n",
              "ceiling fan, central electric                           403\n",
              "central cooling                                         398\n",
              "electric heating                                        398\n",
              "heat pump                                               387\n",
              "gas heating                                             331\n",
              "central a/c (electric), central heat (gas), zoned       301\n",
              "central electric, heat pump                             277\n",
              "gas heating, forced air heating                         260\n",
              "heat pump - ac                                          252\n",
              "central air, gas hot air/furnace, multizone a/c         229\n",
              "central electric, central gas                           225\n",
              "forced air heating                                      200\n",
              "Name: cooling, dtype: int64"
            ]
          },
          "execution_count": 161,
          "metadata": {},
          "output_type": "execute_result"
        }
      ],
      "source": [
        "data12['cooling'].value_counts()[:40]"
      ]
    },
    {
      "cell_type": "code",
      "execution_count": 162,
      "metadata": {
        "id": "FyCKexP_BR2y"
      },
      "outputs": [],
      "source": [
        "data12['cooling'] = data12['cooling'].apply(lambda x: 0 if x == None else 1)"
      ]
    },
    {
      "cell_type": "code",
      "execution_count": 163,
      "metadata": {
        "colab": {
          "base_uri": "https://localhost:8080/"
        },
        "id": "YCFTjK_8Bkyt",
        "outputId": "1ff02b39-0b3c-47a6-81ad-4986651191f9"
      },
      "outputs": [
        {
          "data": {
            "text/plain": [
              "1    233500\n",
              "0    140012\n",
              "Name: cooling, dtype: int64"
            ]
          },
          "execution_count": 163,
          "metadata": {},
          "output_type": "execute_result"
        }
      ],
      "source": [
        "data12['cooling'].value_counts()"
      ]
    },
    {
      "cell_type": "markdown",
      "metadata": {
        "id": "SwCfarW7DxSs"
      },
      "source": [
        "Выделим из признака 'homeFacts' признак 'parking', указывающий на тип и количество парковочных мест в доме."
      ]
    },
    {
      "cell_type": "code",
      "execution_count": 164,
      "metadata": {
        "id": "iGAheMnXEAQ-"
      },
      "outputs": [],
      "source": [
        "data12['parking'] = data12['homeFacts'].apply(lambda x: x['atAGlanceFacts'][4]['factValue'])"
      ]
    },
    {
      "cell_type": "markdown",
      "metadata": {
        "id": "TqRWLfmdO8lJ"
      },
      "source": [
        "Посмотрим наличие пропусков в признаке 'parking'."
      ]
    },
    {
      "cell_type": "code",
      "execution_count": 165,
      "metadata": {
        "colab": {
          "base_uri": "https://localhost:8080/"
        },
        "id": "plNRviyjEQgQ",
        "outputId": "78ec9285-9222-4e44-80de-ac969b5ff58a"
      },
      "outputs": [
        {
          "data": {
            "text/plain": [
              "3485"
            ]
          },
          "execution_count": 165,
          "metadata": {},
          "output_type": "execute_result"
        }
      ],
      "source": [
        "data12['parking'].isna().sum()"
      ]
    },
    {
      "cell_type": "markdown",
      "metadata": {
        "id": "Hmgx0tXYPKZE"
      },
      "source": [
        "Обработаем признак 'parking' и просмотрим 30 наибольших значений."
      ]
    },
    {
      "cell_type": "code",
      "execution_count": 166,
      "metadata": {
        "id": "FgbAwFYOEeS6"
      },
      "outputs": [],
      "source": [
        "data12['parking'] = data12['parking'].apply(lambda x: str(x).lower())\n",
        "data12['parking'] = data12['parking'].apply(lambda x: 'no info' if (x == '') | (x == None) | (x == 'none') | (x == 'no data') else x)\n",
        "data12['parking'] = data12['parking'].apply(lambda x: 'garage' if (x == 'attached garage') | (x == 'detached garage') | (x == 'attached garage, detached garage') | (x == 'detached garage, attached garage') | (x == 'garage type') | (x == 'garage - 2 car') else x)\n",
        "data12['parking'] = data12['parking'].apply(lambda x: '1 space' if (x == '1') else x)\n",
        "data12['parking'] = data12['parking'].apply(lambda x: '2 spaces' if (x == '2') else x)\n",
        "data12['parking'] = data12['parking'].apply(lambda x: '3 spaces' if (x == '3') else x)\n",
        "data12['parking'] = data12['parking'].apply(lambda x: '4 spaces' if (x == '4') else x)\n",
        "data12['parking'] = data12['parking'].apply(lambda x: 'carport' if (x == 'carport, attached garage') else x)\n"
      ]
    },
    {
      "cell_type": "code",
      "execution_count": 167,
      "metadata": {
        "colab": {
          "base_uri": "https://localhost:8080/"
        },
        "id": "0xzCYBaSEMl9",
        "outputId": "84d72748-7bdf-42ab-9c24-16befc462ef3"
      },
      "outputs": [
        {
          "data": {
            "text/plain": [
              "no info                            189520\n",
              "garage                              85964\n",
              "2 spaces                            30157\n",
              "1 space                             16996\n",
              "carport                             10655\n",
              "off street                           5228\n",
              "3 spaces                             5090\n",
              "4 spaces                             3499\n",
              "on street                            1696\n",
              "0                                    1114\n",
              "attached garage, carport              987\n",
              "parking desc                          900\n",
              "6 spaces                              747\n",
              "driveway                              693\n",
              "5 spaces                              654\n",
              "off street parking                    573\n",
              "off street, attached garage           531\n",
              "parking type                          447\n",
              "carport, detached garage              400\n",
              "attached garage, garage - 2 car       392\n",
              "parking yn                            367\n",
              "off street, on street                 353\n",
              "driveway, garage door opener          340\n",
              "garage door opener                    263\n",
              "888                                   251\n",
              "attached garage, off street           244\n",
              "off street, detached garage           236\n",
              "attached - front                      233\n",
              "slab parking spaces                   229\n",
              "detached garage, carport              213\n",
              "Name: parking, dtype: int64"
            ]
          },
          "execution_count": 167,
          "metadata": {},
          "output_type": "execute_result"
        }
      ],
      "source": [
        "data12['parking'].value_counts()[:30]"
      ]
    },
    {
      "cell_type": "markdown",
      "metadata": {
        "id": "775PTS1CPm6_"
      },
      "source": [
        "Оставим 10 наибольших значений, а остальное объединим в тип other."
      ]
    },
    {
      "cell_type": "code",
      "execution_count": 168,
      "metadata": {
        "id": "Zldh7t6yMGPy"
      },
      "outputs": [],
      "source": [
        "parking_list = data12['parking'].value_counts()[:9].index\n",
        "data12['parking'] = data12['parking'].apply(lambda x: x if x in parking_list else 'other')\n",
        "data12['parking'] = data12['parking'].apply(lambda x: 'other' if (x=='no info') else x)"
      ]
    },
    {
      "cell_type": "code",
      "execution_count": 169,
      "metadata": {
        "colab": {
          "base_uri": "https://localhost:8080/"
        },
        "id": "WMZJgJxL9uTQ",
        "outputId": "25f7ff87-8194-4e52-d2aa-1d8a9869a989"
      },
      "outputs": [
        {
          "data": {
            "text/plain": [
              "other         214227\n",
              "garage         85964\n",
              "2 spaces       30157\n",
              "1 space        16996\n",
              "carport        10655\n",
              "off street      5228\n",
              "3 spaces        5090\n",
              "4 spaces        3499\n",
              "on street       1696\n",
              "Name: parking, dtype: int64"
            ]
          },
          "execution_count": 169,
          "metadata": {},
          "output_type": "execute_result"
        }
      ],
      "source": [
        "data12['parking'].value_counts()"
      ]
    },
    {
      "cell_type": "markdown",
      "metadata": {
        "id": "5A03cq6cO3Ja"
      },
      "source": [
        "Сохраним полученный датасет под именем data13."
      ]
    },
    {
      "cell_type": "code",
      "execution_count": 170,
      "metadata": {
        "id": "NR9ag-xfOxNx"
      },
      "outputs": [],
      "source": [
        "data13 = data12.copy()"
      ]
    },
    {
      "cell_type": "markdown",
      "metadata": {
        "id": "6xn_52yiPw2u"
      },
      "source": [
        "Выделим из признака 'homeFacts' признак 'lotsize', указывающий площадь земельного участка, относящуюся к дому."
      ]
    },
    {
      "cell_type": "code",
      "execution_count": 171,
      "metadata": {
        "id": "MDwVS40lQFtM"
      },
      "outputs": [],
      "source": [
        "data13['lotsize'] = data13['homeFacts'].apply(lambda x: x['atAGlanceFacts'][5]['factValue'])"
      ]
    },
    {
      "cell_type": "markdown",
      "metadata": {
        "id": "Lc5G--iFQg0s"
      },
      "source": [
        "Посмотрим наличие пропусков в признаке 'lotsize'."
      ]
    },
    {
      "cell_type": "code",
      "execution_count": 172,
      "metadata": {
        "colab": {
          "base_uri": "https://localhost:8080/"
        },
        "id": "XSeQbvYtQoEa",
        "outputId": "b4204055-0f15-443e-aca1-630bf7b261eb"
      },
      "outputs": [
        {
          "data": {
            "text/plain": [
              "27977"
            ]
          },
          "execution_count": 172,
          "metadata": {},
          "output_type": "execute_result"
        }
      ],
      "source": [
        "data13['lotsize'].isna().sum()"
      ]
    },
    {
      "cell_type": "markdown",
      "metadata": {
        "id": "ZHek1PhrQq-w"
      },
      "source": [
        "Произведем обработку признака 'lotsize' и просмотрим 300 первых уникальных значений."
      ]
    },
    {
      "cell_type": "code",
      "execution_count": 173,
      "metadata": {
        "id": "7n3lgUCgSPIV"
      },
      "outputs": [],
      "source": [
        "data13['lotsize'] = data13['lotsize'].apply(lambda x: str(x).lower())\n",
        "data13['lotsize'] = data13['lotsize'].apply(lambda x: 'no info' if (x == '') | (x == None) | (x == '—') | (x == 'no data') | (x == '-- sqft lot') | (x == 'none') else x)\n",
        "data13['lotsize'] = data13['lotsize'].str.replace(',', '', regex=True)\n",
        "data13['lotsize'] = data13['lotsize'].str.replace('acres lot', 'acres', regex=True)\n",
        "data13['lotsize'] = data13['lotsize'].str.replace('acre lot', 'acre', regex=True)\n",
        "data13['lotsize'] = data13['lotsize'].str.replace('sqft lot', 'sqft', regex=True)\n",
        "data13['lotsize'] = data13['lotsize'].str.replace('sq. ft.', 'sqft', regex=True)\n",
        "data13['lotsize'] = data13['lotsize'].str.replace('-', '', regex=True)\n",
        "data13['lotsize'] = data13['lotsize'].str.replace(' acres', '', regex=True)\n",
        "data13['lotsize'] = data13['lotsize'].str.replace(' acre', '', regex=True)\n",
        "data13['lotsize'] = data13['lotsize'].str.replace(' sqft', '', regex=True)\n",
        "data13['lotsize'] = data13['lotsize'].str.replace('no info', '0', regex=True)"
      ]
    },
    {
      "cell_type": "code",
      "execution_count": 174,
      "metadata": {
        "colab": {
          "base_uri": "https://localhost:8080/"
        },
        "id": "eWXmS3mKIHkg",
        "outputId": "93b400ee-d935-4c09-c6f4-6604b92643e0"
      },
      "outputs": [
        {
          "data": {
            "text/plain": [
              "array(['0', '0.23', '0.24', '0.25', '0.26', '0.27', '0.28', '0.29', '0.3',\n",
              "       '0.30', '0.31', '0.32', '0.33', '0.34', '0.35', '0.36', '0.37',\n",
              "       '0.38', '0.39', '0.4', '0.40', '0.41', '0.42', '0.43', '0.44',\n",
              "       '0.45', '0.46', '0.47', '0.48', '0.49', '0.5', '0.50', '0.51',\n",
              "       '0.52', '0.53', '0.54', '0.55', '0.56', '0.57', '0.58', '0.59',\n",
              "       '0.6', '0.60', '0.61', '0.62', '0.63', '0.64', '0.65', '0.66',\n",
              "       '0.67', '0.68', '0.69', '0.7', '0.70', '0.71', '0.72', '0.73',\n",
              "       '0.74', '0.75', '0.76', '0.77', '0.78', '0.79', '0.8', '0.80',\n",
              "       '0.81', '0.82', '0.83', '0.84', '0.85', '0.86', '0.87', '0.88',\n",
              "       '0.89', '0.9', '0.90', '0.91', '0.92', '0.93', '0.94', '0.95',\n",
              "       '0.96', '0.97', '0.98', '0.99', '1', '1.00', '1.01', '1.02',\n",
              "       '1.03', '1.04', '1.05', '1.06', '1.07', '1.08', '1.09', '1.1',\n",
              "       '1.10', '1.11', '1.12', '1.13', '1.14', '1.15', '1.16', '1.17',\n",
              "       '1.18', '1.19', '1.2', '1.20', '1.21', '1.22', '1.23', '1.24',\n",
              "       '1.25', '1.26', '1.27', '1.28', '1.29', '1.3', '1.30', '1.31',\n",
              "       '1.32', '1.33', '1.34', '1.35', '1.36', '1.37', '1.38', '1.39',\n",
              "       '1.4', '1.40', '1.41', '1.42', '1.43', '1.44', '1.45', '1.46',\n",
              "       '1.47', '1.48', '1.49', '1.5', '1.50', '1.51', '1.52', '1.53',\n",
              "       '1.54', '1.55', '1.56', '1.57', '1.58', '1.59', '1.6', '1.60',\n",
              "       '1.61', '1.62', '1.63', '1.64', '1.65', '1.66', '1.67', '1.68',\n",
              "       '1.69', '1.7', '1.70', '1.71', '1.72', '1.73', '1.74', '1.75',\n",
              "       '1.76', '1.77', '1.78', '1.79', '1.8', '1.80', '1.81', '1.82',\n",
              "       '1.83', '1.84', '1.85', '1.86', '1.87', '1.88', '1.89', '1.9',\n",
              "       '1.90', '1.91', '1.92', '1.93', '1.94', '1.95', '1.96', '1.97',\n",
              "       '1.98', '1.99', '10', '10.0', '10.00', '10.01', '10.02', '10.03',\n",
              "       '10.04', '10.05', '10.06', '10.07', '10.09', '10.1', '10.10',\n",
              "       '10.11', '10.12', '10.13', '10.14', '10.15', '10.16', '10.17',\n",
              "       '10.18', '10.19', '10.2', '10.20', '10.21', '10.22', '10.23',\n",
              "       '10.24', '10.25', '10.26', '10.27', '10.28', '10.3', '10.30',\n",
              "       '10.31', '10.32', '10.33', '10.34', '10.35', '10.36', '10.37',\n",
              "       '10.38', '10.39', '10.4', '10.40', '10.41', '10.42', '10.43',\n",
              "       '10.45', '10.46', '10.47', '10.5', '10.50', '10.51', '10.53',\n",
              "       '10.56', '10.57', '10.58', '10.59', '10.6', '10.60', '10.61',\n",
              "       '10.62', '10.63', '10.64', '10.65', '10.66', '10.68', '10.69',\n",
              "       '10.7', '10.70', '10.71', '10.72', '10.73', '10.74', '10.75',\n",
              "       '10.76', '10.79', '10.8', '10.80', '10.81', '10.82', '10.85',\n",
              "       '10.86', '10.88', '10.89', '10.9', '10.91', '10.92', '10.94',\n",
              "       '10.95', '10.96', '10.97', '10.98', '10.99', '100', '100.00',\n",
              "       '100.04', '100.68', '100.79', '1000', '10000', '100000', '100001',\n",
              "       '10001'], dtype=object)"
            ]
          },
          "execution_count": 174,
          "metadata": {},
          "output_type": "execute_result"
        }
      ],
      "source": [
        "data13['lotsize'].sort_values().unique()[0:300]"
      ]
    },
    {
      "cell_type": "markdown",
      "metadata": {
        "id": "TADsxrRHM_Ko"
      },
      "source": [
        "Переведём признак 'lotsize' в числовой формат."
      ]
    },
    {
      "cell_type": "code",
      "execution_count": 175,
      "metadata": {
        "id": "dxHF8TPbM4ni"
      },
      "outputs": [],
      "source": [
        "data13['lotsize'] = data13['lotsize'].apply(lambda x: float(x))"
      ]
    },
    {
      "cell_type": "markdown",
      "metadata": {
        "id": "Pau0iyWfLsuI"
      },
      "source": [
        "Будем считать, что все значения менее 101 записаны в акрах (acres), а более 101 в квадратных футах (sqft).\n",
        "\n",
        "Переведём все значения менее 101 в квадратные футы из расчёта, что 1 акр = 43560 кв. футов."
      ]
    },
    {
      "cell_type": "code",
      "execution_count": 176,
      "metadata": {
        "id": "EVuYZrebMb09"
      },
      "outputs": [],
      "source": [
        "data13['lotsize'] = data13['lotsize'].apply(lambda x: (x * 43560) if 0 < x < 101 else x)"
      ]
    },
    {
      "cell_type": "code",
      "execution_count": 177,
      "metadata": {
        "colab": {
          "base_uri": "https://localhost:8080/"
        },
        "id": "hsSaabjJQHqu",
        "outputId": "ea6eefd2-6861-494c-912b-9c3d43c7995b"
      },
      "outputs": [
        {
          "data": {
            "text/plain": [
              "0.0          94561\n",
              "10890.0       3486\n",
              "11325.6       3393\n",
              "12196.8       2847\n",
              "11761.2       2698\n",
              "             ...  \n",
              "2580059.0        1\n",
              "39908.0          1\n",
              "3483.0           1\n",
              "81631.0          1\n",
              "2871.0           1\n",
              "Name: lotsize, Length: 18559, dtype: int64"
            ]
          },
          "execution_count": 177,
          "metadata": {},
          "output_type": "execute_result"
        }
      ],
      "source": [
        "data13['lotsize'].value_counts()"
      ]
    },
    {
      "cell_type": "markdown",
      "metadata": {
        "id": "JKCYbXIINXnN"
      },
      "source": [
        "Заменим 0 на медианное значение."
      ]
    },
    {
      "cell_type": "code",
      "execution_count": 178,
      "metadata": {
        "id": "OICGbZbRPLtu"
      },
      "outputs": [],
      "source": [
        "data13['lotsize'] = data13['lotsize'].replace(0, data13['lotsize'].median(), regex=True)"
      ]
    },
    {
      "cell_type": "code",
      "execution_count": 179,
      "metadata": {
        "colab": {
          "base_uri": "https://localhost:8080/"
        },
        "id": "3TH2Itl-Ru7a",
        "outputId": "c23b35ca-30a8-4175-cfe1-bb4bfc1af565"
      },
      "outputs": [
        {
          "data": {
            "text/plain": [
              "6250.00     95250\n",
              "10890.00     3486\n",
              "11325.60     3393\n",
              "12196.80     2847\n",
              "11761.20     2698\n",
              "            ...  \n",
              "11955.00        1\n",
              "13529.00        1\n",
              "932.37          1\n",
              "17725.00        1\n",
              "2871.00         1\n",
              "Name: lotsize, Length: 18558, dtype: int64"
            ]
          },
          "execution_count": 179,
          "metadata": {},
          "output_type": "execute_result"
        }
      ],
      "source": [
        "data13['lotsize'].value_counts()"
      ]
    },
    {
      "cell_type": "markdown",
      "metadata": {
        "id": "FBMzEQXoRVYR"
      },
      "source": [
        "Сохраним полученный датасет под именем data14."
      ]
    },
    {
      "cell_type": "code",
      "execution_count": 180,
      "metadata": {
        "id": "VBMVq1RXRS7j"
      },
      "outputs": [],
      "source": [
        "data14 = data13.copy()"
      ]
    },
    {
      "cell_type": "markdown",
      "metadata": {
        "id": "KMr5hp9MR4Dm"
      },
      "source": [
        "Выделим из признака 'homeFacts' дополнительный признак стоимости одного квадратного фута земельного участка 'price/sqft'."
      ]
    },
    {
      "cell_type": "code",
      "execution_count": 181,
      "metadata": {
        "id": "eh1qorr0SXSf"
      },
      "outputs": [],
      "source": [
        "data14['price/sqft'] = data14['homeFacts'].apply(lambda x: x['atAGlanceFacts'][6]['factValue'])"
      ]
    },
    {
      "cell_type": "markdown",
      "metadata": {
        "id": "QmYjHdDnSqng"
      },
      "source": [
        "Посмотрим наличие пропусков в признаке 'price/sqft'."
      ]
    },
    {
      "cell_type": "code",
      "execution_count": 182,
      "metadata": {
        "colab": {
          "base_uri": "https://localhost:8080/"
        },
        "id": "PLj4aZDSSfq9",
        "outputId": "b8f85b96-1a6d-4f62-9a42-355dc22b17d8"
      },
      "outputs": [
        {
          "data": {
            "text/plain": [
              "57188"
            ]
          },
          "execution_count": 182,
          "metadata": {},
          "output_type": "execute_result"
        }
      ],
      "source": [
        "data14['price/sqft'].isna().sum()"
      ]
    },
    {
      "cell_type": "markdown",
      "metadata": {
        "id": "BwwdYkDZV7jN"
      },
      "source": [
        "Произведем обработку признака 'price/sqft' и просмотрим 300 первых уникальных значений."
      ]
    },
    {
      "cell_type": "code",
      "execution_count": 183,
      "metadata": {
        "id": "I1ctiVhdS-La"
      },
      "outputs": [],
      "source": [
        "data14['price/sqft'] = data14['price/sqft'].apply(lambda x: str(x).lower())\n",
        "data14['price/sqft'] = data14['price/sqft'].apply(lambda x: 'no info' if (x == '') | (x == None) | (x == 'no data') | (x == 'none') else x)\n",
        "data14['price/sqft'] = data14['price/sqft'].str.replace(',', '', regex=True)\n",
        "data14['price/sqft'] = data14['price/sqft'].str.replace('\\$', '', regex=True)\n",
        "data14['price/sqft'] = data14['price/sqft'].str.replace('sq. ft.', 'sqft', regex=True)\n",
        "data14['price/sqft'] = data14['price/sqft'].str.replace(' ', '', regex=True)\n",
        "data14['price/sqft'] = data14['price/sqft'].str.replace('/sqft', '', regex=True)\n",
        "data14['price/sqft'] = data14['price/sqft'].str.replace('noinfo', '0', regex=True)\n",
        "data14['price/sqft'] = data14['price/sqft'].str.replace('contactmanager', '0', regex=True)"
      ]
    },
    {
      "cell_type": "code",
      "execution_count": 184,
      "metadata": {
        "colab": {
          "base_uri": "https://localhost:8080/"
        },
        "id": "lSc0dcfETobT",
        "outputId": "bef378ba-6dde-4d4a-eea4-e626308c0cd1"
      },
      "outputs": [
        {
          "data": {
            "text/plain": [
              "array(['0', '1', '10', '100', '1000', '1001', '1002', '1003', '1004',\n",
              "       '1005', '1006', '1007', '1008', '1009', '101', '1010', '1011',\n",
              "       '1012', '1013', '1014', '1015', '1016', '1017', '1018', '1019',\n",
              "       '102', '1020', '1021', '1022', '1023', '1024', '1025', '1026',\n",
              "       '1027', '1028', '1029', '103', '1030', '1031', '1032', '1033',\n",
              "       '1034', '1035', '1036', '1037', '1038', '1039', '104', '1040',\n",
              "       '1041', '1042', '1043', '1044', '1045', '1046', '1047', '1048',\n",
              "       '1049', '105', '1050', '1051', '1052', '1053', '1054', '1055',\n",
              "       '1056', '1057', '1058', '1059', '106', '1060', '1061', '1062',\n",
              "       '1063', '1064', '1065', '1066', '1067', '1068', '1069', '107',\n",
              "       '1070', '107000', '1071', '10714', '1072', '1073', '1074', '1075',\n",
              "       '1076', '1077', '1078', '1079', '108', '1080', '1081', '1082',\n",
              "       '1083', '1084', '1085', '1086', '1087', '1088', '1089', '109',\n",
              "       '1090', '1091', '1092', '1093', '1094', '1095', '1096', '1097',\n",
              "       '1098', '1099', '11', '110', '1100', '1101', '1102', '1103',\n",
              "       '1104', '1105', '1106', '1107', '1108', '1109', '111', '1110',\n",
              "       '1111', '1112', '1113', '1114', '1115', '11158', '1116', '1117',\n",
              "       '1118', '1119', '112', '1120', '1121', '1122', '1123', '1124',\n",
              "       '1125', '11250', '1126', '1127', '1128', '1129', '113', '1130',\n",
              "       '1131', '1132', '1133', '1134', '1135', '1136', '1137', '1138',\n",
              "       '1139', '114', '1140', '1141', '1142', '1143', '1144', '1145',\n",
              "       '1146', '1147', '1148', '1149', '115', '1150', '1151', '1152',\n",
              "       '1153', '1154', '1155', '1156', '1157', '1158', '1159', '116',\n",
              "       '1160', '1161', '1162', '1163', '1164', '1165', '1166', '1167',\n",
              "       '1168', '1169', '117', '1170', '1171', '1172', '1173', '1174',\n",
              "       '1175', '1176', '1177', '1178', '1179', '118', '1180', '1181',\n",
              "       '1182', '1183', '1184', '1185', '1186', '1187', '1188', '1189',\n",
              "       '119', '1190', '1191', '1192', '1193', '1194', '1195', '1196',\n",
              "       '1197', '1198', '1199', '12', '120', '1200', '1201', '1202',\n",
              "       '1203', '1204', '1205', '1206', '1207', '1208', '1209', '121',\n",
              "       '1210', '1211', '1212', '1213', '1214', '1215', '1216', '1217',\n",
              "       '1218', '1219', '122', '1220', '1221', '1222', '1223', '1224',\n",
              "       '1225', '1226', '1227', '1228', '1229', '123', '1230', '1231',\n",
              "       '1232', '1233', '1234', '1235', '1236', '1237', '1238', '1239',\n",
              "       '124', '1240', '1241', '1242', '1243', '1244', '1245', '1246',\n",
              "       '1247', '1248', '1249', '125', '1250', '1250000', '1251', '1252',\n",
              "       '1253', '1254', '1255', '1256', '1257', '1258', '1259', '126',\n",
              "       '1260', '1261', '1262'], dtype=object)"
            ]
          },
          "execution_count": 184,
          "metadata": {},
          "output_type": "execute_result"
        }
      ],
      "source": [
        "data14['price/sqft'].sort_values().unique()[0:300]"
      ]
    },
    {
      "cell_type": "markdown",
      "metadata": {
        "id": "zGMaqAFCWFgO"
      },
      "source": [
        "Переведём признак 'price/sqft' в числовой формат."
      ]
    },
    {
      "cell_type": "code",
      "execution_count": 185,
      "metadata": {
        "id": "p44i2_ndTqvZ"
      },
      "outputs": [],
      "source": [
        "data14['price/sqft'] = data14['price/sqft'].apply(lambda x: float(x))"
      ]
    },
    {
      "cell_type": "markdown",
      "metadata": {
        "id": "bkJbzoVPWNXl"
      },
      "source": [
        "Заменим 0 на медианное значение."
      ]
    },
    {
      "cell_type": "code",
      "execution_count": 186,
      "metadata": {
        "id": "od9FyBufVW98"
      },
      "outputs": [],
      "source": [
        "data14['price/sqft'] = data14['price/sqft'].replace(0, data14['price/sqft'].median(), regex=True)"
      ]
    },
    {
      "cell_type": "code",
      "execution_count": 187,
      "metadata": {
        "colab": {
          "base_uri": "https://localhost:8080/"
        },
        "id": "mSt5RUllVvXx",
        "outputId": "18c49380-d1ee-4545-bbf3-b2f6f5b56649"
      },
      "outputs": [
        {
          "data": {
            "text/plain": [
              "151.0     65149\n",
              "125.0      1713\n",
              "128.0      1699\n",
              "121.0      1698\n",
              "123.0      1694\n",
              "          ...  \n",
              "2457.0        1\n",
              "3362.0        1\n",
              "6120.0        1\n",
              "3211.0        1\n",
              "1620.0        1\n",
              "Name: price/sqft, Length: 3027, dtype: int64"
            ]
          },
          "execution_count": 187,
          "metadata": {},
          "output_type": "execute_result"
        }
      ],
      "source": [
        "data14['price/sqft'].value_counts()"
      ]
    },
    {
      "cell_type": "markdown",
      "metadata": {
        "id": "yceMb1zgWVn-"
      },
      "source": [
        "Удалим признак 'homeFacts' за ненадобностью."
      ]
    },
    {
      "cell_type": "code",
      "execution_count": 188,
      "metadata": {
        "id": "0EaIxNKFWhpb"
      },
      "outputs": [],
      "source": [
        "data14 = data14.drop(['homeFacts'], axis=1)"
      ]
    },
    {
      "cell_type": "code",
      "execution_count": 189,
      "metadata": {
        "colab": {
          "base_uri": "https://localhost:8080/"
        },
        "id": "h3KvtNM1Wx2C",
        "outputId": "24cc4dde-3799-4f5a-8f12-32e521a1dd5b"
      },
      "outputs": [
        {
          "name": "stdout",
          "output_type": "stream",
          "text": [
            "<class 'pandas.core.frame.DataFrame'>\n",
            "RangeIndex: 373512 entries, 0 to 373511\n",
            "Data columns (total 19 columns):\n",
            " #   Column                   Non-Null Count   Dtype  \n",
            "---  ------                   --------------   -----  \n",
            " 0   status                   373512 non-null  object \n",
            " 1   baths                    373512 non-null  float64\n",
            " 2   fireplace                373512 non-null  int64  \n",
            " 3   city                     373512 non-null  object \n",
            " 4   sqft                     373512 non-null  float64\n",
            " 5   state                    373512 non-null  object \n",
            " 6   stories                  373512 non-null  float64\n",
            " 7   target                   373512 non-null  float64\n",
            " 8   pool                     373512 non-null  int64  \n",
            " 9   property_type            373512 non-null  object \n",
            " 10  school_rating            373512 non-null  float64\n",
            " 11  mean_distance_to_school  373512 non-null  float64\n",
            " 12  year_built               373512 non-null  float64\n",
            " 13  remodeling               373512 non-null  int64  \n",
            " 14  heating                  373512 non-null  object \n",
            " 15  cooling                  373512 non-null  int64  \n",
            " 16  parking                  373512 non-null  object \n",
            " 17  lotsize                  373512 non-null  float64\n",
            " 18  price/sqft               373512 non-null  float64\n",
            "dtypes: float64(9), int64(4), object(6)\n",
            "memory usage: 54.1+ MB\n"
          ]
        }
      ],
      "source": [
        "data14.info()"
      ]
    },
    {
      "cell_type": "markdown",
      "metadata": {
        "id": "w60uZgkF87m5"
      },
      "source": [
        "Предварительная обработка датасета проведена. Сохраним итоговый набор данных по именем 'data_new'."
      ]
    },
    {
      "cell_type": "code",
      "execution_count": 190,
      "metadata": {
        "id": "teODdBca9Qm5"
      },
      "outputs": [],
      "source": [
        "data_new = data14.copy()"
      ]
    },
    {
      "cell_type": "markdown",
      "metadata": {
        "id": "rTALKGNs9YC5"
      },
      "source": [
        "Посмотрим количество дубликатов в датасете и затем удалим их."
      ]
    },
    {
      "cell_type": "code",
      "execution_count": 191,
      "metadata": {
        "colab": {
          "base_uri": "https://localhost:8080/"
        },
        "id": "3PKdhog98dvl",
        "outputId": "a54a0e1e-c8d6-4d5b-9967-25edea8ca87d"
      },
      "outputs": [
        {
          "data": {
            "text/plain": [
              "2530"
            ]
          },
          "execution_count": 191,
          "metadata": {},
          "output_type": "execute_result"
        }
      ],
      "source": [
        "data_new.duplicated().sum()"
      ]
    },
    {
      "cell_type": "code",
      "execution_count": 192,
      "metadata": {
        "id": "ZSmDfehj9o8c"
      },
      "outputs": [],
      "source": [
        "data_new = data_new.drop_duplicates(ignore_index=True)"
      ]
    },
    {
      "cell_type": "code",
      "execution_count": 193,
      "metadata": {
        "colab": {
          "base_uri": "https://localhost:8080/"
        },
        "id": "UcMC14_A9vFW",
        "outputId": "c81693ee-797b-4f6b-b686-e13c7cb85b4f"
      },
      "outputs": [
        {
          "name": "stdout",
          "output_type": "stream",
          "text": [
            "<class 'pandas.core.frame.DataFrame'>\n",
            "RangeIndex: 370982 entries, 0 to 370981\n",
            "Data columns (total 19 columns):\n",
            " #   Column                   Non-Null Count   Dtype  \n",
            "---  ------                   --------------   -----  \n",
            " 0   status                   370982 non-null  object \n",
            " 1   baths                    370982 non-null  float64\n",
            " 2   fireplace                370982 non-null  int64  \n",
            " 3   city                     370982 non-null  object \n",
            " 4   sqft                     370982 non-null  float64\n",
            " 5   state                    370982 non-null  object \n",
            " 6   stories                  370982 non-null  float64\n",
            " 7   target                   370982 non-null  float64\n",
            " 8   pool                     370982 non-null  int64  \n",
            " 9   property_type            370982 non-null  object \n",
            " 10  school_rating            370982 non-null  float64\n",
            " 11  mean_distance_to_school  370982 non-null  float64\n",
            " 12  year_built               370982 non-null  float64\n",
            " 13  remodeling               370982 non-null  int64  \n",
            " 14  heating                  370982 non-null  object \n",
            " 15  cooling                  370982 non-null  int64  \n",
            " 16  parking                  370982 non-null  object \n",
            " 17  lotsize                  370982 non-null  float64\n",
            " 18  price/sqft               370982 non-null  float64\n",
            "dtypes: float64(9), int64(4), object(6)\n",
            "memory usage: 53.8+ MB\n"
          ]
        }
      ],
      "source": [
        "data_new.info()"
      ]
    },
    {
      "cell_type": "markdown",
      "metadata": {
        "id": "FV4fxyZXIM2P"
      },
      "source": [
        "Закодируем полученные строковые данные при помощи CatBoostEncoder."
      ]
    },
    {
      "cell_type": "code",
      "execution_count": 194,
      "metadata": {
        "id": "5nMOG_aOrtlt"
      },
      "outputs": [],
      "source": [
        "cat_features = data_new.select_dtypes(include=[object]).columns\n",
        "encoder = CatBoostEncoder()\n",
        "encoder.fit(data_new[cat_features], data_new['target'])\n",
        "encoded_features = encoder.transform(data_new[cat_features])"
      ]
    },
    {
      "cell_type": "markdown",
      "metadata": {
        "id": "mvBsmodDI0gG"
      },
      "source": [
        "Объединим закодированные данные с остальными данными и присвоим полученному датасету имя 'encoded_data'."
      ]
    },
    {
      "cell_type": "code",
      "execution_count": 195,
      "metadata": {
        "id": "IR2t9x6xIxMB"
      },
      "outputs": [],
      "source": [
        "encoded_data = pd.concat([data_new.drop(cat_features, axis=1), encoded_features], axis=1)"
      ]
    },
    {
      "cell_type": "markdown",
      "metadata": {
        "id": "XmLENngOInX4"
      },
      "source": [
        "Посмотрим есть ли корреляция признаков."
      ]
    },
    {
      "cell_type": "code",
      "execution_count": 196,
      "metadata": {
        "colab": {
          "base_uri": "https://localhost:8080/",
          "height": 770
        },
        "id": "BKDBzze4Co7d",
        "outputId": "4ad77760-b488-483d-aab0-392e566f6765"
      },
      "outputs": [
        {
          "data": {
            "image/png": "[encoded data removed]",
            "text/plain": [
              "<Figure size 2400x1000 with 2 Axes>"
            ]
          },
          "metadata": {},
          "output_type": "display_data"
        }
      ],
      "source": [
        "fig, axes = plt.subplots(figsize=(24, 10))\n",
        "sns.heatmap(round(encoded_data.corr(method = 'spearman'), 2), cmap = 'rainbow', annot = True);\n"
      ]
    },
    {
      "cell_type": "markdown",
      "metadata": {
        "id": "cK_HWcezJtyZ"
      },
      "source": [
        "Корреляции признаков не наблюдается. Можно оставить полученный датасет без изменений."
      ]
    },
    {
      "cell_type": "code",
      "execution_count": 197,
      "metadata": {
        "colab": {
          "base_uri": "https://localhost:8080/"
        },
        "id": "FQuPM3S_I2dQ",
        "outputId": "74d1b9c6-7757-463b-c05b-c3dd0ca325a7"
      },
      "outputs": [
        {
          "name": "stdout",
          "output_type": "stream",
          "text": [
            "<class 'pandas.core.frame.DataFrame'>\n",
            "RangeIndex: 370982 entries, 0 to 370981\n",
            "Data columns (total 19 columns):\n",
            " #   Column                   Non-Null Count   Dtype  \n",
            "---  ------                   --------------   -----  \n",
            " 0   baths                    370982 non-null  float64\n",
            " 1   fireplace                370982 non-null  int64  \n",
            " 2   sqft                     370982 non-null  float64\n",
            " 3   stories                  370982 non-null  float64\n",
            " 4   target                   370982 non-null  float64\n",
            " 5   pool                     370982 non-null  int64  \n",
            " 6   school_rating            370982 non-null  float64\n",
            " 7   mean_distance_to_school  370982 non-null  float64\n",
            " 8   year_built               370982 non-null  float64\n",
            " 9   remodeling               370982 non-null  int64  \n",
            " 10  cooling                  370982 non-null  int64  \n",
            " 11  lotsize                  370982 non-null  float64\n",
            " 12  price/sqft               370982 non-null  float64\n",
            " 13  status                   370982 non-null  float64\n",
            " 14  city                     370982 non-null  float64\n",
            " 15  state                    370982 non-null  float64\n",
            " 16  property_type            370982 non-null  float64\n",
            " 17  heating                  370982 non-null  float64\n",
            " 18  parking                  370982 non-null  float64\n",
            "dtypes: float64(15), int64(4)\n",
            "memory usage: 53.8 MB\n"
          ]
        }
      ],
      "source": [
        "encoded_data.info()"
      ]
    },
    {
      "cell_type": "code",
      "execution_count": 198,
      "metadata": {
        "colab": {
          "base_uri": "https://localhost:8080/"
        },
        "id": "rm0qYihzJ4OG",
        "outputId": "35ff2caf-b7e0-4343-fca4-3bd27179a4f4"
      },
      "outputs": [
        {
          "data": {
            "text/plain": [
              "(370982, 19)"
            ]
          },
          "execution_count": 198,
          "metadata": {},
          "output_type": "execute_result"
        }
      ],
      "source": [
        "encoded_data.shape"
      ]
    },
    {
      "cell_type": "markdown",
      "metadata": {
        "id": "QLF47j6JJ8dx"
      },
      "source": [
        "**В итоге всех манипуляций с данными мы получили набор данных размерностью 370982 строк на 19 столбцов в числовом формате, пригодный для построения предсказательной модели.**"
      ]
    },
    {
      "cell_type": "markdown",
      "metadata": {
        "id": "f7INGKRJLg_G"
      },
      "source": [
        "\n",
        "\n",
        "---\n",
        "\n"
      ]
    },
    {
      "cell_type": "markdown",
      "metadata": {
        "id": "TUor8Pb8LkaU"
      },
      "source": [
        "Перейдём к построению моделей для обучения."
      ]
    },
    {
      "cell_type": "code",
      "execution_count": 199,
      "metadata": {
        "id": "c1N3td6mHZeI"
      },
      "outputs": [],
      "source": [
        "X = encoded_data.drop('target', axis=1)\n",
        "y = encoded_data['target']\n",
        "\n",
        "X_train, X_test, y_train, y_test = model_selection.train_test_split(\n",
        "    X, y,\n",
        "    test_size=0.2,\n",
        "    random_state=42,\n",
        "    shuffle=True\n",
        ")\n",
        "\n",
        "# инициализируем стандартизатор StandardScaler\n",
        "scaler = preprocessing.StandardScaler()\n",
        "\n",
        "# кодируем исходный датасет\n",
        "X_train_scaled = scaler.fit_transform(X_train)\n",
        "\n",
        "# Преобразуем промежуточный датасет в полноценный датафрейм для визуализации\n",
        "X_train_scaled = pd.DataFrame(X_train_scaled, columns=X_train.columns)\n",
        "X_test_scaled = pd.DataFrame(scaler.transform(X_test), columns=X_test.columns)"
      ]
    },
    {
      "cell_type": "code",
      "execution_count": 200,
      "metadata": {
        "colab": {
          "base_uri": "https://localhost:8080/"
        },
        "id": "bNNKSiTnH5T-",
        "outputId": "e914c4b0-1238-41e9-db1c-d489d0733439"
      },
      "outputs": [
        {
          "name": "stdout",
          "output_type": "stream",
          "text": [
            "Train: (296785, 18)\n",
            "Test: (74197, 18)\n"
          ]
        }
      ],
      "source": [
        "print('Train:', X_train_scaled.shape)\n",
        "print('Test:', X_test_scaled.shape)"
      ]
    },
    {
      "cell_type": "markdown",
      "metadata": {
        "id": "lt1MtaiiAswm"
      },
      "source": [
        "Создадим функцию, которая будет расчитывать метрики:\n",
        "\n",
        "MAE - средняя абсолютная ошибка (целевая метрика);\n",
        "\n",
        "R2 - коэффициент детерминации."
      ]
    },
    {
      "cell_type": "code",
      "execution_count": 201,
      "metadata": {
        "id": "Rrz19BEuH-lu"
      },
      "outputs": [],
      "source": [
        "def print_metrics(y_train, y_train_predict, y_test, y_test_predict):\n",
        "    print('Train R^2: {:.1f}'.format(metrics.r2_score(y_train, y_train_predict)))\n",
        "    print('Train MAE: {:.1f}'.format(metrics.mean_absolute_error(y_train, y_train_predict)))\n",
        "    print('\\n')\n",
        "    print('Test R^2: {:.1f}'.format(metrics.r2_score(y_test, y_test_predict)))\n",
        "    print('Test MAE: {:.1f}'.format(metrics.mean_absolute_error(y_test, y_test_predict)))"
      ]
    },
    {
      "cell_type": "markdown",
      "metadata": {
        "id": "mYY7wwyZIG_b"
      },
      "source": [
        "**Линейная регрессия. Baseline**"
      ]
    },
    {
      "cell_type": "code",
      "execution_count": 202,
      "metadata": {
        "colab": {
          "base_uri": "https://localhost:8080/"
        },
        "id": "hNyheuqcIGIk",
        "outputId": "8765227b-ccb4-4bdb-bf37-21afddd7951c"
      },
      "outputs": [
        {
          "name": "stdout",
          "output_type": "stream",
          "text": [
            "Train R^2: 0.1\n",
            "Train MAE: 499692.2\n",
            "\n",
            "\n",
            "Test R^2: 0.1\n",
            "Test MAE: 491415.7\n"
          ]
        }
      ],
      "source": [
        "lr = linear_model.LinearRegression()\n",
        "lr.fit(X_train_scaled, y_train)\n",
        "\n",
        "#Делаем предсказание для каждой из выборок\n",
        "\n",
        "y_train_predict = lr.predict(X_train_scaled)\n",
        "y_test_predict = lr.predict(X_test_scaled)\n",
        "\n",
        "#Выводим результирующие метрики\n",
        "print_metrics(y_train, y_train_predict, y_test, y_test_predict)"
      ]
    },
    {
      "cell_type": "markdown",
      "metadata": {
        "id": "SlHdoidnTpp2"
      },
      "source": [
        "**Дерево решений**"
      ]
    },
    {
      "cell_type": "code",
      "execution_count": 203,
      "metadata": {
        "colab": {
          "base_uri": "https://localhost:8080/"
        },
        "id": "SHTdTdZnTJNb",
        "outputId": "e3008b99-1b84-489d-c52b-4d021b76b120"
      },
      "outputs": [
        {
          "name": "stdout",
          "output_type": "stream",
          "text": [
            "Train R^2: 0.9\n",
            "Train MAE: 20010.7\n",
            "\n",
            "\n",
            "Test R^2: 0.6\n",
            "Test MAE: 105518.8\n"
          ]
        }
      ],
      "source": [
        "model_tree = tree.DecisionTreeRegressor(random_state=42)\n",
        "model_tree.fit(X_train_scaled, y_train)\n",
        "\n",
        "y_train_predict = model_tree.predict(X_train_scaled)\n",
        "y_test_predict = model_tree.predict(X_test_scaled)\n",
        "\n",
        "print_metrics(y_train, y_train_predict, y_test, y_test_predict)"
      ]
    },
    {
      "cell_type": "code",
      "execution_count": 204,
      "metadata": {
        "colab": {
          "base_uri": "https://localhost:8080/"
        },
        "id": "ED8QaBWqT5eE",
        "outputId": "7fc78fc2-45ca-4625-fd1f-be449bd94128"
      },
      "outputs": [
        {
          "name": "stdout",
          "output_type": "stream",
          "text": [
            "Train R^2: 0.9\n",
            "Train MAE: 106515.4\n",
            "\n",
            "\n",
            "Test R^2: 0.6\n",
            "Test MAE: 128523.5\n"
          ]
        }
      ],
      "source": [
        "model_tree = tree.DecisionTreeRegressor(random_state=42, max_depth=13)\n",
        "model_tree.fit(X_train_scaled, y_train)\n",
        "\n",
        "y_train_predict = model_tree.predict(X_train_scaled)\n",
        "y_test_predict = model_tree.predict(X_test_scaled)\n",
        "\n",
        "print_metrics(y_train, y_train_predict, y_test, y_test_predict)"
      ]
    },
    {
      "cell_type": "markdown",
      "metadata": {
        "id": "lGkesypLUN_u"
      },
      "source": [
        "**Случайный лес**"
      ]
    },
    {
      "cell_type": "code",
      "execution_count": 205,
      "metadata": {
        "colab": {
          "base_uri": "https://localhost:8080/"
        },
        "id": "TfIVzlmTUNZE",
        "outputId": "8c3c0ffa-012c-4532-a820-71bf5834f5a3"
      },
      "outputs": [
        {
          "name": "stdout",
          "output_type": "stream",
          "text": [
            "Train R^2: 0.8\n",
            "Train MAE: 93365.4\n",
            "\n",
            "\n",
            "Test R^2: 0.7\n",
            "Test MAE: 103024.3\n"
          ]
        }
      ],
      "source": [
        "random_forest = ensemble.RandomForestRegressor(n_estimators=300,\n",
        "                                               max_depth=16,\n",
        "                                               min_samples_split = 20,\n",
        "                                               criterion='squared_error',\n",
        "                                               random_state=42)\n",
        "\n",
        "random_forest.fit(X_train_scaled, y_train)\n",
        "\n",
        "y_train_predict = random_forest.predict(X_train_scaled)\n",
        "y_test_predict = random_forest.predict(X_test_scaled)\n",
        "\n",
        "print_metrics(y_train, y_train_predict, y_test, y_test_predict)"
      ]
    },
    {
      "cell_type": "markdown",
      "metadata": {
        "id": "K1G7Y3fzcU5o"
      },
      "source": [
        "**Адаптивный бустинг**"
      ]
    },
    {
      "cell_type": "code",
      "execution_count": 206,
      "metadata": {
        "colab": {
          "base_uri": "https://localhost:8080/"
        },
        "id": "_f2iGC_KcV_Y",
        "outputId": "6084df1d-a848-4f2f-ab01-baedc20a27a3"
      },
      "outputs": [
        {
          "name": "stdout",
          "output_type": "stream",
          "text": [
            "Train R^2: 0.6\n",
            "Train MAE: 422833.1\n",
            "\n",
            "\n",
            "Test R^2: 0.6\n",
            "Test MAE: 417595.7\n"
          ]
        }
      ],
      "source": [
        "dt = tree.DecisionTreeRegressor(\n",
        "    max_depth=3, #максимальная глубина дерева\n",
        "    random_state=42 #датчик генератора случайных чисел\n",
        ")\n",
        "# Создаем объект класса AdaBoost\n",
        "ada = AdaBoostRegressor(\n",
        "    base_estimator=dt,\n",
        "    random_state=42, #датчик генератора случайных чисел\n",
        "    n_estimators=50, #количество моделей в ансамбле\n",
        "    learning_rate=0.02\n",
        ")\n",
        "\n",
        "ada.fit(X_train_scaled, y_train)\n",
        "\n",
        "y_train_predict  = ada.predict(X_train_scaled)\n",
        "y_test_predict = ada.predict(X_test_scaled)\n",
        "\n",
        "print_metrics(y_train, y_train_predict, y_test, y_test_predict)"
      ]
    },
    {
      "cell_type": "markdown",
      "metadata": {
        "id": "QxVLx1oSdt_Z"
      },
      "source": [
        "**Градиентный бустинг**"
      ]
    },
    {
      "cell_type": "code",
      "execution_count": 207,
      "metadata": {
        "colab": {
          "base_uri": "https://localhost:8080/"
        },
        "id": "CCP7QjD7dzUl",
        "outputId": "385c9186-1ee4-43ea-86d3-dd8867be1aa0"
      },
      "outputs": [
        {
          "name": "stdout",
          "output_type": "stream",
          "text": [
            "Train R^2: 0.9\n",
            "Train MAE: 57980.8\n",
            "\n",
            "\n",
            "Test R^2: 0.7\n",
            "Test MAE: 95406.0\n"
          ]
        }
      ],
      "source": [
        "gb = GradientBoostingRegressor(\n",
        "    max_depth=13, #максимальная глубина дерева\n",
        "    n_estimators=500, #количество деревьев в ансамбле\n",
        "    random_state=42, #генератор случайных чисел\n",
        "    learning_rate=0.02\n",
        ")\n",
        "\n",
        "gb.fit(X_train_scaled, y_train)\n",
        "\n",
        "y_train_predict  = gb.predict(X_train_scaled)\n",
        "y_test_predict = gb.predict(X_test_scaled)\n",
        "\n",
        "print_metrics(y_train, y_train_predict, y_test, y_test_predict)"
      ]
    },
    {
      "cell_type": "markdown",
      "metadata": {
        "id": "94dlNi2LDmKg"
      },
      "source": [
        "Покажем признаки, оказывающие наибольшее влияние на градиентный бустинг."
      ]
    },
    {
      "cell_type": "code",
      "execution_count": 208,
      "metadata": {
        "colab": {
          "base_uri": "https://localhost:8080/",
          "height": 539
        },
        "id": "oCCd26p6w5Pa",
        "outputId": "6dce3468-f1ad-41bb-d97d-569ce36cc7b1"
      },
      "outputs": [
        {
          "data": {
            "text/plain": [
              "<AxesSubplot: >"
            ]
          },
          "execution_count": 208,
          "metadata": {},
          "output_type": "execute_result"
        },
        {
          "data": {
            "image/png": "[encoded data removed]",
            "text/plain": [
              "<Figure size 1200x600 with 1 Axes>"
            ]
          },
          "metadata": {},
          "output_type": "display_data"
        }
      ],
      "source": [
        "plt.rcParams['figure.figsize'] = (12,6)\n",
        "feat_importances = pd.Series(gb.feature_importances_, index=X_train.columns)\n",
        "feat_importances.nlargest(10).plot(kind='barh')"
      ]
    },
    {
      "cell_type": "markdown",
      "metadata": {
        "id": "dr2z3o3Qu3T9"
      },
      "source": [
        "**CatBoost**"
      ]
    },
    {
      "cell_type": "code",
      "execution_count": 209,
      "metadata": {
        "colab": {
          "base_uri": "https://localhost:8080/"
        },
        "id": "W_bstAptu2RE",
        "outputId": "5387a771-a7f7-46fc-c27c-564f79ac4668"
      },
      "outputs": [
        {
          "name": "stdout",
          "output_type": "stream",
          "text": [
            "Train R^2: 0.9\n",
            "Train MAE: 123074.2\n",
            "\n",
            "\n",
            "Test R^2: 0.7\n",
            "Test MAE: 136978.4\n"
          ]
        }
      ],
      "source": [
        "catmodel = CatBoostRegressor(random_state=42, verbose=False)\n",
        "catmodel.fit(X_train_scaled, y_train)\n",
        "\n",
        "y_train_predict  = catmodel.predict(X_train_scaled)\n",
        "y_test_predict = catmodel.predict(X_test_scaled)\n",
        "\n",
        "print_metrics(y_train, y_train_predict, y_test, y_test_predict)"
      ]
    },
    {
      "cell_type": "markdown",
      "metadata": {
        "id": "qfjVKP0-X4r1"
      },
      "source": [
        "В итоге наилучший результат показывает моделирование при помощи градиентного бустинга. Метрика R2 показала наименьший коэффициент 0,778, а средняя абсолютная ошибка (МАЕ) составила 95533.5$ - наименьший результат среди всех испробованных моделей.\n",
        "\n",
        "Полученный результат нельзя назвать оптимальным, для улучшения показателей можно провести более тщательную очистку данных, а также попробовать поискать дополнительные закономерности в данных."
      ]
    },
    {
      "cell_type": "markdown",
      "metadata": {
        "id": "yYgoGGA_j6w6"
      },
      "source": [
        "**Подготовка модели к выпуску в эксплуатацию**"
      ]
    },
    {
      "cell_type": "code",
      "execution_count": 210,
      "metadata": {
        "id": "k6YSgf_evkx4"
      },
      "outputs": [],
      "source": [
        "cols = data_new.drop(['target'],axis=1).columns"
      ]
    },
    {
      "cell_type": "code",
      "execution_count": 211,
      "metadata": {
        "colab": {
          "base_uri": "https://localhost:8080/",
          "height": 565
        },
        "id": "cJT8Vm3wTCZ1",
        "outputId": "0ceaff10-f4a9-4a9c-cd2b-c40bc77066f0"
      },
      "outputs": [
        {
          "data": {
            "text/html": [
              "<div>\n",
              "<style scoped>\n",
              "    .dataframe tbody tr th:only-of-type {\n",
              "        vertical-align: middle;\n",
              "    }\n",
              "\n",
              "    .dataframe tbody tr th {\n",
              "        vertical-align: top;\n",
              "    }\n",
              "\n",
              "    .dataframe thead th {\n",
              "        text-align: right;\n",
              "    }\n",
              "</style>\n",
              "<table border=\"1\" class=\"dataframe\">\n",
              "  <thead>\n",
              "    <tr style=\"text-align: right;\">\n",
              "      <th></th>\n",
              "      <th>status</th>\n",
              "      <th>baths</th>\n",
              "      <th>fireplace</th>\n",
              "      <th>city</th>\n",
              "      <th>sqft</th>\n",
              "      <th>state</th>\n",
              "      <th>stories</th>\n",
              "      <th>target</th>\n",
              "      <th>pool</th>\n",
              "      <th>property_type</th>\n",
              "      <th>school_rating</th>\n",
              "      <th>mean_distance_to_school</th>\n",
              "      <th>year_built</th>\n",
              "      <th>remodeling</th>\n",
              "      <th>heating</th>\n",
              "      <th>cooling</th>\n",
              "      <th>parking</th>\n",
              "      <th>lotsize</th>\n",
              "      <th>price/sqft</th>\n",
              "    </tr>\n",
              "  </thead>\n",
              "  <tbody>\n",
              "    <tr>\n",
              "      <th>0</th>\n",
              "      <td>active</td>\n",
              "      <td>3.5</td>\n",
              "      <td>1</td>\n",
              "      <td>others</td>\n",
              "      <td>2900.0</td>\n",
              "      <td>NC</td>\n",
              "      <td>1.0</td>\n",
              "      <td>418000.0</td>\n",
              "      <td>0</td>\n",
              "      <td>single-family home</td>\n",
              "      <td>5.20</td>\n",
              "      <td>5.54</td>\n",
              "      <td>2019.0</td>\n",
              "      <td>0</td>\n",
              "      <td>other</td>\n",
              "      <td>0</td>\n",
              "      <td>other</td>\n",
              "      <td>6250.0</td>\n",
              "      <td>144.0</td>\n",
              "    </tr>\n",
              "    <tr>\n",
              "      <th>1</th>\n",
              "      <td>for sale</td>\n",
              "      <td>3.0</td>\n",
              "      <td>0</td>\n",
              "      <td>others</td>\n",
              "      <td>1947.0</td>\n",
              "      <td>WA</td>\n",
              "      <td>2.0</td>\n",
              "      <td>310000.0</td>\n",
              "      <td>0</td>\n",
              "      <td>single-family home</td>\n",
              "      <td>4.00</td>\n",
              "      <td>1.33</td>\n",
              "      <td>2019.0</td>\n",
              "      <td>0</td>\n",
              "      <td>other</td>\n",
              "      <td>0</td>\n",
              "      <td>other</td>\n",
              "      <td>5828.0</td>\n",
              "      <td>159.0</td>\n",
              "    </tr>\n",
              "    <tr>\n",
              "      <th>2</th>\n",
              "      <td>for sale</td>\n",
              "      <td>2.0</td>\n",
              "      <td>1</td>\n",
              "      <td>others</td>\n",
              "      <td>3000.0</td>\n",
              "      <td>CA</td>\n",
              "      <td>1.0</td>\n",
              "      <td>2895000.0</td>\n",
              "      <td>1</td>\n",
              "      <td>single-family home</td>\n",
              "      <td>6.67</td>\n",
              "      <td>1.96</td>\n",
              "      <td>1961.0</td>\n",
              "      <td>1</td>\n",
              "      <td>forced air</td>\n",
              "      <td>1</td>\n",
              "      <td>garage</td>\n",
              "      <td>8626.0</td>\n",
              "      <td>965.0</td>\n",
              "    </tr>\n",
              "    <tr>\n",
              "      <th>3</th>\n",
              "      <td>for sale</td>\n",
              "      <td>2.0</td>\n",
              "      <td>1</td>\n",
              "      <td>dallas</td>\n",
              "      <td>6457.0</td>\n",
              "      <td>TX</td>\n",
              "      <td>3.0</td>\n",
              "      <td>2395000.0</td>\n",
              "      <td>0</td>\n",
              "      <td>single-family home</td>\n",
              "      <td>9.25</td>\n",
              "      <td>0.75</td>\n",
              "      <td>2006.0</td>\n",
              "      <td>1</td>\n",
              "      <td>forced air</td>\n",
              "      <td>1</td>\n",
              "      <td>garage</td>\n",
              "      <td>8220.0</td>\n",
              "      <td>371.0</td>\n",
              "    </tr>\n",
              "    <tr>\n",
              "      <th>4</th>\n",
              "      <td>for sale</td>\n",
              "      <td>2.0</td>\n",
              "      <td>0</td>\n",
              "      <td>others</td>\n",
              "      <td>1656.0</td>\n",
              "      <td>FL</td>\n",
              "      <td>1.0</td>\n",
              "      <td>5000.0</td>\n",
              "      <td>0</td>\n",
              "      <td>land</td>\n",
              "      <td>4.67</td>\n",
              "      <td>4.08</td>\n",
              "      <td>1979.0</td>\n",
              "      <td>0</td>\n",
              "      <td>other</td>\n",
              "      <td>0</td>\n",
              "      <td>other</td>\n",
              "      <td>10019.0</td>\n",
              "      <td>151.0</td>\n",
              "    </tr>\n",
              "    <tr>\n",
              "      <th>...</th>\n",
              "      <td>...</td>\n",
              "      <td>...</td>\n",
              "      <td>...</td>\n",
              "      <td>...</td>\n",
              "      <td>...</td>\n",
              "      <td>...</td>\n",
              "      <td>...</td>\n",
              "      <td>...</td>\n",
              "      <td>...</td>\n",
              "      <td>...</td>\n",
              "      <td>...</td>\n",
              "      <td>...</td>\n",
              "      <td>...</td>\n",
              "      <td>...</td>\n",
              "      <td>...</td>\n",
              "      <td>...</td>\n",
              "      <td>...</td>\n",
              "      <td>...</td>\n",
              "      <td>...</td>\n",
              "    </tr>\n",
              "    <tr>\n",
              "      <th>370977</th>\n",
              "      <td>for sale</td>\n",
              "      <td>6.0</td>\n",
              "      <td>0</td>\n",
              "      <td>miami</td>\n",
              "      <td>4017.0</td>\n",
              "      <td>FL</td>\n",
              "      <td>0.0</td>\n",
              "      <td>1249000.0</td>\n",
              "      <td>1</td>\n",
              "      <td>single-family home</td>\n",
              "      <td>7.50</td>\n",
              "      <td>16.60</td>\n",
              "      <td>1990.0</td>\n",
              "      <td>1</td>\n",
              "      <td>other</td>\n",
              "      <td>1</td>\n",
              "      <td>2 spaces</td>\n",
              "      <td>8500.0</td>\n",
              "      <td>311.0</td>\n",
              "    </tr>\n",
              "    <tr>\n",
              "      <th>370978</th>\n",
              "      <td>unknown</td>\n",
              "      <td>3.0</td>\n",
              "      <td>0</td>\n",
              "      <td>chicago</td>\n",
              "      <td>2000.0</td>\n",
              "      <td>IL</td>\n",
              "      <td>9.0</td>\n",
              "      <td>674999.0</td>\n",
              "      <td>0</td>\n",
              "      <td>condo</td>\n",
              "      <td>4.33</td>\n",
              "      <td>4.14</td>\n",
              "      <td>1924.0</td>\n",
              "      <td>0</td>\n",
              "      <td>other</td>\n",
              "      <td>0</td>\n",
              "      <td>other</td>\n",
              "      <td>6250.0</td>\n",
              "      <td>337.0</td>\n",
              "    </tr>\n",
              "    <tr>\n",
              "      <th>370979</th>\n",
              "      <td>for sale</td>\n",
              "      <td>3.0</td>\n",
              "      <td>0</td>\n",
              "      <td>others</td>\n",
              "      <td>1152.0</td>\n",
              "      <td>NY</td>\n",
              "      <td>2.0</td>\n",
              "      <td>528000.0</td>\n",
              "      <td>0</td>\n",
              "      <td>single-family home</td>\n",
              "      <td>4.50</td>\n",
              "      <td>0.60</td>\n",
              "      <td>1950.0</td>\n",
              "      <td>1</td>\n",
              "      <td>other</td>\n",
              "      <td>0</td>\n",
              "      <td>2 spaces</td>\n",
              "      <td>1600.0</td>\n",
              "      <td>458.0</td>\n",
              "    </tr>\n",
              "    <tr>\n",
              "      <th>370980</th>\n",
              "      <td>for sale</td>\n",
              "      <td>2.0</td>\n",
              "      <td>0</td>\n",
              "      <td>houston</td>\n",
              "      <td>1656.0</td>\n",
              "      <td>TX</td>\n",
              "      <td>1.0</td>\n",
              "      <td>34500.0</td>\n",
              "      <td>0</td>\n",
              "      <td>others</td>\n",
              "      <td>5.17</td>\n",
              "      <td>1.23</td>\n",
              "      <td>1979.0</td>\n",
              "      <td>0</td>\n",
              "      <td>other</td>\n",
              "      <td>0</td>\n",
              "      <td>other</td>\n",
              "      <td>6250.0</td>\n",
              "      <td>151.0</td>\n",
              "    </tr>\n",
              "    <tr>\n",
              "      <th>370981</th>\n",
              "      <td>unknown</td>\n",
              "      <td>2.0</td>\n",
              "      <td>0</td>\n",
              "      <td>san antonio</td>\n",
              "      <td>1462.0</td>\n",
              "      <td>TX</td>\n",
              "      <td>1.0</td>\n",
              "      <td>204900.0</td>\n",
              "      <td>0</td>\n",
              "      <td>single-family home</td>\n",
              "      <td>4.00</td>\n",
              "      <td>1.83</td>\n",
              "      <td>2019.0</td>\n",
              "      <td>0</td>\n",
              "      <td>electric</td>\n",
              "      <td>1</td>\n",
              "      <td>other</td>\n",
              "      <td>6969.0</td>\n",
              "      <td>140.0</td>\n",
              "    </tr>\n",
              "  </tbody>\n",
              "</table>\n",
              "<p>370982 rows × 19 columns</p>\n",
              "</div>"
            ],
            "text/plain": [
              "          status  baths  fireplace         city    sqft state  stories  \\\n",
              "0         active    3.5          1       others  2900.0    NC      1.0   \n",
              "1       for sale    3.0          0       others  1947.0    WA      2.0   \n",
              "2       for sale    2.0          1       others  3000.0    CA      1.0   \n",
              "3       for sale    2.0          1       dallas  6457.0    TX      3.0   \n",
              "4       for sale    2.0          0       others  1656.0    FL      1.0   \n",
              "...          ...    ...        ...          ...     ...   ...      ...   \n",
              "370977  for sale    6.0          0        miami  4017.0    FL      0.0   \n",
              "370978   unknown    3.0          0      chicago  2000.0    IL      9.0   \n",
              "370979  for sale    3.0          0       others  1152.0    NY      2.0   \n",
              "370980  for sale    2.0          0      houston  1656.0    TX      1.0   \n",
              "370981   unknown    2.0          0  san antonio  1462.0    TX      1.0   \n",
              "\n",
              "           target  pool       property_type  school_rating  \\\n",
              "0        418000.0     0  single-family home           5.20   \n",
              "1        310000.0     0  single-family home           4.00   \n",
              "2       2895000.0     1  single-family home           6.67   \n",
              "3       2395000.0     0  single-family home           9.25   \n",
              "4          5000.0     0                land           4.67   \n",
              "...           ...   ...                 ...            ...   \n",
              "370977  1249000.0     1  single-family home           7.50   \n",
              "370978   674999.0     0               condo           4.33   \n",
              "370979   528000.0     0  single-family home           4.50   \n",
              "370980    34500.0     0              others           5.17   \n",
              "370981   204900.0     0  single-family home           4.00   \n",
              "\n",
              "        mean_distance_to_school  year_built  remodeling     heating  cooling  \\\n",
              "0                          5.54      2019.0           0       other        0   \n",
              "1                          1.33      2019.0           0       other        0   \n",
              "2                          1.96      1961.0           1  forced air        1   \n",
              "3                          0.75      2006.0           1  forced air        1   \n",
              "4                          4.08      1979.0           0       other        0   \n",
              "...                         ...         ...         ...         ...      ...   \n",
              "370977                    16.60      1990.0           1       other        1   \n",
              "370978                     4.14      1924.0           0       other        0   \n",
              "370979                     0.60      1950.0           1       other        0   \n",
              "370980                     1.23      1979.0           0       other        0   \n",
              "370981                     1.83      2019.0           0    electric        1   \n",
              "\n",
              "         parking  lotsize  price/sqft  \n",
              "0          other   6250.0       144.0  \n",
              "1          other   5828.0       159.0  \n",
              "2         garage   8626.0       965.0  \n",
              "3         garage   8220.0       371.0  \n",
              "4          other  10019.0       151.0  \n",
              "...          ...      ...         ...  \n",
              "370977  2 spaces   8500.0       311.0  \n",
              "370978     other   6250.0       337.0  \n",
              "370979  2 spaces   1600.0       458.0  \n",
              "370980     other   6250.0       151.0  \n",
              "370981     other   6969.0       140.0  \n",
              "\n",
              "[370982 rows x 19 columns]"
            ]
          },
          "execution_count": 211,
          "metadata": {},
          "output_type": "execute_result"
        }
      ],
      "source": [
        "data_new"
      ]
    },
    {
      "cell_type": "code",
      "execution_count": 212,
      "metadata": {
        "id": "Xs6BTUbtawI0"
      },
      "outputs": [],
      "source": [
        "pipe = Pipeline([\n",
        "  ('CatBoostEncoder', encoder),\n",
        "  ('MinMaxScaler', scaler),\n",
        "  ('GradientBoostingRegressor', gb)\n",
        "  ])"
      ]
    },
    {
      "cell_type": "code",
      "execution_count": 213,
      "metadata": {
        "id": "rXvI1BxKkaol"
      },
      "outputs": [],
      "source": [
        "X_p = data_new.drop(['target'], axis=1)\n",
        "y_p = data_new['target']"
      ]
    },
    {
      "cell_type": "code",
      "execution_count": 214,
      "metadata": {
        "colab": {
          "base_uri": "https://localhost:8080/",
          "height": 265
        },
        "id": "vZ0uz26pkkwu",
        "outputId": "5de82828-7f82-4b94-f78e-4f739008f779"
      },
      "outputs": [
        {
          "data": {
            "text/html": [
              "<style>#sk-container-id-1 {color: black;background-color: white;}#sk-container-id-1 pre{padding: 0;}#sk-container-id-1 div.sk-toggleable {background-color: white;}#sk-container-id-1 label.sk-toggleable__label {cursor: pointer;display: block;width: 100%;margin-bottom: 0;padding: 0.3em;box-sizing: border-box;text-align: center;}#sk-container-id-1 label.sk-toggleable__label-arrow:before {content: \"▸\";float: left;margin-right: 0.25em;color: #696969;}#sk-container-id-1 label.sk-toggleable__label-arrow:hover:before {color: black;}#sk-container-id-1 div.sk-estimator:hover label.sk-toggleable__label-arrow:before {color: black;}#sk-container-id-1 div.sk-toggleable__content {max-height: 0;max-width: 0;overflow: hidden;text-align: left;background-color: #f0f8ff;}#sk-container-id-1 div.sk-toggleable__content pre {margin: 0.2em;color: black;border-radius: 0.25em;background-color: #f0f8ff;}#sk-container-id-1 input.sk-toggleable__control:checked~div.sk-toggleable__content {max-height: 200px;max-width: 100%;overflow: auto;}#sk-container-id-1 input.sk-toggleable__control:checked~label.sk-toggleable__label-arrow:before {content: \"▾\";}#sk-container-id-1 div.sk-estimator input.sk-toggleable__control:checked~label.sk-toggleable__label {background-color: #d4ebff;}#sk-container-id-1 div.sk-label input.sk-toggleable__control:checked~label.sk-toggleable__label {background-color: #d4ebff;}#sk-container-id-1 input.sk-hidden--visually {border: 0;clip: rect(1px 1px 1px 1px);clip: rect(1px, 1px, 1px, 1px);height: 1px;margin: -1px;overflow: hidden;padding: 0;position: absolute;width: 1px;}#sk-container-id-1 div.sk-estimator {font-family: monospace;background-color: #f0f8ff;border: 1px dotted black;border-radius: 0.25em;box-sizing: border-box;margin-bottom: 0.5em;}#sk-container-id-1 div.sk-estimator:hover {background-color: #d4ebff;}#sk-container-id-1 div.sk-parallel-item::after {content: \"\";width: 100%;border-bottom: 1px solid gray;flex-grow: 1;}#sk-container-id-1 div.sk-label:hover label.sk-toggleable__label {background-color: #d4ebff;}#sk-container-id-1 div.sk-serial::before {content: \"\";position: absolute;border-left: 1px solid gray;box-sizing: border-box;top: 0;bottom: 0;left: 50%;z-index: 0;}#sk-container-id-1 div.sk-serial {display: flex;flex-direction: column;align-items: center;background-color: white;padding-right: 0.2em;padding-left: 0.2em;position: relative;}#sk-container-id-1 div.sk-item {position: relative;z-index: 1;}#sk-container-id-1 div.sk-parallel {display: flex;align-items: stretch;justify-content: center;background-color: white;position: relative;}#sk-container-id-1 div.sk-item::before, #sk-container-id-1 div.sk-parallel-item::before {content: \"\";position: absolute;border-left: 1px solid gray;box-sizing: border-box;top: 0;bottom: 0;left: 50%;z-index: -1;}#sk-container-id-1 div.sk-parallel-item {display: flex;flex-direction: column;z-index: 1;position: relative;background-color: white;}#sk-container-id-1 div.sk-parallel-item:first-child::after {align-self: flex-end;width: 50%;}#sk-container-id-1 div.sk-parallel-item:last-child::after {align-self: flex-start;width: 50%;}#sk-container-id-1 div.sk-parallel-item:only-child::after {width: 0;}#sk-container-id-1 div.sk-dashed-wrapped {border: 1px dashed gray;margin: 0 0.4em 0.5em 0.4em;box-sizing: border-box;padding-bottom: 0.4em;background-color: white;}#sk-container-id-1 div.sk-label label {font-family: monospace;font-weight: bold;display: inline-block;line-height: 1.2em;}#sk-container-id-1 div.sk-label-container {text-align: center;}#sk-container-id-1 div.sk-container {/* jupyter's `normalize.less` sets `[hidden] { display: none; }` but bootstrap.min.css set `[hidden] { display: none !important; }` so we also need the `!important` here to be able to override the default hidden behavior on the sphinx rendered scikit-learn.org. See: https://github.com/scikit-learn/scikit-learn/issues/21755 */display: inline-block !important;position: relative;}#sk-container-id-1 div.sk-text-repr-fallback {display: none;}</style><div id=\"sk-container-id-1\" class=\"sk-top-container\"><div class=\"sk-text-repr-fallback\"><pre>Pipeline(steps=[(&#x27;CatBoostEncoder&#x27;,\n",
              "                 CatBoostEncoder(cols=[&#x27;status&#x27;, &#x27;city&#x27;, &#x27;state&#x27;,\n",
              "                                       &#x27;property_type&#x27;, &#x27;heating&#x27;,\n",
              "                                       &#x27;parking&#x27;])),\n",
              "                (&#x27;MinMaxScaler&#x27;, StandardScaler()),\n",
              "                (&#x27;GradientBoostingRegressor&#x27;,\n",
              "                 GradientBoostingRegressor(learning_rate=0.02, max_depth=13,\n",
              "                                           n_estimators=500,\n",
              "                                           random_state=42))])</pre><b>In a Jupyter environment, please rerun this cell to show the HTML representation or trust the notebook. <br />On GitHub, the HTML representation is unable to render, please try loading this page with nbviewer.org.</b></div><div class=\"sk-container\" hidden><div class=\"sk-item sk-dashed-wrapped\"><div class=\"sk-label-container\"><div class=\"sk-label sk-toggleable\"><input class=\"sk-toggleable__control sk-hidden--visually\" id=\"sk-estimator-id-1\" type=\"checkbox\" ><label for=\"sk-estimator-id-1\" class=\"sk-toggleable__label sk-toggleable__label-arrow\">Pipeline</label><div class=\"sk-toggleable__content\"><pre>Pipeline(steps=[(&#x27;CatBoostEncoder&#x27;,\n",
              "                 CatBoostEncoder(cols=[&#x27;status&#x27;, &#x27;city&#x27;, &#x27;state&#x27;,\n",
              "                                       &#x27;property_type&#x27;, &#x27;heating&#x27;,\n",
              "                                       &#x27;parking&#x27;])),\n",
              "                (&#x27;MinMaxScaler&#x27;, StandardScaler()),\n",
              "                (&#x27;GradientBoostingRegressor&#x27;,\n",
              "                 GradientBoostingRegressor(learning_rate=0.02, max_depth=13,\n",
              "                                           n_estimators=500,\n",
              "                                           random_state=42))])</pre></div></div></div><div class=\"sk-serial\"><div class=\"sk-item\"><div class=\"sk-estimator sk-toggleable\"><input class=\"sk-toggleable__control sk-hidden--visually\" id=\"sk-estimator-id-2\" type=\"checkbox\" ><label for=\"sk-estimator-id-2\" class=\"sk-toggleable__label sk-toggleable__label-arrow\">CatBoostEncoder</label><div class=\"sk-toggleable__content\"><pre>CatBoostEncoder(cols=[&#x27;status&#x27;, &#x27;city&#x27;, &#x27;state&#x27;, &#x27;property_type&#x27;, &#x27;heating&#x27;,\n",
              "                      &#x27;parking&#x27;])</pre></div></div></div><div class=\"sk-item\"><div class=\"sk-estimator sk-toggleable\"><input class=\"sk-toggleable__control sk-hidden--visually\" id=\"sk-estimator-id-3\" type=\"checkbox\" ><label for=\"sk-estimator-id-3\" class=\"sk-toggleable__label sk-toggleable__label-arrow\">StandardScaler</label><div class=\"sk-toggleable__content\"><pre>StandardScaler()</pre></div></div></div><div class=\"sk-item\"><div class=\"sk-estimator sk-toggleable\"><input class=\"sk-toggleable__control sk-hidden--visually\" id=\"sk-estimator-id-4\" type=\"checkbox\" ><label for=\"sk-estimator-id-4\" class=\"sk-toggleable__label sk-toggleable__label-arrow\">GradientBoostingRegressor</label><div class=\"sk-toggleable__content\"><pre>GradientBoostingRegressor(learning_rate=0.02, max_depth=13, n_estimators=500,\n",
              "                          random_state=42)</pre></div></div></div></div></div></div></div>"
            ],
            "text/plain": [
              "Pipeline(steps=[('CatBoostEncoder',\n",
              "                 CatBoostEncoder(cols=['status', 'city', 'state',\n",
              "                                       'property_type', 'heating',\n",
              "                                       'parking'])),\n",
              "                ('MinMaxScaler', StandardScaler()),\n",
              "                ('GradientBoostingRegressor',\n",
              "                 GradientBoostingRegressor(learning_rate=0.02, max_depth=13,\n",
              "                                           n_estimators=500,\n",
              "                                           random_state=42))])"
            ]
          },
          "execution_count": 214,
          "metadata": {},
          "output_type": "execute_result"
        }
      ],
      "source": [
        "pipe.fit(X_p, y_p)"
      ]
    },
    {
      "cell_type": "markdown",
      "metadata": {
        "id": "H8hfRASS2OSD"
      },
      "source": [
        "Пайплайн обучен. Сериализуем его в файл с помощью pickle."
      ]
    },
    {
      "cell_type": "code",
      "execution_count": 215,
      "metadata": {
        "id": "THdhNUHf1Enc"
      },
      "outputs": [],
      "source": [
        "with open('final_pipeline.pkl', 'wb') as output:\n",
        "    pickle.dump(pipe, output)"
      ]
    },
    {
      "cell_type": "markdown",
      "metadata": {
        "id": "kodry6V92wae"
      },
      "source": [
        "Проверим работает ли десериалилизация из файла."
      ]
    },
    {
      "cell_type": "code",
      "execution_count": 216,
      "metadata": {
        "id": "2iUOQoCA1TU4"
      },
      "outputs": [],
      "source": [
        "with open('final_pipeline.pkl', 'rb') as pkl_file:\n",
        "    loaded_pipe = pickle.load(pkl_file)"
      ]
    },
    {
      "cell_type": "markdown",
      "metadata": {
        "id": "-roxNC7q3CZ0"
      },
      "source": [
        "Проверим идентичны ли файлы исходного и десериализованного пайплайнов."
      ]
    },
    {
      "cell_type": "code",
      "execution_count": 217,
      "metadata": {
        "colab": {
          "base_uri": "https://localhost:8080/"
        },
        "id": "fOA5OT_d1oDX",
        "outputId": "43d35626-5182-441f-bb42-bf3c50010208"
      },
      "outputs": [
        {
          "name": "stdout",
          "output_type": "stream",
          "text": [
            "True\n"
          ]
        }
      ],
      "source": [
        "print(all(pipe.predict(X_p) == loaded_pipe.predict(X_p)))"
      ]
    },
    {
      "cell_type": "markdown",
      "metadata": {
        "id": "R3jj8lLVXic9"
      },
      "source": [
        "Сделаем пробное предсказание по заданным параметрам."
      ]
    },
    {
      "cell_type": "code",
      "execution_count": 218,
      "metadata": {
        "id": "o9NCDaeuCUIq"
      },
      "outputs": [],
      "source": [
        "request = ['active', 3, 1, 'miami', 2540, 'FL', 3, 0, 'townhouse', 4.5, 1.5, 1999, 0, 'gas', 1, '2 spaces', 15489, 255]\n",
        "req_f = pd.DataFrame([request], columns=cols)\n",
        "pred = np.round(loaded_pipe.predict(req_f), 2)"
      ]
    },
    {
      "cell_type": "code",
      "execution_count": 219,
      "metadata": {
        "colab": {
          "base_uri": "https://localhost:8080/"
        },
        "id": "D8S0hM_BJm6-",
        "outputId": "5a6591f4-86bd-4f71-8c42-f2a16997bd77"
      },
      "outputs": [
        {
          "name": "stdout",
          "output_type": "stream",
          "text": [
            "[647521.89]\n"
          ]
        }
      ],
      "source": [
        "print(pred)"
      ]
    },
    {
      "cell_type": "markdown",
      "metadata": {
        "id": "YObJDOyQXofN"
      },
      "source": [
        "Зафиксируем зависимости в файле requirements.txt."
      ]
    },
    {
      "cell_type": "code",
      "execution_count": 220,
      "metadata": {
        "id": "bqNjGdBQ7Md_"
      },
      "outputs": [
        {
          "name": "stdout",
          "output_type": "stream",
          "text": [
            "Note: you may need to restart the kernel to use updated packages.\n"
          ]
        }
      ],
      "source": [
        "pip freeze > requirements.txt"
      ]
    },
    {
      "cell_type": "markdown",
      "metadata": {
        "id": "Gnh0Gw_4XAkh"
      },
      "source": [
        "**Заключение**\n",
        "\n",
        "В итоге получена рабочая модель по предсказанию цены недвижимости по задаваемым пользователем параметрам.\n",
        "\n",
        "Файлы сервера и клиента для реализации веб-сервиса по обработке запросов прилагаются.\n",
        "\n",
        "Работу над проектом можно считать оконченой."
      ]
    }
  ],
  "metadata": {
    "colab": {
      "provenance": []
    },
    "kernelspec": {
      "display_name": "Python 3",
      "name": "python3"
    },
    "language_info": {
      "codemirror_mode": {
        "name": "ipython",
        "version": 3
      },
      "file_extension": ".py",
      "mimetype": "text/x-python",
      "name": "python",
      "nbconvert_exporter": "python",
      "pygments_lexer": "ipython3",
      "version": "3.9.10"
    }
  },
  "nbformat": 4,
  "nbformat_minor": 0
}
